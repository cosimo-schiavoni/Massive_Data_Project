{
  "cells": [
    {
      "cell_type": "markdown",
      "metadata": {
        "id": "view-in-github",
        "colab_type": "text"
      },
      "source": [
        "<a href=\"https://colab.research.google.com/github/cosimo-schiavoni/Massive_Data_Project/blob/main/Cats_Dogs_16.ipynb\" target=\"_parent\"><img src=\"https://colab.research.google.com/assets/colab-badge.svg\" alt=\"Open In Colab\"/></a>"
      ]
    },
    {
      "cell_type": "code",
      "source": [
        "!rm -rf './Cats_Dogs_data/'"
      ],
      "metadata": {
        "id": "TnkBvEbk7OdF"
      },
      "id": "TnkBvEbk7OdF",
      "execution_count": 43,
      "outputs": []
    },
    {
      "cell_type": "code",
      "source": [
        "# Keras / Deep Learning\n",
        "import tensorflow as tf\n",
        "from keras.models import Sequential\n",
        "from keras.layers.core import Dense, Dropout, Activation\n",
        "from keras import optimizers, regularizers\n",
        "#from tensorflow.keras.optimizers import Adam\n",
        "\n",
        "from functools import reduce\n",
        "from google.colab import files\n",
        "import os\n",
        "import zipfile\n",
        "import numpy as np\n",
        "\n",
        "#from my model\n",
        "import matplotlib\n",
        "import matplotlib.pyplot as plt\n",
        "import matplotlib.image as mpimg\n",
        "import keras\n",
        "from tensorflow.keras import layers\n",
        "from tensorflow.keras.models import Sequential\n",
        "from tensorflow.keras.models import Model\n",
        "import pickle\n",
        "import shutil\n",
        "import random\n",
        "import skimage.io as io\n",
        "from copy import deepcopy\n",
        "\n",
        "from os import makedirs\n",
        "from shutil import rmtree\n",
        "\n",
        "import os\n",
        "import zipfile\n",
        "from os.path import join\n",
        "from os import listdir, rmdir\n",
        "from shutil import move\n",
        "\n",
        "from PIL import Image\n",
        "\n",
        "import os\n",
        "import cv2\n",
        "import imghdr\n",
        "from PIL import Image"
      ],
      "metadata": {
        "id": "uI6gi1ZpNmIA"
      },
      "id": "uI6gi1ZpNmIA",
      "execution_count": 44,
      "outputs": []
    },
    {
      "cell_type": "code",
      "source": [
        "os.environ[\"data_source\"] = \"./Cats_Dogs_data\"\n",
        "\n",
        "if not os.path.exists(os.environ[\"data_source\"]):\n",
        "  os.makedirs(os.environ[\"data_source\"])\n",
        "  if \"download\" not in os.listdir():\n",
        "    if \"download.zip\" not in os.listdir():\n",
        "      ! wget https://unimibox.unimi.it/index.php/s/eNGYGSYmqynNMqF/download/CatsDogs.zip\n",
        "      with zipfile.ZipFile(\"CatsDogs.zip\", 'r') as f:\n",
        "        f.extractall(\"CatsDogs\")\n",
        "    os.remove(\"CatsDogs.zip\")\n",
        "\n",
        "!mv \"./CatsDogs/CatsDogs/Cats\" \"./Cats_Dogs_data\"\n",
        "!mv \"./CatsDogs/CatsDogs/Dogs\" \"./Cats_Dogs_data\"\n",
        "\n",
        "!rm -rf CatsDogs"
      ],
      "metadata": {
        "colab": {
          "base_uri": "https://localhost:8080/"
        },
        "id": "4A8XXBVUU_o_",
        "outputId": "d708cd35-dc03-4cfe-c04f-34271113b431"
      },
      "id": "4A8XXBVUU_o_",
      "execution_count": 46,
      "outputs": [
        {
          "output_type": "stream",
          "name": "stdout",
          "text": [
            "--2022-08-03 01:30:09--  https://unimibox.unimi.it/index.php/s/eNGYGSYmqynNMqF/download/CatsDogs.zip\n",
            "Resolving unimibox.unimi.it (unimibox.unimi.it)... 159.149.53.190\n",
            "Connecting to unimibox.unimi.it (unimibox.unimi.it)|159.149.53.190|:443... connected.\n",
            "HTTP request sent, awaiting response... 200 OK\n",
            "Length: unspecified [application/zip]\n",
            "Saving to: ‘CatsDogs.zip’\n",
            "\n",
            "CatsDogs.zip            [ <=>                ] 812.79M  1.88MB/s    in 2m 54s  \n",
            "\n",
            "2022-08-03 01:33:04 (4.67 MB/s) - ‘CatsDogs.zip’ saved [852272294]\n",
            "\n"
          ]
        }
      ]
    },
    {
      "cell_type": "code",
      "source": [
        "#!rm -rf Cats_Dogs_data"
      ],
      "metadata": {
        "id": "7SIR23s4FDWB"
      },
      "id": "7SIR23s4FDWB",
      "execution_count": null,
      "outputs": []
    },
    {
      "cell_type": "code",
      "source": [
        "###RGB CONVERTER\n",
        "\n",
        "def check_channels(s_dir):\n",
        "    s_list= os.listdir(s_dir)\n",
        "    for klass in s_list:\n",
        "        klass_path=os.path.join (s_dir, klass)\n",
        "        #print ('processing class directory ', klass)\n",
        "        if os.path.isdir(klass_path):\n",
        "            file_list=os.listdir(klass_path)\n",
        "            for f in file_list:     \n",
        "                try:\n",
        "                  f_path=os.path.join (klass_path,f)        \n",
        "                  im = Image.open(f_path)\n",
        "                  rgb_im = im.convert(\"RGB\")\n",
        "                  os.remove(f_path)\n",
        "                  rgb_im.save(f_path)\n",
        "                except:\n",
        "                  os.remove(f_path)\n",
        "\n",
        "source_dir =r'./Cats_Dogs_data'\n",
        "check_channels(source_dir)"
      ],
      "metadata": {
        "id": "2lA_yxUP4_PN",
        "outputId": "4943170b-1df3-4360-988f-d66b9442be29",
        "colab": {
          "base_uri": "https://localhost:8080/"
        }
      },
      "id": "2lA_yxUP4_PN",
      "execution_count": 47,
      "outputs": [
        {
          "output_type": "stream",
          "name": "stderr",
          "text": [
            "/usr/local/lib/python3.7/dist-packages/PIL/TiffImagePlugin.py:770: UserWarning: Possibly corrupt EXIF data.  Expecting to read 32 bytes but only got 0. Skipping tag 270\n",
            "  \" Skipping tag %s\" % (size, len(data), tag)\n",
            "/usr/local/lib/python3.7/dist-packages/PIL/TiffImagePlugin.py:770: UserWarning: Possibly corrupt EXIF data.  Expecting to read 5 bytes but only got 0. Skipping tag 271\n",
            "  \" Skipping tag %s\" % (size, len(data), tag)\n",
            "/usr/local/lib/python3.7/dist-packages/PIL/TiffImagePlugin.py:770: UserWarning: Possibly corrupt EXIF data.  Expecting to read 8 bytes but only got 0. Skipping tag 272\n",
            "  \" Skipping tag %s\" % (size, len(data), tag)\n",
            "/usr/local/lib/python3.7/dist-packages/PIL/TiffImagePlugin.py:770: UserWarning: Possibly corrupt EXIF data.  Expecting to read 8 bytes but only got 0. Skipping tag 282\n",
            "  \" Skipping tag %s\" % (size, len(data), tag)\n",
            "/usr/local/lib/python3.7/dist-packages/PIL/TiffImagePlugin.py:770: UserWarning: Possibly corrupt EXIF data.  Expecting to read 8 bytes but only got 0. Skipping tag 283\n",
            "  \" Skipping tag %s\" % (size, len(data), tag)\n",
            "/usr/local/lib/python3.7/dist-packages/PIL/TiffImagePlugin.py:770: UserWarning: Possibly corrupt EXIF data.  Expecting to read 20 bytes but only got 0. Skipping tag 306\n",
            "  \" Skipping tag %s\" % (size, len(data), tag)\n",
            "/usr/local/lib/python3.7/dist-packages/PIL/TiffImagePlugin.py:770: UserWarning: Possibly corrupt EXIF data.  Expecting to read 48 bytes but only got 0. Skipping tag 532\n",
            "  \" Skipping tag %s\" % (size, len(data), tag)\n",
            "/usr/local/lib/python3.7/dist-packages/PIL/TiffImagePlugin.py:788: UserWarning: Corrupt EXIF data.  Expecting to read 2 bytes but only got 0. \n",
            "  warnings.warn(str(msg))\n"
          ]
        }
      ]
    },
    {
      "cell_type": "code",
      "source": [
        "for root, dirs, files in os.walk(os.environ[\"data_source\"]):\n",
        "    if not files:\n",
        "        continue\n",
        "    prefix = os.path.basename(root)\n",
        "    for f in files:\n",
        "        os.rename(os.path.join(root, f), os.path.join(root, \"{}_{}\".format(prefix, f)))\n"
      ],
      "metadata": {
        "id": "Ex4vhokGyMAk"
      },
      "id": "Ex4vhokGyMAk",
      "execution_count": 48,
      "outputs": []
    },
    {
      "cell_type": "code",
      "source": [
        "for (root, dirs, file) in os.walk(os.environ[\"data_source\"]):\n",
        "  for d in dirs:\n",
        "    for f in files:\n",
        "      try:\n",
        "        #print(join(os.environ[\"data_source\"],d,d+'_'+f))\n",
        "        move(join(os.environ[\"data_source\"],d,d+'_'+f), join(os.environ[\"data_source\"],d+'_'+f))\n",
        "      except:\n",
        "        next\n",
        "\n",
        "\n",
        "!rm -rf \"./Cats_Dogs_data/Cats\"\n",
        "!rm -rf \"./Cats_Dogs_data/Dogs\"\n"
      ],
      "metadata": {
        "id": "wgsm7ZttFPG7"
      },
      "id": "wgsm7ZttFPG7",
      "execution_count": 49,
      "outputs": []
    },
    {
      "cell_type": "code",
      "source": [
        "list_of_fnames = os.listdir('./Cats_Dogs_data')\n",
        "print('Total number of of images in tmp/train is {0}'.format(len(list_of_fnames)))\n",
        "list_of_cats_fnames = [i for i in list_of_fnames if 'CAT' in i.upper()]\n",
        "list_of_dogs_fnames = [i for i in list_of_fnames if 'DOG' in i.upper()]\n",
        "TOTAL_CATS = len(list_of_cats_fnames)\n",
        "TOTAL_DOGS = len(list_of_dogs_fnames)\n",
        "print('{0} CATS images'.format(TOTAL_CATS))\n",
        "print('{0} DOGS images'.format(TOTAL_DOGS))"
      ],
      "metadata": {
        "id": "VACjq00TnKb6",
        "outputId": "45c311bb-28c4-4530-f2a1-b4a4eaf33dde",
        "colab": {
          "base_uri": "https://localhost:8080/"
        }
      },
      "id": "VACjq00TnKb6",
      "execution_count": 50,
      "outputs": [
        {
          "output_type": "stream",
          "name": "stdout",
          "text": [
            "Total number of of images in tmp/train is 24997\n",
            "12499 CATS images\n",
            "12498 DOGS images\n"
          ]
        }
      ]
    },
    {
      "cell_type": "code",
      "source": [
        "os.makedirs(os.path.join(os.environ[\"data_source\"], 'train//Cats'))\n",
        "os.makedirs(os.path.join(os.environ[\"data_source\"], 'test_0//Cats'))\n",
        "os.makedirs(os.path.join(os.environ[\"data_source\"], 'train//Dogs'))\n",
        "os.makedirs(os.path.join(os.environ[\"data_source\"], 'test_0//Dogs'))\n",
        "train_dir = os.path.join(os.environ[\"data_source\"], 'train')\n",
        "#test_dir = os.path.join(os.environ[\"data_source\"], 'test')\n",
        "test_dir_cats = os.path.join(os.environ[\"data_source\"], 'test_0//Cats')\n",
        "test_dir_dogs = os.path.join(os.environ[\"data_source\"], 'test_0//Dogs')\n"
      ],
      "metadata": {
        "id": "AkkslKgpOp75"
      },
      "id": "AkkslKgpOp75",
      "execution_count": 51,
      "outputs": []
    },
    {
      "cell_type": "code",
      "source": [
        "TRAIN_TEST_SPLIT_AT = 0.7\n",
        "BATCH_SIZE = 64\n",
        "TARGET_SIZE = (200, 200)\n",
        "NO_OF_EPOCHS = 1\n",
        "EXPERIMENT_SIZE = 12500\n",
        "NO_OF_FOLDS = 2"
      ],
      "metadata": {
        "id": "nqR5BTckPtkF"
      },
      "id": "nqR5BTckPtkF",
      "execution_count": 52,
      "outputs": []
    },
    {
      "cell_type": "code",
      "source": [
        "print('\\nDistributing images to \\n {0} \\n {1} \\n'\n",
        "      '\\nsuch that {2}% of total number of images goes to training and \\n'\n",
        "      '{3}% goes to test'.format(\n",
        "    train_dir,test_dir,\n",
        "    round(TRAIN_TEST_SPLIT_AT * 100),\n",
        "    round((1 - TRAIN_TEST_SPLIT_AT) * 100)))"
      ],
      "metadata": {
        "id": "N2IW5I9-Pu_5",
        "outputId": "aafd3ed1-cc48-433e-e159-d469f828ddf9",
        "colab": {
          "base_uri": "https://localhost:8080/"
        }
      },
      "id": "N2IW5I9-Pu_5",
      "execution_count": 31,
      "outputs": [
        {
          "output_type": "stream",
          "name": "stdout",
          "text": [
            "\n",
            "Distributing images to \n",
            " ./Cats_Dogs_data/train \n",
            " ./Cats_Dogs_data/test \n",
            "\n",
            "such that 70% of total number of images goes to training and \n",
            "30% goes to test\n"
          ]
        }
      ]
    },
    {
      "cell_type": "code",
      "source": [
        "from shutil import copyfile\n",
        "\n",
        "np.random.shuffle(list_of_cats_fnames)\n",
        "np.random.shuffle(list_of_dogs_fnames)\n",
        "\n",
        "tmp_train_dir = os.path.join(os.environ[\"data_source\"])\n",
        "c = 0\n",
        "n = 0\n",
        "for i in list_of_cats_fnames:\n",
        "    if c < (round(TRAIN_TEST_SPLIT_AT * EXPERIMENT_SIZE)):\n",
        "        copyfile(os.path.join(tmp_train_dir, i), os.path.join(train_dir, i))\n",
        "    else:\n",
        "      if len(os.listdir(f'./Cats_Dogs_data/test_{n}/Cats')) < 500:\n",
        "        copyfile(os.path.join(tmp_train_dir, i), os.path.join(test_dir_cats, i))\n",
        "      else:\n",
        "        n += 1\n",
        "        os.makedirs(os.path.join(os.environ[\"data_source\"], f'test_{n}//Cats'))\n",
        "        test_dir_cats = os.path.join(os.environ[\"data_source\"], f'test_{n}//Cats')\n",
        "        copyfile(os.path.join(tmp_train_dir, i), os.path.join(test_dir_cats, i))\n",
        "    c += 1\n",
        "    if c >= EXPERIMENT_SIZE:\n",
        "        break\n",
        "\n",
        "m = 0\n",
        "c = 0\n",
        "for i in list_of_dogs_fnames:\n",
        "    if c < (round(TRAIN_TEST_SPLIT_AT * EXPERIMENT_SIZE)):\n",
        "        copyfile(os.path.join(tmp_train_dir, i), os.path.join(train_dir, i))\n",
        "    else:\n",
        "      if len(os.listdir(f'./Cats_Dogs_data/test_{m}/Dogs')) < 500:\n",
        "        copyfile(os.path.join(tmp_train_dir, i), os.path.join(test_dir_dogs, i))\n",
        "      else:\n",
        "        m += 1\n",
        "        os.makedirs(os.path.join(os.environ[\"data_source\"], f'test_{m}//Dogs'))\n",
        "        test_dir_dogs = os.path.join(os.environ[\"data_source\"], f'test_{m}//Dogs')\n",
        "        copyfile(os.path.join(tmp_train_dir, i), os.path.join(test_dir_dogs, i))\n",
        "    c += 1\n",
        "    if c >= EXPERIMENT_SIZE:\n",
        "        break\n",
        "\n",
        "print('Total training images :', len(os.listdir(train_dir)))\n",
        "#print('Total test images :', len(os.listdir(test_dir)))"
      ],
      "metadata": {
        "id": "AheF0PQUQn6_",
        "outputId": "826bfa19-aa35-4059-b518-34bf7762b522",
        "colab": {
          "base_uri": "https://localhost:8080/"
        }
      },
      "id": "AheF0PQUQn6_",
      "execution_count": 54,
      "outputs": [
        {
          "output_type": "stream",
          "name": "stdout",
          "text": [
            "Total training images : 20136\n"
          ]
        }
      ]
    },
    {
      "cell_type": "code",
      "source": [
        "train_X = [img_fname for img_fname in os.listdir(train_dir)]\n",
        "train_X = np.array(train_X)\n",
        "# \n",
        "train_labels = [l.split('/')[-1].split('_')[0].strip('0123456789') for l in train_X]\n",
        "train_labels = np.array(train_labels)\n",
        "# \n",
        "print ('Training shape:', train_X.shape, train_labels.shape) \n",
        "# \n",
        "print(train_X[:5], train_labels[:5])"
      ],
      "metadata": {
        "id": "gg8eqwSfRWBF",
        "outputId": "005d1933-223d-4b53-cc89-a1780e6579fb",
        "colab": {
          "base_uri": "https://localhost:8080/"
        }
      },
      "id": "gg8eqwSfRWBF",
      "execution_count": 55,
      "outputs": [
        {
          "output_type": "stream",
          "name": "stdout",
          "text": [
            "Training shape: (20136,) (20136,)\n",
            "['Dogs_3531.jpg' 'Cats_3124.jpg' 'Dogs_3496.jpg' 'Cats_4849.jpg'\n",
            " 'Cats_5188.jpg'] ['Dogs' 'Cats' 'Dogs' 'Cats' 'Cats']\n"
          ]
        }
      ]
    },
    {
      "cell_type": "code",
      "source": [
        "def get_compiled_model():\n",
        "    # Make a simple 2-layer densely-connected neural network.\n",
        "        ###Create CNN\n",
        "    #Initialize the CNN\n",
        "    cnn = tf.keras.models.Sequential()\n",
        "     \n",
        "    \n",
        "    #DROPOUT\n",
        "    #Introduce the Convolution layer with Kernel_initializer=Sobel_x\n",
        "    #Convolution\n",
        "    cnn.add(tf.keras.layers.Conv2D(32, kernel_size=3, activation='relu',  input_shape = [200,200,3]))\n",
        "    #Pooling\n",
        "    cnn.add(tf.keras.layers.MaxPool2D(pool_size = 2, strides = 2))\n",
        "    #Convolution\n",
        "    cnn.add(tf.keras.layers.Conv2D(filters = 32, kernel_size = 3,  strides=2, activation = 'relu'))\n",
        "    #Pooling\n",
        "    cnn.add(tf.keras.layers.MaxPool2D(pool_size = 2, strides = 2))\n",
        "    #Convolution\n",
        "    cnn.add(tf.keras.layers.Conv2D(filters = 32, kernel_size = 3,  strides=2, activation = 'relu'))\n",
        "    #Pooling\n",
        "    cnn.add(tf.keras.layers.MaxPool2D(pool_size = 2, strides = 2))\n",
        "    #Flattening\n",
        "    cnn.add(tf.keras.layers.Flatten())\n",
        "    #Full Connection\n",
        "    cnn.add(tf.keras.layers.Dense(units = 256, activation = 'relu'))\n",
        "    #Output Layer\n",
        "    cnn.add(tf.keras.layers.Dense(units=1, activation = 'sigmoid'))\n",
        "    ###Training CNN\n",
        "    #Compiling the CNN\n",
        "    #cnn.compile(loss=my_loss_fn, optimizer=SGOptimizer(learning_rate=0.001))\n",
        "    cnn.compile(loss='binary_crossentropy', optimizer='adam', metrics=['accuracy'])\n",
        "    return cnn\n"
      ],
      "metadata": {
        "id": "iouQhKEX0qHn"
      },
      "id": "iouQhKEX0qHn",
      "execution_count": 56,
      "outputs": []
    },
    {
      "cell_type": "code",
      "source": [
        "from keras.preprocessing.image import ImageDataGenerator\n",
        "import sklearn.model_selection as sklrn\n",
        "import pandas as pd\n",
        "\n",
        "\n",
        "def train_and_cross_validate (model, x_data, y_data, n_folds=NO_OF_FOLDS, epochs=NO_OF_EPOCHS, batch_size=BATCH_SIZE):\n",
        "    # \n",
        "    scores = []\n",
        "    \n",
        "    #  Loading images through generators ...\n",
        "    train_datagen = ImageDataGenerator(rescale=1. / 255.,\n",
        "                                       rotation_range=40,\n",
        "                                       width_shift_range=0.2,\n",
        "                                       height_shift_range=0.2,\n",
        "                                       shear_range=0.2,\n",
        "                                       zoom_range=0.2,\n",
        "                                       horizontal_flip=True)    \n",
        "    validation_datagen = ImageDataGenerator(rescale=1. / 255)\n",
        "\n",
        "    # prepare cross validation\n",
        "    kfold = sklrn.KFold(n_folds, shuffle=True, random_state=1)\n",
        "    # enumerate splits\n",
        "    FoldsSetNo = 0 \n",
        "    for train_ix, test_ix in kfold.split(x_data):\n",
        "        print ('Folds Set # {0}'.format(FoldsSetNo))\n",
        "        # select rows for train and test\n",
        "        xx_train, yy_train, xx_test, yy_test = \\\n",
        "            x_data[train_ix], y_data[train_ix], x_data[test_ix], y_data[test_ix]\n",
        "\n",
        "     # flow training images in batches for the current folds set\n",
        "        # for training         \n",
        "        train_generator = train_datagen.flow_from_dataframe(\n",
        "            dataframe = pd.DataFrame({'id':xx_train,'label':yy_train}), \n",
        "            directory=train_dir, \n",
        "            x_col='id',\n",
        "            y_col='label',\n",
        "            batch_size=batch_size,\n",
        "            target_size=TARGET_SIZE,\n",
        "            class_mode='binary',\n",
        "            shuffle = False)\n",
        "        \n",
        "                # and for validation         \n",
        "        validation_generator = validation_datagen.flow_from_dataframe(\n",
        "            dataframe = pd.DataFrame({'id':xx_test,'label':yy_test}), \n",
        "            directory=train_dir, \n",
        "            x_col='id',\n",
        "            y_col='label',\n",
        "            batch_size=batch_size,\n",
        "            target_size=TARGET_SIZE,\n",
        "            class_mode='binary',\n",
        "            shuffle=False)\n",
        "\n",
        "\n",
        "        # fit the model\n",
        "        history = model.fit(train_generator,\n",
        "                            epochs=epochs,  # The more we train the more our model fits the data\n",
        "                            batch_size=batch_size,  # Smaller batch sizes = samller steps towards convergence\n",
        "                            validation_data=validation_generator,\n",
        "                            verbose=1)\n",
        "        # store scores\n",
        "        #scores.append({'acc':np.average(history.history['accuracy']),'val_acc':np.average(history.history['val_accuracy'])})\n",
        "        scores.append({'acc':np.average(history.history['accuracy']),'val_acc':np.average(history.history['val_accuracy']),'loss':np.average(history.history['loss']),'val_loss':np.average(history.history['val_loss'])})\n",
        "        FoldsSetNo +=1\n",
        "    return scores\n",
        "print('Starting training and k-fold cross validation ...')\n",
        "       \n"
      ],
      "metadata": {
        "id": "LVHzi9QM07nl",
        "outputId": "5ce6e35a-b759-4ada-9cbb-d861a1b412a9",
        "colab": {
          "base_uri": "https://localhost:8080/"
        }
      },
      "id": "LVHzi9QM07nl",
      "execution_count": 57,
      "outputs": [
        {
          "output_type": "stream",
          "name": "stdout",
          "text": [
            "Starting training and k-fold cross validation ...\n"
          ]
        }
      ]
    },
    {
      "cell_type": "code",
      "source": [
        "model = get_compiled_model()\n",
        "scores = train_and_cross_validate(model, train_X, train_labels)"
      ],
      "metadata": {
        "id": "vR1ikWGr_Gvt",
        "outputId": "36a41d3e-2ddb-49e0-d706-06a8bd3e68b1",
        "colab": {
          "base_uri": "https://localhost:8080/"
        }
      },
      "id": "vR1ikWGr_Gvt",
      "execution_count": 58,
      "outputs": [
        {
          "output_type": "stream",
          "name": "stdout",
          "text": [
            "Folds Set # 0\n",
            "Found 10068 validated image filenames belonging to 2 classes.\n",
            "Found 10066 validated image filenames belonging to 2 classes.\n"
          ]
        },
        {
          "output_type": "stream",
          "name": "stderr",
          "text": [
            "/usr/local/lib/python3.7/dist-packages/keras_preprocessing/image/dataframe_iterator.py:282: UserWarning: Found 2 invalid image filename(s) in x_col=\"id\". These filename(s) will be ignored.\n",
            "  .format(n_invalid, x_col)\n"
          ]
        },
        {
          "output_type": "stream",
          "name": "stdout",
          "text": [
            "158/158 [==============================] - 493s 3s/step - loss: 0.6731 - accuracy: 0.5879 - val_loss: 0.6511 - val_accuracy: 0.6294\n",
            "Folds Set # 1\n",
            "Found 10066 validated image filenames belonging to 2 classes.\n",
            "Found 10068 validated image filenames belonging to 2 classes.\n",
            "158/158 [==============================] - 437s 3s/step - loss: 0.6442 - accuracy: 0.6311 - val_loss: 0.6055 - val_accuracy: 0.6652\n"
          ]
        }
      ]
    },
    {
      "cell_type": "code",
      "source": [
        "test_X_cats = [img_fname for img_fname in os.listdir(test_dir_cats)]\n",
        "test_X_cats = np.array(test_X_cats)\n",
        "test_X_dogs = [img_fname for img_fname in os.listdir(test_dir_dogs)]\n",
        "test_X_dogs = np.array(test_X_dogs)\n",
        "# \n",
        "test_labels_cats = [l.split('/')[-1].split('_')[0].strip('0123456789') for l in test_X_cats]\n",
        "test_labels_cats = np.array(test_labels_cats)\n",
        "test_labels_dogs = [l.split('/')[-1].split('_')[0].strip('0123456789') for l in test_X_dogs]\n",
        "test_labels_dogs = np.array(test_labels_dogs)\n",
        "\n",
        "test_X = np.hstack((test_X_cats, test_X_dogs))\n",
        "test_labels = np.hstack((test_labels_cats , test_labels_dogs))\n",
        "# \n",
        "print ('Testing shape:', test_X.shape, test_labels.shape) \n",
        "# \n",
        "print(test_X[:5], test_labels[:5])"
      ],
      "metadata": {
        "id": "DavEJ7Y_xPIT",
        "outputId": "1c7e52a0-43f2-479d-9e75-eecdc72b9500",
        "colab": {
          "base_uri": "https://localhost:8080/"
        }
      },
      "id": "DavEJ7Y_xPIT",
      "execution_count": 10,
      "outputs": [
        {
          "output_type": "stream",
          "name": "stdout",
          "text": [
            "Testing shape: (7497,) (7497,)\n",
            "['Cats_3124.jpg' 'Cats_4849.jpg' 'Cats_10195.jpg' 'Cats_11465.jpg'\n",
            " 'Cats_4228.jpg'] ['Cats' 'Cats' 'Cats' 'Cats' 'Cats']\n"
          ]
        }
      ]
    },
    {
      "cell_type": "code",
      "source": [
        "test_labels_s = []\n",
        "for k in test_labels:\n",
        "    if k == 'Cats':\n",
        "        test_labels_s.append(1)\n",
        "    else:\n",
        "        test_labels_s.append(0)\n"
      ],
      "metadata": {
        "id": "x6JH_-QlyxrI"
      },
      "id": "x6JH_-QlyxrI",
      "execution_count": 11,
      "outputs": []
    },
    {
      "cell_type": "code",
      "source": [
        "from matplotlib import pyplot as plt\n",
        "\n",
        "# summarize history for accuracy\n",
        "# print(scores)\n",
        "acc = []\n",
        "val_acc = []\n",
        "loss_ = []\n",
        "val_loss_ = []\n",
        "\n",
        "for s in scores:\n",
        "    acc.append(s['acc'])\n",
        "    val_acc.append(s['val_acc'])\n",
        "    loss_.append(s['loss'])\n",
        "    val_loss_.append(s['val_loss'])    \n",
        "\n",
        "\n",
        "plt.figure(figsize=(8, 8))\n",
        "plt.subplot(2, 1, 1)\n",
        "plt.plot(acc, label='Training Accuracy', color = 'gray',linestyle='dashed')\n",
        "plt.plot(val_acc, label='Validation Accuracy', color = 'black')\n",
        "plt.ylim([0.5, 1])\n",
        "plt.legend(loc='lower right')\n",
        "plt.title('Training and Validation Accuracy')\n",
        "\n",
        "plt.subplot(2, 1, 2)\n",
        "plt.plot(loss_, label='Training Loss', color = 'gray',linestyle='dashed')\n",
        "plt.plot(val_loss_, label='Validation Loss', color = 'black')\n",
        "plt.ylim([0, 1.0])\n",
        "plt.legend(loc='upper right')\n",
        "plt.title('Training and Validation Loss')\n",
        "plt.xlabel('epoch')\n",
        "plt.show()"
      ],
      "metadata": {
        "id": "B3yJQc7HFzjr",
        "outputId": "a5bb5dd1-ec14-474c-db1e-bb75d0d08337",
        "colab": {
          "base_uri": "https://localhost:8080/",
          "height": 513
        }
      },
      "id": "B3yJQc7HFzjr",
      "execution_count": 59,
      "outputs": [
        {
          "output_type": "display_data",
          "data": {
            "text/plain": [
              "<Figure size 576x576 with 2 Axes>"
            ],
            "image/png": "[encoded data removed]"
          },
          "metadata": {
            "needs_background": "light"
          }
        }
      ]
    },
    {
      "cell_type": "code",
      "source": [
        "n"
      ],
      "metadata": {
        "id": "CctoE5faaicC",
        "outputId": "4bb615f4-ea7a-40b4-d583-3e47b95abbbf",
        "colab": {
          "base_uri": "https://localhost:8080/"
        }
      },
      "id": "CctoE5faaicC",
      "execution_count": 61,
      "outputs": [
        {
          "output_type": "execute_result",
          "data": {
            "text/plain": [
              "8"
            ]
          },
          "metadata": {},
          "execution_count": 61
        }
      ]
    },
    {
      "cell_type": "code",
      "source": [
        "evalutaion_batch_size =1000\n",
        "\n",
        "y_true = []\n",
        "y_pred = []\n",
        "y_pred_NEW = []\n",
        "\n",
        "for i in range(n):\n",
        "  evaluation_dataset = tf.keras.preprocessing.image_dataset_from_directory(\n",
        "      f'.//Cats_Dogs_data//test_{i}',\n",
        "      shuffle=True,\n",
        "      batch_size = evalutaion_batch_size,\n",
        "      image_size = (200,200))\n",
        "  \n",
        "  image_batch, label_batch = evaluation_dataset.as_numpy_iterator().next()\n",
        "  predictions = model.predict_on_batch(image_batch).flatten()\n",
        "  \n",
        "  image_batch = tf.where(predictions > 0.51, 1, 0)\n",
        "  y_pred.append(image_batch)\n",
        "  y_true.append(label_batch)\n",
        "  y_pred_NEW = np.concatenate(y_pred_NEW, image_batch)"
      ],
      "metadata": {
        "id": "sp26DkTuWWlr",
        "outputId": "94ba84b8-67ff-42cf-c705-0b27b2768aac",
        "colab": {
          "base_uri": "https://localhost:8080/",
          "height": 374
        }
      },
      "id": "sp26DkTuWWlr",
      "execution_count": 69,
      "outputs": [
        {
          "output_type": "stream",
          "name": "stdout",
          "text": [
            "Found 1000 files belonging to 2 classes.\n"
          ]
        },
        {
          "output_type": "error",
          "ename": "TypeError",
          "evalue": "ignored",
          "traceback": [
            "\u001b[0;31m---------------------------------------------------------------------------\u001b[0m",
            "\u001b[0;31mTypeError\u001b[0m                                 Traceback (most recent call last)",
            "\u001b[0;32m<ipython-input-69-31bace6b2ad8>\u001b[0m in \u001b[0;36m<module>\u001b[0;34m()\u001b[0m\n\u001b[1;32m     18\u001b[0m   \u001b[0my_pred\u001b[0m\u001b[0;34m.\u001b[0m\u001b[0mappend\u001b[0m\u001b[0;34m(\u001b[0m\u001b[0mimage_batch\u001b[0m\u001b[0;34m)\u001b[0m\u001b[0;34m\u001b[0m\u001b[0;34m\u001b[0m\u001b[0m\n\u001b[1;32m     19\u001b[0m   \u001b[0my_true\u001b[0m\u001b[0;34m.\u001b[0m\u001b[0mappend\u001b[0m\u001b[0;34m(\u001b[0m\u001b[0mlabel_batch\u001b[0m\u001b[0;34m)\u001b[0m\u001b[0;34m\u001b[0m\u001b[0;34m\u001b[0m\u001b[0m\n\u001b[0;32m---> 20\u001b[0;31m   \u001b[0my_pred_NEW\u001b[0m \u001b[0;34m=\u001b[0m \u001b[0mnp\u001b[0m\u001b[0;34m.\u001b[0m\u001b[0mconcatenate\u001b[0m\u001b[0;34m(\u001b[0m\u001b[0my_pred_NEW\u001b[0m\u001b[0;34m,\u001b[0m \u001b[0mimage_batch\u001b[0m\u001b[0;34m)\u001b[0m\u001b[0;34m\u001b[0m\u001b[0;34m\u001b[0m\u001b[0m\n\u001b[0m",
            "\u001b[0;32m<__array_function__ internals>\u001b[0m in \u001b[0;36mconcatenate\u001b[0;34m(*args, **kwargs)\u001b[0m\n",
            "\u001b[0;32m/usr/local/lib/python3.7/dist-packages/tensorflow/python/framework/ops.py\u001b[0m in \u001b[0;36m__index__\u001b[0;34m(self)\u001b[0m\n\u001b[1;32m   1129\u001b[0m \u001b[0;34m\u001b[0m\u001b[0m\n\u001b[1;32m   1130\u001b[0m   \u001b[0;32mdef\u001b[0m \u001b[0m__index__\u001b[0m\u001b[0;34m(\u001b[0m\u001b[0mself\u001b[0m\u001b[0;34m)\u001b[0m\u001b[0;34m:\u001b[0m\u001b[0;34m\u001b[0m\u001b[0;34m\u001b[0m\u001b[0m\n\u001b[0;32m-> 1131\u001b[0;31m     \u001b[0;32mreturn\u001b[0m \u001b[0mself\u001b[0m\u001b[0;34m.\u001b[0m\u001b[0m_numpy\u001b[0m\u001b[0;34m(\u001b[0m\u001b[0;34m)\u001b[0m\u001b[0;34m.\u001b[0m\u001b[0m__index__\u001b[0m\u001b[0;34m(\u001b[0m\u001b[0;34m)\u001b[0m\u001b[0;34m\u001b[0m\u001b[0;34m\u001b[0m\u001b[0m\n\u001b[0m\u001b[1;32m   1132\u001b[0m \u001b[0;34m\u001b[0m\u001b[0m\n\u001b[1;32m   1133\u001b[0m   \u001b[0;32mdef\u001b[0m \u001b[0m__bool__\u001b[0m\u001b[0;34m(\u001b[0m\u001b[0mself\u001b[0m\u001b[0;34m)\u001b[0m\u001b[0;34m:\u001b[0m\u001b[0;34m\u001b[0m\u001b[0;34m\u001b[0m\u001b[0m\n",
            "\u001b[0;31mTypeError\u001b[0m: only integer scalar arrays can be converted to a scalar index"
          ]
        }
      ]
    },
    {
      "cell_type": "code",
      "source": [
        "y_pred_NEW"
      ],
      "metadata": {
        "id": "Nd7Bw6B7cvow",
        "outputId": "500e826a-c536-4ccf-8467-04093a54e452",
        "colab": {
          "base_uri": "https://localhost:8080/"
        }
      },
      "id": "Nd7Bw6B7cvow",
      "execution_count": 67,
      "outputs": [
        {
          "output_type": "execute_result",
          "data": {
            "text/plain": [
              "<tf.Tensor: shape=(7, 1000), dtype=int32, numpy=\n",
              "array([[2, 1, 2, ..., 2, 2, 1],\n",
              "       [2, 2, 2, ..., 2, 2, 2],\n",
              "       [2, 2, 2, ..., 2, 2, 2],\n",
              "       ...,\n",
              "       [2, 2, 2, ..., 2, 2, 2],\n",
              "       [2, 2, 2, ..., 2, 2, 1],\n",
              "       [2, 2, 2, ..., 2, 2, 2]], dtype=int32)>"
            ]
          },
          "metadata": {},
          "execution_count": 67
        }
      ]
    },
    {
      "cell_type": "code",
      "source": [
        "image_batch, label_batch = evaluation_dataset.as_numpy_iterator().next()\n",
        "predictions = model.predict_on_batch(image_batch).flatten()\n",
        "#predictions"
      ],
      "metadata": {
        "id": "LNjvaN022KgQ"
      },
      "id": "LNjvaN022KgQ",
      "execution_count": null,
      "outputs": []
    },
    {
      "cell_type": "code",
      "source": [
        "y_pred = tf.where(predictions > 0.51, 1, 0)\n",
        "y_pred"
      ],
      "metadata": {
        "id": "fzD3YWVLCNPh",
        "outputId": "8279915d-7c16-4f8c-fe59-a0b5b777d4ce",
        "colab": {
          "base_uri": "https://localhost:8080/"
        }
      },
      "id": "fzD3YWVLCNPh",
      "execution_count": 51,
      "outputs": [
        {
          "output_type": "execute_result",
          "data": {
            "text/plain": [
              "<tf.Tensor: shape=(1500,), dtype=int32, numpy=array([1, 1, 1, ..., 1, 0, 1], dtype=int32)>"
            ]
          },
          "metadata": {},
          "execution_count": 51
        }
      ]
    },
    {
      "cell_type": "code",
      "source": [
        "label_batch"
      ],
      "metadata": {
        "id": "uFVllXveCUQ1",
        "outputId": "d5745e14-9bc1-4a6a-ecdc-406c2fc13bb6",
        "colab": {
          "base_uri": "https://localhost:8080/"
        }
      },
      "id": "uFVllXveCUQ1",
      "execution_count": 47,
      "outputs": [
        {
          "output_type": "execute_result",
          "data": {
            "text/plain": [
              "array([0, 0, 0, 1, 0, 1, 0, 1, 1, 0, 1, 1, 0, 0, 1, 0, 0, 0, 1, 1, 0, 1,\n",
              "       1, 0, 0, 0, 0, 1, 0, 0, 1, 1, 0, 0, 0, 1, 1, 0, 1, 1, 0, 0, 0, 0,\n",
              "       0, 1, 0, 0, 1, 1, 1, 1, 0, 1, 0, 1, 1, 0, 0, 1, 0, 1, 0, 1, 1, 1,\n",
              "       1, 1, 0, 0, 0, 0, 0, 1, 1, 1, 1, 1, 1, 0, 1, 1, 1, 0, 1, 0, 0, 0,\n",
              "       1, 0, 1, 0, 1, 0, 1, 0, 1, 0, 0, 0, 1, 1, 1, 0, 0, 1, 0, 1, 1, 1,\n",
              "       0, 1, 0, 1, 0, 0, 1, 0, 1, 1, 1, 1, 1, 1, 0, 1, 0, 1, 1, 0, 1, 0,\n",
              "       1, 1, 1, 0, 0, 0, 1, 0, 0, 0, 1, 1, 0, 0, 1, 1, 1, 1, 1, 1, 0, 0,\n",
              "       1, 0, 0, 0, 0, 0, 1, 1, 0, 0, 0, 1, 1, 0, 1, 1, 1, 1, 0, 0, 0, 0,\n",
              "       1, 1, 1, 0, 1, 1, 0, 1, 1, 1, 0, 0, 0, 1, 0, 1, 0, 1, 1, 0, 0, 1,\n",
              "       0, 1, 0, 0, 1, 1, 0, 1, 0, 0, 0, 0, 1, 0, 0, 1, 0, 1, 1, 1, 0, 0,\n",
              "       1, 1, 0, 0, 0, 0, 0, 1, 0, 1, 1, 1, 0, 0, 1, 1, 0, 1, 0, 0, 1, 1,\n",
              "       0, 1, 1, 1, 0, 0, 1, 1, 0, 0, 0, 1, 0, 1, 0, 1, 0, 0, 0, 0, 1, 0,\n",
              "       1, 0, 0, 0, 0, 0, 1, 1, 0, 0, 0, 0, 1, 0, 0, 1, 0, 1, 0, 0, 1, 0,\n",
              "       1, 0, 1, 1, 0, 0, 0, 1, 0, 1, 1, 0, 0, 1, 1, 1, 1, 0, 0, 0, 0, 1,\n",
              "       1, 1, 0, 0, 1, 0, 1, 0, 1, 1, 1, 1, 1, 0, 0, 1, 1, 0, 1, 0, 0, 1,\n",
              "       1, 1, 1, 1, 1, 0, 0, 0, 0, 0, 0, 0, 1, 1, 1, 0, 0, 1, 1, 1, 0, 0,\n",
              "       0, 0, 0, 0, 1, 0, 1, 1, 0, 0, 0, 1, 0, 1, 0, 1, 1, 1, 1, 1, 1, 0,\n",
              "       1, 1, 0, 1, 1, 1, 1, 1, 1, 1, 0, 0, 1, 0, 0, 0, 0, 0, 0, 0, 0, 0,\n",
              "       1, 0, 1, 0, 1, 0, 0, 0, 0, 0, 1, 0, 0, 0, 0, 1, 0, 1, 1, 1, 0, 1,\n",
              "       1, 1, 0, 0, 0, 0, 0, 1, 1, 1, 1, 1, 0, 0, 0, 0, 0, 1, 1, 1, 1, 0,\n",
              "       1, 1, 1, 1, 1, 0, 1, 0, 0, 0, 1, 0, 1, 0, 0, 1, 1, 0, 1, 1, 1, 0,\n",
              "       1, 1, 1, 1, 1, 0, 1, 1, 0, 0, 1, 1, 1, 1, 0, 1, 1, 1, 0, 0, 0, 1,\n",
              "       0, 0, 0, 1, 1, 0, 0, 0, 1, 0, 0, 0, 0, 0, 0, 1, 1, 0, 0, 1, 1, 0,\n",
              "       0, 1, 1, 1, 0, 0, 1, 0, 1, 1, 0, 0, 0, 1, 1, 1, 0, 0, 0, 0, 1, 1,\n",
              "       0, 1, 1, 1, 0, 0, 1, 1, 1, 1, 0, 0, 0, 0, 1, 0, 1, 1, 1, 0, 0, 0,\n",
              "       1, 1, 1, 0, 0, 1, 0, 0, 0, 0, 1, 1, 1, 0, 0, 1, 0, 1, 1, 1, 0, 1,\n",
              "       0, 0, 1, 0, 1, 1, 1, 1, 0, 1, 0, 0, 0, 1, 0, 0, 1, 1, 0, 1, 0, 1,\n",
              "       1, 1, 1, 0, 1, 0, 0, 0, 0, 0, 0, 1, 0, 0, 0, 0, 1, 0, 0, 0, 0, 1,\n",
              "       0, 0, 1, 0, 0, 0, 0, 1, 1, 0, 0, 0, 0, 1, 1, 1, 1, 0, 1, 1, 1, 0,\n",
              "       1, 1, 0, 0, 1, 0, 0, 0, 1, 0, 1, 1, 0, 1, 1, 1, 0, 1, 0, 0, 0, 0,\n",
              "       1, 0, 0, 0, 0, 0, 0, 0, 0, 0, 0, 0, 0, 0, 1, 0, 0, 1, 0, 1, 0, 0,\n",
              "       1, 0, 0, 1, 1, 1, 1, 1, 0, 0, 1, 0, 0, 0, 1, 1, 0, 0, 1, 1, 1, 0,\n",
              "       1, 0, 0, 0, 1, 0, 1, 0, 1, 0, 0, 1, 1, 1, 1, 0, 0, 1, 0, 1, 1, 1,\n",
              "       0, 0, 0, 0, 1, 1, 1, 1, 1, 1, 0, 0, 1, 0, 1, 0, 1, 0, 1, 1, 0, 1,\n",
              "       1, 0, 1, 0, 1, 0, 0, 0, 0, 0, 1, 0, 1, 0, 0, 1, 0, 1, 1, 0, 0, 1,\n",
              "       0, 0, 1, 0, 0, 0, 0, 1, 0, 1, 1, 0, 0, 0, 0, 1, 1, 0, 1, 1, 1, 1,\n",
              "       1, 1, 1, 1, 0, 1, 0, 1, 1, 0, 1, 1, 1, 1, 0, 0, 1, 1, 1, 1, 0, 0,\n",
              "       1, 1, 0, 0, 1, 0, 1, 0, 0, 0, 0, 1, 1, 1, 0, 0, 0, 0, 0, 1, 0, 0,\n",
              "       1, 1, 0, 0, 1, 0, 1, 0, 1, 1, 1, 0, 1, 1, 0, 0, 1, 1, 0, 1, 0, 1,\n",
              "       1, 1, 0, 1, 1, 1, 0, 0, 1, 0, 1, 1, 1, 1, 0, 0, 1, 0, 0, 0, 0, 1,\n",
              "       1, 1, 1, 1, 0, 0, 1, 1, 0, 1, 0, 0, 0, 0, 0, 0, 0, 1, 1, 1, 1, 0,\n",
              "       0, 0, 0, 1, 1, 0, 1, 1, 0, 0, 0, 0, 0, 1, 0, 0, 0, 0, 0, 0, 1, 1,\n",
              "       1, 1, 1, 1, 1, 1, 1, 1, 0, 1, 1, 0, 0, 0, 1, 1, 0, 0, 1, 1, 1, 0,\n",
              "       1, 0, 0, 1, 0, 1, 0, 0, 1, 0, 0, 0, 1, 0, 1, 0, 0, 0, 0, 0, 1, 0,\n",
              "       1, 0, 1, 1, 1, 1, 1, 1, 0, 0, 0, 1, 0, 0, 1, 1, 1, 1, 0, 0, 1, 0,\n",
              "       1, 1, 0, 1, 0, 0, 0, 0, 1, 1], dtype=int32)"
            ]
          },
          "metadata": {},
          "execution_count": 47
        }
      ]
    },
    {
      "cell_type": "code",
      "source": [
        "from sklearn.metrics import zero_one_loss\n",
        "\n",
        "zero_one_loss(label_batch, y_pred, normalize=True)"
      ],
      "metadata": {
        "id": "Z9KLLSNnDGsP",
        "outputId": "cf72c3a0-9625-4add-e3c7-6dd58558d542",
        "colab": {
          "base_uri": "https://localhost:8080/"
        }
      },
      "id": "Z9KLLSNnDGsP",
      "execution_count": 52,
      "outputs": [
        {
          "output_type": "execute_result",
          "data": {
            "text/plain": [
              "0.42333333333333334"
            ]
          },
          "metadata": {},
          "execution_count": 52
        }
      ]
    },
    {
      "cell_type": "code",
      "source": [
        "import os, os.path, shutil\n",
        "\n",
        "folder_path = './/Cats_Dogs_data//test//Cats'\n",
        "\n",
        "images = [f for f in os.listdir(folder_path) if os.path.isfile(os.path.join(folder_path, f))]\n",
        "\n",
        "for image in images:\n",
        "    folder_name = image.split('.')[0]\n",
        "\n",
        "    new_path = os.path.join(folder_path, folder_name)\n",
        "    if not os.path.exists(new_path):\n",
        "        os.makedirs(new_path)\n",
        "\n",
        "    old_image_path = os.path.join(folder_path, image)\n",
        "    new_image_path = os.path.join(new_path, image)\n",
        "    shutil.move(old_image_path, new_image_path)"
      ],
      "metadata": {
        "id": "dvXnGuLEIYqC"
      },
      "id": "dvXnGuLEIYqC",
      "execution_count": 22,
      "outputs": []
    }
  ],
  "metadata": {
    "kernelspec": {
      "display_name": "Python 3 (ipykernel)",
      "language": "python",
      "name": "python3"
    },
    "language_info": {
      "codemirror_mode": {
        "name": "ipython",
        "version": 3
      },
      "file_extension": ".py",
      "mimetype": "text/x-python",
      "name": "python",
      "nbconvert_exporter": "python",
      "pygments_lexer": "ipython3",
      "version": "3.9.7"
    },
    "colab": {
      "name": "Copy of Downloads.ipynb",
      "provenance": [],
      "include_colab_link": true
    },
    "accelerator": "GPU"
  },
  "nbformat": 4,
  "nbformat_minor": 5
}