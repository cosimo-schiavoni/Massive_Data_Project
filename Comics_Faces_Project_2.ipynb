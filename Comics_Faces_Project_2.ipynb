{
  "cells": [
    {
      "cell_type": "markdown",
      "metadata": {
        "id": "view-in-github",
        "colab_type": "text"
      },
      "source": [
        "<a href=\"https://colab.research.google.com/github/cosimo-schiavoni/Massive_Data_Project/blob/main/Comics_Faces_Project_2.ipynb\" target=\"_parent\"><img src=\"https://colab.research.google.com/assets/colab-badge.svg\" alt=\"Open In Colab\"/></a>"
      ]
    },
    {
      "cell_type": "markdown",
      "source": [
        "Check the connection to a GPU."
      ],
      "metadata": {
        "id": "u7p3Ap8y7BZO"
      },
      "id": "u7p3Ap8y7BZO"
    },
    {
      "cell_type": "code",
      "source": [
        "!nvidia-smi"
      ],
      "metadata": {
        "id": "8VThIbCShB9L",
        "outputId": "7b6496e9-941a-44b0-837b-0e75383be6b2",
        "colab": {
          "base_uri": "https://localhost:8080/"
        }
      },
      "id": "8VThIbCShB9L",
      "execution_count": 12,
      "outputs": [
        {
          "output_type": "stream",
          "name": "stdout",
          "text": [
            "Sun Sep  4 06:04:04 2022       \n",
            "+-----------------------------------------------------------------------------+\n",
            "| NVIDIA-SMI 460.32.03    Driver Version: 460.32.03    CUDA Version: 11.2     |\n",
            "|-------------------------------+----------------------+----------------------+\n",
            "| GPU  Name        Persistence-M| Bus-Id        Disp.A | Volatile Uncorr. ECC |\n",
            "| Fan  Temp  Perf  Pwr:Usage/Cap|         Memory-Usage | GPU-Util  Compute M. |\n",
            "|                               |                      |               MIG M. |\n",
            "|===============================+======================+======================|\n",
            "|   0  Tesla T4            Off  | 00000000:00:04.0 Off |                    0 |\n",
            "| N/A   39C    P8     9W /  70W |      0MiB / 15109MiB |      0%      Default |\n",
            "|                               |                      |                  N/A |\n",
            "+-------------------------------+----------------------+----------------------+\n",
            "                                                                               \n",
            "+-----------------------------------------------------------------------------+\n",
            "| Processes:                                                                  |\n",
            "|  GPU   GI   CI        PID   Type   Process name                  GPU Memory |\n",
            "|        ID   ID                                                   Usage      |\n",
            "|=============================================================================|\n",
            "|  No running processes found                                                 |\n",
            "+-----------------------------------------------------------------------------+\n"
          ]
        }
      ]
    },
    {
      "cell_type": "markdown",
      "source": [
        "Install the Kaggle package."
      ],
      "metadata": {
        "id": "710Q-cFj9kvY"
      },
      "id": "710Q-cFj9kvY"
    },
    {
      "cell_type": "code",
      "source": [
        "!pip install -q kaggle"
      ],
      "metadata": {
        "id": "7C3Z3PXl7LxN"
      },
      "id": "7C3Z3PXl7LxN",
      "execution_count": 13,
      "outputs": []
    },
    {
      "cell_type": "markdown",
      "source": [
        "Load the kaggle.json file in order to execute the download of the dataset. (Each user should upload his own file)."
      ],
      "metadata": {
        "id": "oGZBU4HXOAyj"
      },
      "id": "oGZBU4HXOAyj"
    },
    {
      "cell_type": "code",
      "source": [
        "from google.colab import files\n",
        "\n",
        "files.upload()\n",
        "! mkdir ~/.kaggle\n",
        "! cp kaggle.json ~/.kaggle/\n",
        "! chmod 600 ~/.kaggle/kaggle.json"
      ],
      "metadata": {
        "colab": {
          "resources": {
            "http://localhost:8080/nbextensions/google.colab/files.js": {
              "data": "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",
              "ok": true,
              "headers": [
                [
                  "content-type",
                  "application/javascript"
                ]
              ],
              "status": 200,
              "status_text": ""
            }
          },
          "base_uri": "https://localhost:8080/",
          "height": 90
        },
        "id": "AuoAPGS5afc7",
        "outputId": "a029d3bc-8668-4483-808d-7eda9907da00"
      },
      "id": "AuoAPGS5afc7",
      "execution_count": 14,
      "outputs": [
        {
          "output_type": "display_data",
          "data": {
            "text/plain": [
              "<IPython.core.display.HTML object>"
            ],
            "text/html": [
              "\n",
              "     <input type=\"file\" id=\"files-eea9a110-2f13-44f8-bf52-6b5388e6e2cf\" name=\"files[]\" multiple disabled\n",
              "        style=\"border:none\" />\n",
              "     <output id=\"result-eea9a110-2f13-44f8-bf52-6b5388e6e2cf\">\n",
              "      Upload widget is only available when the cell has been executed in the\n",
              "      current browser session. Please rerun this cell to enable.\n",
              "      </output>\n",
              "      <script src=\"/nbextensions/google.colab/files.js\"></script> "
            ]
          },
          "metadata": {}
        },
        {
          "output_type": "stream",
          "name": "stdout",
          "text": [
            "Saving kaggle.json to kaggle (1).json\n",
            "mkdir: cannot create directory ‘/root/.kaggle’: File exists\n"
          ]
        }
      ]
    },
    {
      "cell_type": "markdown",
      "source": [
        "Import required libraries."
      ],
      "metadata": {
        "id": "bDXa4L1w9rPJ"
      },
      "id": "bDXa4L1w9rPJ"
    },
    {
      "cell_type": "code",
      "source": [
        "import tensorflow as tf\n",
        "from keras.models import Sequential\n",
        "from keras.layers.core import Dense, Dropout, Activation\n",
        "from keras import optimizers, regularizers\n",
        "from functools import reduce\n",
        "import os\n",
        "import zipfile\n",
        "import matplotlib\n",
        "import matplotlib.pyplot as plt\n",
        "import matplotlib.image as mpimg\n",
        "import keras\n",
        "import pickle\n",
        "import shutil\n",
        "import random\n",
        "import skimage.io as io\n",
        "from copy import deepcopy\n",
        "from kaggle.api.kaggle_api_extended import KaggleApi\n",
        "from tensorflow.keras import layers\n",
        "import numpy as np\n",
        "from shutil import move\n",
        "from os.path import join\n",
        "import os\n",
        "from google.colab import files"
      ],
      "metadata": {
        "id": "o2jkdHdo7TZx"
      },
      "id": "o2jkdHdo7TZx",
      "execution_count": 15,
      "outputs": []
    },
    {
      "cell_type": "markdown",
      "source": [
        "Download the dataset from a remote repository."
      ],
      "metadata": {
        "id": "STR5925a93kc"
      },
      "id": "STR5925a93kc"
    },
    {
      "cell_type": "code",
      "source": [
        "os.environ[\"data_source\"] = \"./Face_Comics_data\"\n",
        "\n",
        "api = KaggleApi()\n",
        "api.authenticate()\n",
        "\n",
        "if not os.path.exists(os.environ[\"data_source\"]):\n",
        "  os.makedirs(os.environ[\"data_source\"])\n",
        "  if \"comic-faces-paired-synthetic-v2\" not in os.listdir():\n",
        "    if \"comic-faces-paired-synthetic-v2.zip\" not in os.listdir():\n",
        "      ! kaggle datasets download -d defileroff/comic-faces-paired-synthetic-v2\n",
        "      with zipfile.ZipFile(\"comic-faces-paired-synthetic-v2.zip\", 'r') as f:\n",
        "        f.extractall(\"comic-faces-paired-synthetic-v2\")\n",
        "    os.remove(\"comic-faces-paired-synthetic-v2.zip\")\n",
        "\n",
        "\n",
        "!mv \"./comic-faces-paired-synthetic-v2/face2comics_v2.0.0_by_Sxela/face2comics_v2.0.0_by_Sxela/comics\" \"./Face_Comics_data\"\n",
        "!mv \"./comic-faces-paired-synthetic-v2/face2comics_v2.0.0_by_Sxela/face2comics_v2.0.0_by_Sxela/faces\" \"./Face_Comics_data\"\n",
        "\n",
        "!rm -rf comic-faces-paired-synthetic-v2"
      ],
      "metadata": {
        "colab": {
          "base_uri": "https://localhost:8080/"
        },
        "id": "4A8XXBVUU_o_",
        "outputId": "6f71e860-8594-4e8b-91dc-7814884e3a28"
      },
      "id": "4A8XXBVUU_o_",
      "execution_count": 16,
      "outputs": [
        {
          "output_type": "stream",
          "name": "stdout",
          "text": [
            "Downloading comic-faces-paired-synthetic-v2.zip to /content\n",
            " 99% 2.16G/2.18G [00:10<00:00, 178MB/s]\n",
            "100% 2.18G/2.18G [00:10<00:00, 221MB/s]\n"
          ]
        }
      ]
    },
    {
      "cell_type": "code",
      "source": [
        "TRAIN_TEST_SPLIT_AT = 0.7\n",
        "TRAIN_VALIDATION_SPLIT_AT = 0.7\n",
        "BATCH_SIZE = 64\n",
        "TARGET_SIZE = (160, 160)\n",
        "EPOCHS = 50\n",
        "EXPERIMENT_SIZE = 10000\n",
        "NO_OF_FOLDS = 5"
      ],
      "metadata": {
        "id": "MaaGEvmgulkL"
      },
      "id": "MaaGEvmgulkL",
      "execution_count": 17,
      "outputs": []
    },
    {
      "cell_type": "code",
      "source": [
        "os.makedirs(os.path.join(os.environ[\"data_source\"], 'train/comics'))\n",
        "os.makedirs(os.path.join(os.environ[\"data_source\"], 'train/faces'))\n",
        "os.makedirs(os.path.join(os.environ[\"data_source\"], 'validation/comics'))\n",
        "os.makedirs(os.path.join(os.environ[\"data_source\"], 'validation/faces'))\n",
        "os.makedirs(os.path.join(os.environ[\"data_source\"], 'test/comics'))\n",
        "os.makedirs(os.path.join(os.environ[\"data_source\"], 'test/faces'))"
      ],
      "metadata": {
        "id": "HzVcdEAcGbu0"
      },
      "id": "HzVcdEAcGbu0",
      "execution_count": 18,
      "outputs": []
    },
    {
      "cell_type": "code",
      "source": [
        "tmp_comics_dir = './Face_Comics_data/comics'\n",
        "tmp_faces_dir = './Face_Comics_data/faces'\n",
        "comics_test_dir = './Face_Comics_data/test/comics'\n",
        "faces_test_dir = './Face_Comics_data/test/faces'\n",
        "comics_validation_dir = './Face_Comics_data/validation/comics'\n",
        "faces_validation_dir = './Face_Comics_data/validation/faces'\n",
        "comics_train_dir = './Face_Comics_data/train/comics'\n",
        "faces_train_dir = './Face_Comics_data/train/faces'\n",
        "train_dir = './Face_Comics_data/train'\n",
        "validation_dir = './Face_Comics_data/validation'\n",
        "test_dir = './Face_Comics_data/test'"
      ],
      "metadata": {
        "id": "Mv9rLG0OWBOY"
      },
      "id": "Mv9rLG0OWBOY",
      "execution_count": 19,
      "outputs": []
    },
    {
      "cell_type": "code",
      "source": [
        "from shutil import copyfile\n",
        "\n",
        "#TEST - TRAINING SPLIT\n",
        "\n",
        "list_of_comics_images = os.listdir('./Face_Comics_data/comics')\n",
        "list_of_faces_images = os.listdir('./Face_Comics_data/faces')\n",
        "\n",
        "np.random.shuffle(list_of_comics_images)\n",
        "np.random.shuffle(list_of_faces_images)\n",
        "\n",
        "c = 0\n",
        "for i in list_of_comics_images:\n",
        "    if c < (round(TRAIN_TEST_SPLIT_AT * EXPERIMENT_SIZE)):\n",
        "      move(os.path.join(tmp_comics_dir, i), os.path.join(comics_train_dir, i))\n",
        "      c += 1\n",
        "    else:\n",
        "      move(os.path.join(tmp_comics_dir, i), os.path.join(comics_test_dir, i))\n",
        "      c += 1\n",
        "\n",
        "c = 0\n",
        "for i in list_of_faces_images:\n",
        "    if c < (round(TRAIN_TEST_SPLIT_AT * EXPERIMENT_SIZE)):\n",
        "      try:\n",
        "        move(os.path.join(tmp_faces_dir, i), os.path.join(faces_train_dir, i))\n",
        "        c += 1\n",
        "      except:\n",
        "        c+= 1\n",
        "        next\n",
        "    else:\n",
        "      move(os.path.join(tmp_faces_dir, i), os.path.join(faces_test_dir, i))\n",
        "      c += 1\n",
        "\n",
        "TRAIN_SIZE = len(os.listdir(comics_train_dir))\n",
        "\n",
        "#TRAINING - VALIDATION SPLIT\n",
        "\n",
        "list_of_comics_images = os.listdir('./Face_Comics_data/train/comics')\n",
        "list_of_faces_images = os.listdir('./Face_Comics_data/train/faces')\n",
        "\n",
        "np.random.shuffle(list_of_comics_images)\n",
        "np.random.shuffle(list_of_faces_images)\n",
        "\n",
        "c = 0\n",
        "for i in list_of_comics_images:\n",
        "    if c < (round(TRAIN_VALIDATION_SPLIT_AT * TRAIN_SIZE)):\n",
        "      c += 1\n",
        "    else:\n",
        "      move(os.path.join(comics_train_dir, i), os.path.join(comics_validation_dir, i))\n",
        "      c += 1\n",
        "\n",
        "c = 0\n",
        "for i in list_of_faces_images:\n",
        "    if c < (round(TRAIN_VALIDATION_SPLIT_AT * TRAIN_SIZE)):\n",
        "      c += 1\n",
        "    else:\n",
        "      move(os.path.join(faces_train_dir, i), os.path.join(faces_validation_dir, i))\n",
        "      c += 1\n",
        "\n",
        "print('Total training images :', len(os.listdir(comics_train_dir)) + len(os.listdir(faces_train_dir)))\n",
        "print('Total validation images :', len(os.listdir(comics_validation_dir)) + len(os.listdir(faces_validation_dir)))\n",
        "print('Total test images :', len(os.listdir(comics_test_dir)) + len(os.listdir(faces_test_dir)))"
      ],
      "metadata": {
        "id": "cxAIm2qRIEwT",
        "outputId": "ff1f9ae6-f750-4cb4-b658-7b54bbdebfca",
        "colab": {
          "base_uri": "https://localhost:8080/"
        }
      },
      "id": "cxAIm2qRIEwT",
      "execution_count": 20,
      "outputs": [
        {
          "output_type": "stream",
          "name": "stdout",
          "text": [
            "Total training images : 9800\n",
            "Total validation images : 4200\n",
            "Total test images : 6000\n"
          ]
        }
      ]
    },
    {
      "cell_type": "markdown",
      "source": [
        "Define data augmentation functions to be implemented in the analysis."
      ],
      "metadata": {
        "id": "BqLHyph-98oz"
      },
      "id": "BqLHyph-98oz"
    },
    {
      "cell_type": "code",
      "source": [
        "#data augmentation\n",
        "\n",
        "@tf.function\n",
        "def random_invert_img(x, p=0.5):\n",
        "  if  tf.random.uniform([]) < p:\n",
        "    x = (180-x)\n",
        "  else:\n",
        "    x\n",
        "  return x\n",
        "\n",
        "###Randim invert\n",
        "@tf.function \n",
        "def random_invert(factor=0.5):\n",
        "  return layers.Lambda(lambda x: random_invert_img(x, factor))\n",
        "\n",
        "#@tf.function \n",
        "class RandomInvert(layers.Layer):\n",
        "  @tf.function \n",
        "  def __init__(self, factor=0.5, **kwargs):\n",
        "    super().__init__(**kwargs)\n",
        "    self.factor = factor\n",
        "  @tf.function \n",
        "  def call(self, x):\n",
        "    return random_invert_img(x)\n",
        "\n",
        "\n",
        "###Kernel Inizializer Sobel_x\n",
        "@tf.function \n",
        "def hedge_detector(shape, dtype=None):\n",
        "    print(shape)    \n",
        "    sobel_x = tf.constant(\n",
        "        [\n",
        "            [-5, -4, 0, 4, 5], \n",
        "            [-8, -10, 0, 10, 8], \n",
        "            [-10, -20, 0, 20, 10], \n",
        "            [-8, -10, 0, 10, 8], \n",
        "            [-5, -4, 0, 4, 5]\n",
        "        ], dtype=dtype )\n",
        "    #create the missing dims.\n",
        "    sobel_x = tf.reshape(sobel_x, (5, 5, 1, 1))\n",
        "\n",
        "    print(tf.shape(sobel_x))\n",
        "    #tile the last 2 axis to get the expected dims.\n",
        "    sobel_x = tf.tile(sobel_x, (1, 1, shape[-2],shape[-1]))\n",
        "\n",
        "    print(tf.shape(sobel_x))\n",
        "    return sobel_x\n",
        "\n",
        "@tf.function \n",
        "def vertical_detector(shape, dtype=None):\n",
        "    print(shape)    \n",
        "    sobel_x = tf.constant(\n",
        "        [\n",
        "            [1, 0, -1], \n",
        "            [1, 0, -1], \n",
        "            [1, 0, -1]\n",
        "        ], dtype=dtype )\n",
        "    #create the missing dims.\n",
        "    sobel_x = tf.reshape(sobel_x, (3, 3, 1, 1))\n",
        "\n",
        "    print(tf.shape(sobel_x))\n",
        "    #tile the last 2 axis to get the expected dims.\n",
        "    sobel_x = tf.tile(sobel_x, (1, 1, shape[-2],shape[-1]))\n",
        "\n",
        "    print(tf.shape(sobel_x))\n",
        "    return sobel_x\n",
        "\n",
        "@tf.function \n",
        "def horizontal_detector(shape, dtype=None):\n",
        "    print(shape)    \n",
        "    sobel_x = tf.constant(\n",
        "        [\n",
        "            [1, 1, 1], \n",
        "            [0, 0, 0], \n",
        "            [-1, -1, -1]\n",
        "        ], dtype=dtype )\n",
        "    #create the missing dims.\n",
        "    sobel_x = tf.reshape(sobel_x, (3, 3, 1, 1))\n",
        "\n",
        "    print(tf.shape(sobel_x))\n",
        "    #tile the last 2 axis to get the expected dims.\n",
        "    sobel_x = tf.tile(sobel_x, (1, 1, shape[-2],shape[-1]))\n",
        "\n",
        "    print(tf.shape(sobel_x))\n",
        "    return sobel_x"
      ],
      "metadata": {
        "id": "GOCGF4YHS-kc"
      },
      "id": "GOCGF4YHS-kc",
      "execution_count": 21,
      "outputs": []
    },
    {
      "cell_type": "markdown",
      "source": [
        "Define the CNN model, the Training and the Validation dataset. "
      ],
      "metadata": {
        "id": "ap80MVhi-bBD"
      },
      "id": "ap80MVhi-bBD"
    },
    {
      "cell_type": "code",
      "source": [
        "def get_compiled_model(i):\n",
        "  if i == 1:\n",
        "    ###Create CNN (NORMAL MODEL)\n",
        "    ##Initialize the CNN\n",
        "    model_1 = tf.keras.models.Sequential()\n",
        "          \n",
        "    model_1.add(tf.keras.Sequential([\n",
        "        layers.RandomFlip(\"horizontal_and_vertical\"),\n",
        "      layers.RandomRotation(0.3),\n",
        "      layers.RandomContrast(0.5, seed=None),\n",
        "      RandomInvert(),\n",
        "      layers.RandomZoom(height_factor=(-0.2, +0.3)),\n",
        "      layers.RandomTranslation(height_factor=(-0.2, +0.3),width_factor=(-0.2, +0.3)),\n",
        "      layers.Rescaling(1./255, offset= -1)\n",
        "      ]))\n",
        "\n",
        "    #Convolution\n",
        "    model_1.add(tf.keras.layers.Conv2D(32, kernel_size=5, strides=2, activation='relu',  input_shape = [350,350,3]))\n",
        "    #Pooling\n",
        "    model_1.add(tf.keras.layers.MaxPool2D(pool_size = 2, strides = 2))\n",
        "    #Convolution\n",
        "    model_1.add(tf.keras.layers.Conv2D(filters = 32, kernel_size = 3,  strides=2, activation = 'relu'))\n",
        "    #Pooling\n",
        "    model_1.add(tf.keras.layers.MaxPool2D(pool_size = 2, strides = 2))\n",
        "    #Second Convolutional Layer\n",
        "    model_1.add(tf.keras.layers.Conv2D(filters = 32, kernel_size = 2,  strides=2, activation = 'relu'))\n",
        "    model_1.add(tf.keras.layers.MaxPool2D(pool_size = 2, strides=1, padding='same'))\n",
        "    #Flattening\n",
        "    model_1.add(tf.keras.layers.Flatten())\n",
        "    #Full Connection\n",
        "    model_1.add(tf.keras.layers.Dense(units = 128, activation = 'relu'))\n",
        "    #Output Layer\n",
        "    model_1.add(tf.keras.layers.Dense(units=1, activation = 'sigmoid'))\n",
        "\n",
        "    ###Training CNN\n",
        "    ##Compiling the CNN\n",
        "    model_1.compile(optimizer = 'adam', loss = 'binary_crossentropy', metrics = ['accuracy','mse'])\n",
        "    return model_1\n",
        "\n",
        "  elif i == 2:\n",
        "    ###Create CNN (DROPOUT MODEL)\n",
        "    ##Initialize the CNN\n",
        "    model_2 = tf.keras.models.Sequential()\n",
        "        \n",
        "    model_2.add(tf.keras.Sequential([\n",
        "      layers.RandomFlip(\"horizontal_and_vertical\"),\n",
        "      layers.RandomRotation(0.3),\n",
        "      layers.RandomContrast(0.5, seed=None),\n",
        "      RandomInvert(),\n",
        "      layers.RandomZoom(height_factor=(-0.2, +0.3)),\n",
        "      layers.RandomTranslation(height_factor=(-0.2, +0.3),width_factor=(-0.2, +0.3)),\n",
        "      layers.Rescaling(1./255, offset= -1)\n",
        "      ]))\n",
        "\n",
        "    #Convolution\n",
        "    model_2.add(tf.keras.layers.Conv2D(32, kernel_size=5, strides=2, activation='relu',  input_shape = [350,350,3]))\n",
        "    #Pooling\n",
        "    model_2.add(tf.keras.layers.MaxPool2D(pool_size = 2, strides = 2))\n",
        "    #Convolution\n",
        "    model_2.add(tf.keras.layers.Conv2D(filters = 32, kernel_size = 3,  strides=2, activation = 'relu'))\n",
        "    #Pooling\n",
        "    model_2.add(tf.keras.layers.MaxPool2D(pool_size = 2, strides = 2))\n",
        "    #Second Convolutional Layer\n",
        "    model_2.add(tf.keras.layers.Conv2D(filters = 32, kernel_size = 2,  strides=2, activation = 'relu'))\n",
        "    model_2.add(tf.keras.layers.MaxPool2D(pool_size = 2, strides=1, padding='same'))\n",
        "    #Flattening\n",
        "    model_2.add(tf.keras.layers.Flatten())\n",
        "        #Full Connection\n",
        "    model_2.add(tf.keras.layers.Dense(units = 128, activation = 'relu'))\n",
        "    #DROPOUTS ok(0.1)\n",
        "    model_2.add(tf.keras.layers.Dropout(0.1))\n",
        "    #Output Layer\n",
        "    model_2.add(tf.keras.layers.Dense(units=1, activation = 'sigmoid'))\n",
        "\n",
        "    ###Training CNN\n",
        "    ##Compiling the CNN\n",
        "    model_2.compile(optimizer = 'adam', loss = 'binary_crossentropy', metrics = ['accuracy','mse'])\n",
        "\n",
        "    return model_2\n",
        "\n",
        "  elif i == 3:\n",
        "    ###Create CNN (L1 REGULARIZATION MODEL)\n",
        "    ##Initialize the CNN\n",
        "    model_3 = tf.keras.models.Sequential()\n",
        "        \n",
        "    model_3.add(tf.keras.Sequential([\n",
        "      layers.RandomFlip(\"horizontal_and_vertical\"),\n",
        "      layers.RandomRotation(0.3),\n",
        "      layers.RandomContrast(0.5, seed=None),\n",
        "      RandomInvert(),\n",
        "      layers.RandomZoom(height_factor=(-0.2, +0.3)),\n",
        "      layers.RandomTranslation(height_factor=(-0.2, +0.3),width_factor=(-0.2, +0.3)),\n",
        "      layers.Rescaling(1./255, offset= -1)\n",
        "      ]))\n",
        "\n",
        "    #Convolution\n",
        "    model_3.add(tf.keras.layers.Conv2D(32, kernel_size=5, kernel_initializer = hedge_detector, strides=2, activation='relu',  input_shape = [350,350,3]))\n",
        "    #Pooling\n",
        "    model_3.add(tf.keras.layers.MaxPool2D(pool_size = 2, strides = 2))\n",
        "    #Convolution\n",
        "    model_3.add(tf.keras.layers.Conv2D(filters = 32, kernel_size = 3,  strides=2, activation = 'relu',kernel_regularizer =tf.keras.regularizers.l1( l=0.01)))\n",
        "    #Pooling\n",
        "    model_3.add(tf.keras.layers.MaxPool2D(pool_size = 2, strides = 2))\n",
        "    #Second Convolutional Layer\n",
        "    model_3.add(tf.keras.layers.Conv2D(filters = 32, kernel_size = 2,  strides=2, activation = 'relu',kernel_regularizer =tf.keras.regularizers.l1( l=0.01)))\n",
        "    model_3.add(tf.keras.layers.MaxPool2D(pool_size = 2, strides=1, padding='same'))\n",
        "    #Third Convolutional Layer\n",
        "    #cnn.add(tf.keras.layers.Conv2D(filters = 32, kernel_size = 2, activation = 'relu'))\n",
        "    #cnn.add(tf.keras.layers.MaxPool2D(pool_size = 2, strides=2))\n",
        "    #Flattening\n",
        "    model_3.add(tf.keras.layers.Flatten())\n",
        "    #Full Connection\n",
        "    model_3.add(tf.keras.layers.Dense(units = 128, activation = 'relu'))\n",
        "    #Output Layer\n",
        "    model_3.add(tf.keras.layers.Dense(units=1, activation = 'sigmoid'))\n",
        "    ###Training CNN\n",
        "    ##Compiling the CNN\n",
        "    model_3.compile(optimizer = 'adam', loss = 'binary_crossentropy', metrics = ['accuracy','mse'])\n",
        "\n",
        "    return model_3\n",
        "\n",
        "  elif i == 4:\n",
        "    ###Create CNN (L2 REGULARIZATION MODEL)\n",
        "    ##Initialize the CNN\n",
        "    model_4 = tf.keras.models.Sequential()\n",
        "        \n",
        "    model_4.add(tf.keras.Sequential([\n",
        "      layers.RandomFlip(\"horizontal_and_vertical\"),\n",
        "      layers.RandomRotation(0.3),\n",
        "      layers.RandomContrast(0.5, seed=None),\n",
        "      RandomInvert(),\n",
        "      layers.RandomZoom(height_factor=(-0.2, +0.3)),\n",
        "      layers.RandomTranslation(height_factor=(-0.2, +0.3),width_factor=(-0.2, +0.3)),\n",
        "      layers.Rescaling(1./255, offset= -1)\n",
        "      ]))\n",
        "    \n",
        "    #Convolution\n",
        "    model_4.add(tf.keras.layers.Conv2D(32, kernel_size=5, kernel_initializer = hedge_detector, strides=2, activation='relu',  input_shape = [350,350,3]))\n",
        "    #Pooling\n",
        "    model_4.add(tf.keras.layers.MaxPool2D(pool_size = 2, strides = 2))\n",
        "    #Convolution\n",
        "    model_4.add(tf.keras.layers.Conv2D(filters = 32, kernel_size = 3,  strides=2, activation = 'relu',kernel_regularizer =tf.keras.regularizers.l2( l=0.01)))\n",
        "    #Pooling\n",
        "    model_4.add(tf.keras.layers.MaxPool2D(pool_size = 2, strides = 2))\n",
        "    #Second Convolutional Layer\n",
        "    model_4.add(tf.keras.layers.Conv2D(filters = 32, kernel_size = 2,  strides=2, activation = 'relu',kernel_regularizer =tf.keras.regularizers.l2( l=0.01)))\n",
        "    model_4.add(tf.keras.layers.MaxPool2D(pool_size = 2, strides=1, padding='same'))\n",
        "    #Third Convolutional Layer\n",
        "    #cnn.add(tf.keras.layers.Conv2D(filters = 32, kernel_size = 2, activation = 'relu'))\n",
        "    #cnn.add(tf.keras.layers.MaxPool2D(pool_size = 2, strides=2))\n",
        "    #Flattening\n",
        "    model_4.add(tf.keras.layers.Flatten())\n",
        "    #Full Connection\n",
        "    model_4.add(tf.keras.layers.Dense(units = 128, activation = 'relu'))\n",
        "    #Output Layer\n",
        "    model_4.add(tf.keras.layers.Dense(units=1, activation = 'sigmoid'))\n",
        "\n",
        "    ###Training CNN\n",
        "    ##Compiling the CNN\n",
        "    model_4.compile(optimizer = 'adam', loss = 'binary_crossentropy', metrics = ['accuracy','mse'])\n",
        "\n",
        "    return model_4\n",
        "\n",
        "def get_dataset():\n",
        "    BUFFER_SIZE = 10000\n",
        "    IMG_SIZE = (350, 350)\n",
        "    BATCH_SIZE_PER_REPLICA = 64\n",
        "    BATCH_SIZE = BATCH_SIZE_PER_REPLICA * strategy.num_replicas_in_sync\n",
        "\n",
        "    #data_dir= \"./Face_Comics_data\"\n",
        "\n",
        "    #file_count = sum(len(files) for _, _, files in os.walk(data_dir)) \n",
        "    #print(file_count)\n",
        "\n",
        "    tf.random.set_seed(123456)\n",
        "\n",
        "    #os.listdir(data_dir)\n",
        "\n",
        "    train_dataset = tf.keras.preprocessing.image_dataset_from_directory(\n",
        "        train_dir,\n",
        "        shuffle=True,\n",
        "        seed=123456,\n",
        "        image_size= IMG_SIZE,\n",
        "        batch_size=BATCH_SIZE)\n",
        "\n",
        "\n",
        "    validation_dataset = tf.keras.preprocessing.image_dataset_from_directory(\n",
        "        validation_dir,\n",
        "        shuffle=True,\n",
        "        seed=123456,\n",
        "        image_size= IMG_SIZE,\n",
        "        batch_size=BATCH_SIZE)\n",
        "    \n",
        "    test_dataset = tf.keras.preprocessing.image_dataset_from_directory(\n",
        "        test_dir,\n",
        "        shuffle=True,\n",
        "        seed=123456,\n",
        "        image_size= IMG_SIZE,\n",
        "        batch_size=BATCH_SIZE)\n",
        "    \n",
        "    #val_batches = tf.data.experimental.cardinality(validation_dataset)\n",
        "    #test_dataset = validation_dataset.take(val_batches // 5)\n",
        "    #validation_dataset = validation_dataset.skip(val_batches // 5)\n",
        "    #print('Number of training batches: %d' % tf.data.experimental.cardinality(train_dataset))\n",
        "    #print('Number of validation batches: %d' % tf.data.experimental.cardinality(validation_dataset))\n",
        "    #print('Number of test batches: %d' % tf.data.experimental.cardinality(test_dataset))\n",
        "\n",
        "    AUTOTUNE = tf.data.AUTOTUNE\n",
        "\n",
        "    train_dataset = train_dataset.prefetch(buffer_size=AUTOTUNE)\n",
        "    validation_dataset = validation_dataset.prefetch(buffer_size=AUTOTUNE)\n",
        "    test_dataset = test_dataset.prefetch(buffer_size=AUTOTUNE)\n",
        "\n",
        "    return (\n",
        "        train_dataset,\n",
        "        validation_dataset,\n",
        "        test_dataset\n",
        "    )\n",
        "\n",
        "def AIC(n_examples, mse, n_model_parameters):\n",
        "  AIC_SCORE = (n_examples * np.log(mse) ) + (2*n_model_parameters)\n",
        "  return AIC_SCORE\n"
      ],
      "metadata": {
        "id": "okjz2Jwgcg5Q"
      },
      "id": "okjz2Jwgcg5Q",
      "execution_count": 22,
      "outputs": []
    },
    {
      "cell_type": "markdown",
      "source": [
        "Create a Mirrored strategy in order to distribute computation with Tensorflow engine."
      ],
      "metadata": {
        "id": "gT0A8KaX-jbu"
      },
      "id": "gT0A8KaX-jbu"
    },
    {
      "cell_type": "code",
      "source": [
        "strategy = tf.distribute.MirroredStrategy()\n",
        "print(\"Number of devices: {}\".format(strategy.num_replicas_in_sync))\n"
      ],
      "metadata": {
        "id": "ZnbOv3Hne5Zj",
        "outputId": "eaee41cf-49a2-4be4-9aa1-b203e92d9fcc",
        "colab": {
          "base_uri": "https://localhost:8080/"
        }
      },
      "id": "ZnbOv3Hne5Zj",
      "execution_count": 23,
      "outputs": [
        {
          "output_type": "stream",
          "name": "stdout",
          "text": [
            "Number of devices: 1\n"
          ]
        }
      ]
    },
    {
      "cell_type": "code",
      "source": [
        "train_dataset, validation_dataset, test_dataset = get_dataset()\n",
        "\n",
        "#Compute number of examples\n",
        "Example_number = 1400\n",
        "\n",
        "AIC_list = []\n",
        "MSE_list = []\n",
        "Models_parameters_n_list = []\n",
        "for n in range(4):\n",
        "  with strategy.scope():\n",
        "    model = get_compiled_model(n+1)\n",
        "    print(f'****************************** Model n.{n+1} ******************************')\n",
        "    model_fit = model.fit(train_dataset, epochs=EPOCHS, validation_data=validation_dataset)\n",
        "    model_fit\n",
        "    model.summary()\n",
        "\n",
        "    #Retrieve MSE values for each epoch\n",
        "    Model_MSE = model_fit.history['mse']\n",
        "    MSE_list += model_fit.history['mse']\n",
        "\n",
        "    #Retrieve Parameters numbers for each model\n",
        "    stringlist = []\n",
        "    model.summary(line_length=70, print_fn=lambda x: stringlist.append(x))\n",
        "\n",
        "    substring = 'Trainable params'\n",
        "\n",
        "    c = 0\n",
        "    for n in stringlist:\n",
        "        if substring not in n:\n",
        "          c += 1\n",
        "        else:\n",
        "          break\n",
        "\n",
        "    substring = stringlist[c]  \n",
        "    Model_parameters_n = int(\"\".join([i for i in substring if i.isdigit()]))\n",
        "    Models_parameters_n_list += [Model_parameters_n]\n",
        "\n",
        "    #Aikaike Information Creterion (AIC) Computation\n",
        "    for mse_score in Model_MSE:\n",
        "      AIC_SCORE = [AIC(Example_number, mse_score , Model_parameters_n)]\n",
        "      AIC_list += AIC_SCORE\n",
        "\n",
        "    #Show training and validation graphs\n",
        "    acc = model_fit.history['accuracy']\n",
        "    val_acc = model_fit.history['val_accuracy']\n",
        "    loss_ = model_fit.history['loss']\n",
        "    val_loss_ = model_fit.history['val_loss']\n",
        "\n",
        "    plt.figure(figsize=(8, 8))\n",
        "    plt.subplot(2, 1, 1)\n",
        "    plt.plot(acc, label='Training Accuracy', color = 'gray',linestyle='dashed')\n",
        "    plt.plot(val_acc, label='Validation Accuracy', color = 'black')\n",
        "    plt.ylim([0.8, 1])\n",
        "    plt.legend(loc='lower right')\n",
        "    plt.title('Training and Validation Accuracy')\n",
        "\n",
        "    plt.subplot(2, 1, 2)\n",
        "    plt.plot(loss_, label='Training Loss', color = 'gray',linestyle='dashed')\n",
        "    plt.plot(val_loss_, label='Validation Loss', color = 'black')\n",
        "    plt.ylim([0, 1.0])\n",
        "    plt.legend(loc='upper right')\n",
        "    plt.title('Training and Validation Loss')\n",
        "    plt.xlabel('epoch')\n",
        "    plt.show()\n"
      ],
      "metadata": {
        "colab": {
          "base_uri": "https://localhost:8080/",
          "height": 1000
        },
        "id": "iAtHRZXTeg91",
        "outputId": "af0fb0f4-c8a7-47a1-b947-4834a96f6fd0"
      },
      "id": "iAtHRZXTeg91",
      "execution_count": null,
      "outputs": [
        {
          "output_type": "stream",
          "name": "stdout",
          "text": [
            "Found 9800 files belonging to 2 classes.\n",
            "Found 4200 files belonging to 2 classes.\n",
            "Found 6000 files belonging to 2 classes.\n",
            "****************************** Model n.1 ******************************\n",
            "Epoch 1/50\n",
            "154/154 [==============================] - 97s 499ms/step - loss: 0.6035 - accuracy: 0.6580 - mse: 0.2100 - val_loss: 0.5455 - val_accuracy: 0.7912 - val_mse: 0.1617\n",
            "Epoch 2/50\n",
            "154/154 [==============================] - 68s 424ms/step - loss: 0.4073 - accuracy: 0.8215 - mse: 0.1272 - val_loss: 0.3646 - val_accuracy: 0.7821 - val_mse: 0.1257\n",
            "Epoch 3/50\n",
            "154/154 [==============================] - 67s 424ms/step - loss: 0.4042 - accuracy: 0.8131 - mse: 0.1295 - val_loss: 0.1798 - val_accuracy: 0.9210 - val_mse: 0.0557\n",
            "Epoch 4/50\n",
            "154/154 [==============================] - 67s 422ms/step - loss: 0.2824 - accuracy: 0.8804 - mse: 0.0859 - val_loss: 0.1402 - val_accuracy: 0.9576 - val_mse: 0.0368\n",
            "Epoch 5/50\n",
            "154/154 [==============================] - 67s 420ms/step - loss: 0.1538 - accuracy: 0.9410 - mse: 0.0446 - val_loss: 0.0968 - val_accuracy: 0.9650 - val_mse: 0.0273\n",
            "Epoch 6/50\n",
            "154/154 [==============================] - 66s 418ms/step - loss: 0.1566 - accuracy: 0.9399 - mse: 0.0454 - val_loss: 0.0547 - val_accuracy: 0.9895 - val_mse: 0.0120\n",
            "Epoch 7/50\n",
            "154/154 [==============================] - 66s 418ms/step - loss: 0.1341 - accuracy: 0.9527 - mse: 0.0376 - val_loss: 0.0328 - val_accuracy: 0.9921 - val_mse: 0.0072\n",
            "Epoch 8/50\n",
            "154/154 [==============================] - 66s 413ms/step - loss: 0.0553 - accuracy: 0.9818 - mse: 0.0145 - val_loss: 0.0256 - val_accuracy: 0.9898 - val_mse: 0.0077\n",
            "Epoch 9/50\n",
            "154/154 [==============================] - 66s 415ms/step - loss: 0.1089 - accuracy: 0.9622 - mse: 0.0294 - val_loss: 0.0581 - val_accuracy: 0.9938 - val_mse: 0.0115\n",
            "Epoch 10/50\n",
            "154/154 [==============================] - 65s 412ms/step - loss: 0.3009 - accuracy: 0.8817 - mse: 0.0890 - val_loss: 0.0859 - val_accuracy: 0.9719 - val_mse: 0.0215\n",
            "Epoch 11/50\n",
            "154/154 [==============================] - 66s 416ms/step - loss: 0.0900 - accuracy: 0.9690 - mse: 0.0244 - val_loss: 0.0114 - val_accuracy: 0.9971 - val_mse: 0.0023\n",
            "Epoch 12/50\n",
            "154/154 [==============================] - 66s 416ms/step - loss: 0.0468 - accuracy: 0.9843 - mse: 0.0123 - val_loss: 0.0438 - val_accuracy: 0.9836 - val_mse: 0.0124\n",
            "Epoch 13/50\n",
            "154/154 [==============================] - 65s 411ms/step - loss: 0.0243 - accuracy: 0.9922 - mse: 0.0061 - val_loss: 0.0228 - val_accuracy: 0.9921 - val_mse: 0.0062\n",
            "Epoch 14/50\n",
            "154/154 [==============================] - 66s 417ms/step - loss: 0.1265 - accuracy: 0.9598 - mse: 0.0318 - val_loss: 0.0080 - val_accuracy: 0.9983 - val_mse: 0.0016\n",
            "Epoch 15/50\n",
            "154/154 [==============================] - 66s 416ms/step - loss: 0.0243 - accuracy: 0.9926 - mse: 0.0058 - val_loss: 0.0679 - val_accuracy: 0.9779 - val_mse: 0.0178\n",
            "Epoch 16/50\n",
            "154/154 [==============================] - 67s 420ms/step - loss: 0.0253 - accuracy: 0.9915 - mse: 0.0065 - val_loss: 0.0144 - val_accuracy: 0.9950 - val_mse: 0.0041\n",
            "Epoch 17/50\n",
            "154/154 [==============================] - 66s 415ms/step - loss: 0.0179 - accuracy: 0.9939 - mse: 0.0044 - val_loss: 0.0077 - val_accuracy: 0.9971 - val_mse: 0.0022\n",
            "Epoch 18/50\n",
            "154/154 [==============================] - 66s 417ms/step - loss: 0.1147 - accuracy: 0.9573 - mse: 0.0322 - val_loss: 0.0755 - val_accuracy: 0.9745 - val_mse: 0.0208\n",
            "Epoch 19/50\n",
            "154/154 [==============================] - 66s 416ms/step - loss: 0.1024 - accuracy: 0.9633 - mse: 0.0280 - val_loss: 0.0143 - val_accuracy: 0.9950 - val_mse: 0.0039\n",
            "Epoch 20/50\n",
            "154/154 [==============================] - 66s 418ms/step - loss: 0.0144 - accuracy: 0.9964 - mse: 0.0034 - val_loss: 0.0044 - val_accuracy: 0.9983 - val_mse: 0.0013\n",
            "Epoch 21/50\n",
            "154/154 [==============================] - 66s 416ms/step - loss: 0.0149 - accuracy: 0.9953 - mse: 0.0036 - val_loss: 0.0204 - val_accuracy: 0.9938 - val_mse: 0.0053\n",
            "Epoch 22/50\n",
            "154/154 [==============================] - 66s 415ms/step - loss: 0.0197 - accuracy: 0.9940 - mse: 0.0050 - val_loss: 0.0087 - val_accuracy: 0.9974 - val_mse: 0.0023\n",
            "Epoch 23/50\n",
            "154/154 [==============================] - 66s 417ms/step - loss: 0.0282 - accuracy: 0.9911 - mse: 0.0070 - val_loss: 0.0115 - val_accuracy: 0.9967 - val_mse: 0.0028\n",
            "Epoch 24/50\n",
            "154/154 [==============================] - 65s 411ms/step - loss: 0.0160 - accuracy: 0.9950 - mse: 0.0040 - val_loss: 0.0128 - val_accuracy: 0.9960 - val_mse: 0.0036\n",
            "Epoch 25/50\n",
            "154/154 [==============================] - 66s 417ms/step - loss: 0.0123 - accuracy: 0.9967 - mse: 0.0029 - val_loss: 0.0165 - val_accuracy: 0.9938 - val_mse: 0.0045\n",
            "Epoch 26/50\n",
            "154/154 [==============================] - 66s 415ms/step - loss: 0.0494 - accuracy: 0.9822 - mse: 0.0137 - val_loss: 0.0111 - val_accuracy: 0.9952 - val_mse: 0.0033\n",
            "Epoch 27/50\n",
            "154/154 [==============================] - 66s 416ms/step - loss: 0.0296 - accuracy: 0.9907 - mse: 0.0073 - val_loss: 0.0026 - val_accuracy: 0.9995 - val_mse: 4.2424e-04\n",
            "Epoch 28/50\n",
            "154/154 [==============================] - 66s 416ms/step - loss: 0.0175 - accuracy: 0.9942 - mse: 0.0044 - val_loss: 0.0060 - val_accuracy: 0.9976 - val_mse: 0.0017\n",
            "Epoch 29/50\n",
            "154/154 [==============================] - 66s 416ms/step - loss: 0.0152 - accuracy: 0.9951 - mse: 0.0038 - val_loss: 0.0019 - val_accuracy: 0.9990 - val_mse: 6.3583e-04\n",
            "Epoch 30/50\n",
            "154/154 [==============================] - 66s 417ms/step - loss: 0.0137 - accuracy: 0.9955 - mse: 0.0034 - val_loss: 0.0020 - val_accuracy: 0.9995 - val_mse: 5.1244e-04\n",
            "Epoch 31/50\n",
            "154/154 [==============================] - 66s 419ms/step - loss: 0.0145 - accuracy: 0.9955 - mse: 0.0037 - val_loss: 0.0100 - val_accuracy: 0.9962 - val_mse: 0.0027\n",
            "Epoch 32/50\n",
            "154/154 [==============================] - 65s 411ms/step - loss: 0.3279 - accuracy: 0.8672 - mse: 0.0970 - val_loss: 0.4295 - val_accuracy: 0.7540 - val_mse: 0.1533\n",
            "Epoch 33/50\n",
            "154/154 [==============================] - 66s 413ms/step - loss: 0.1680 - accuracy: 0.9473 - mse: 0.0430 - val_loss: 0.0147 - val_accuracy: 0.9943 - val_mse: 0.0041\n",
            "Epoch 34/50\n",
            "154/154 [==============================] - 66s 416ms/step - loss: 0.0418 - accuracy: 0.9873 - mse: 0.0099 - val_loss: 0.0054 - val_accuracy: 0.9995 - val_mse: 7.1797e-04\n",
            "Epoch 35/50\n",
            "154/154 [==============================] - 66s 417ms/step - loss: 0.0221 - accuracy: 0.9937 - mse: 0.0052 - val_loss: 0.0122 - val_accuracy: 0.9964 - val_mse: 0.0032\n",
            "Epoch 36/50\n",
            "154/154 [==============================] - 66s 416ms/step - loss: 0.0130 - accuracy: 0.9960 - mse: 0.0032 - val_loss: 0.0042 - val_accuracy: 0.9983 - val_mse: 0.0011\n",
            "Epoch 37/50\n",
            "154/154 [==============================] - 66s 417ms/step - loss: 0.0113 - accuracy: 0.9963 - mse: 0.0030 - val_loss: 0.0031 - val_accuracy: 0.9990 - val_mse: 8.0574e-04\n",
            "Epoch 38/50\n",
            "154/154 [==============================] - 66s 417ms/step - loss: 0.0109 - accuracy: 0.9960 - mse: 0.0029 - val_loss: 0.0100 - val_accuracy: 0.9967 - val_mse: 0.0029\n",
            "Epoch 39/50\n",
            "154/154 [==============================] - 66s 415ms/step - loss: 0.0531 - accuracy: 0.9824 - mse: 0.0141 - val_loss: 0.0059 - val_accuracy: 0.9981 - val_mse: 0.0016\n",
            "Epoch 40/50\n",
            "154/154 [==============================] - 67s 421ms/step - loss: 0.0127 - accuracy: 0.9965 - mse: 0.0030 - val_loss: 0.0052 - val_accuracy: 0.9983 - val_mse: 0.0013\n",
            "Epoch 41/50\n",
            "154/154 [==============================] - 67s 419ms/step - loss: 0.0102 - accuracy: 0.9968 - mse: 0.0023 - val_loss: 0.0034 - val_accuracy: 0.9988 - val_mse: 9.6944e-04\n",
            "Epoch 42/50\n",
            "154/154 [==============================] - 66s 419ms/step - loss: 0.0102 - accuracy: 0.9969 - mse: 0.0024 - val_loss: 0.0044 - val_accuracy: 0.9981 - val_mse: 0.0013\n",
            "Epoch 43/50\n",
            "154/154 [==============================] - 66s 419ms/step - loss: 0.0051 - accuracy: 0.9984 - mse: 0.0012 - val_loss: 0.0036 - val_accuracy: 0.9990 - val_mse: 9.4349e-04\n",
            "Epoch 44/50\n",
            "154/154 [==============================] - 67s 421ms/step - loss: 0.1593 - accuracy: 0.9631 - mse: 0.0315 - val_loss: 0.4939 - val_accuracy: 0.6902 - val_mse: 0.1705\n",
            "Epoch 45/50\n",
            "154/154 [==============================] - 66s 418ms/step - loss: 0.1175 - accuracy: 0.9490 - mse: 0.0353 - val_loss: 0.0028 - val_accuracy: 0.9986 - val_mse: 7.3494e-04\n",
            "Epoch 46/50\n",
            "154/154 [==============================] - 67s 424ms/step - loss: 0.0148 - accuracy: 0.9962 - mse: 0.0033 - val_loss: 0.0041 - val_accuracy: 0.9986 - val_mse: 0.0013\n",
            "Epoch 47/50\n",
            "154/154 [==============================] - 67s 424ms/step - loss: 0.0091 - accuracy: 0.9976 - mse: 0.0021 - val_loss: 0.0028 - val_accuracy: 0.9990 - val_mse: 6.1266e-04\n",
            "Epoch 48/50\n",
            "154/154 [==============================] - 67s 424ms/step - loss: 0.0105 - accuracy: 0.9974 - mse: 0.0024 - val_loss: 0.0153 - val_accuracy: 0.9929 - val_mse: 0.0049\n",
            "Epoch 49/50\n",
            "154/154 [==============================] - 67s 423ms/step - loss: 0.0328 - accuracy: 0.9904 - mse: 0.0077 - val_loss: 0.0032 - val_accuracy: 0.9990 - val_mse: 9.0061e-04\n",
            "Epoch 50/50\n",
            "154/154 [==============================] - 67s 422ms/step - loss: 0.0100 - accuracy: 0.9969 - mse: 0.0023 - val_loss: 0.0144 - val_accuracy: 0.9960 - val_mse: 0.0035\n",
            "Model: \"sequential\"\n",
            "_________________________________________________________________\n",
            " Layer (type)                Output Shape              Param #   \n",
            "=================================================================\n",
            " sequential_1 (Sequential)   (None, 350, 350, 3)       0         \n",
            "                                                                 \n",
            " conv2d (Conv2D)             (None, 173, 173, 32)      2432      \n",
            "                                                                 \n",
            " max_pooling2d (MaxPooling2D  (None, 86, 86, 32)       0         \n",
            " )                                                               \n",
            "                                                                 \n",
            " conv2d_1 (Conv2D)           (None, 42, 42, 32)        9248      \n",
            "                                                                 \n",
            " max_pooling2d_1 (MaxPooling  (None, 21, 21, 32)       0         \n",
            " 2D)                                                             \n",
            "                                                                 \n",
            " conv2d_2 (Conv2D)           (None, 10, 10, 32)        4128      \n",
            "                                                                 \n",
            " max_pooling2d_2 (MaxPooling  (None, 10, 10, 32)       0         \n",
            " 2D)                                                             \n",
            "                                                                 \n",
            " flatten (Flatten)           (None, 3200)              0         \n",
            "                                                                 \n",
            " dense (Dense)               (None, 128)               409728    \n",
            "                                                                 \n",
            " dense_1 (Dense)             (None, 1)                 129       \n",
            "                                                                 \n",
            "=================================================================\n",
            "Total params: 425,665\n",
            "Trainable params: 425,665\n",
            "Non-trainable params: 0\n",
            "_________________________________________________________________\n"
          ]
        },
        {
          "output_type": "display_data",
          "data": {
            "text/plain": [
              "<Figure size 576x576 with 2 Axes>"
            ],
            "image/png": "[encoded data removed]"
          },
          "metadata": {
            "needs_background": "light"
          }
        },
        {
          "output_type": "stream",
          "name": "stdout",
          "text": [
            "****************************** Model n.2 ******************************\n",
            "Epoch 1/50\n",
            "154/154 [==============================] - 72s 431ms/step - loss: 0.5819 - accuracy: 0.6829 - mse: 0.2012 - val_loss: 0.2915 - val_accuracy: 0.8888 - val_mse: 0.0874\n",
            "Epoch 2/50\n",
            "154/154 [==============================] - 67s 424ms/step - loss: 0.3869 - accuracy: 0.8142 - mse: 0.1252 - val_loss: 0.3102 - val_accuracy: 0.8555 - val_mse: 0.0995\n",
            "Epoch 3/50\n",
            "154/154 [==============================] - 67s 419ms/step - loss: 0.3530 - accuracy: 0.8399 - mse: 0.1095 - val_loss: 0.2170 - val_accuracy: 0.9329 - val_mse: 0.0579\n",
            "Epoch 4/50\n",
            "154/154 [==============================] - 67s 423ms/step - loss: 0.2536 - accuracy: 0.8906 - mse: 0.0777 - val_loss: 0.5086 - val_accuracy: 0.7419 - val_mse: 0.1755\n",
            "Epoch 5/50\n",
            "154/154 [==============================] - 67s 422ms/step - loss: 0.1909 - accuracy: 0.9183 - mse: 0.0582 - val_loss: 0.0719 - val_accuracy: 0.9779 - val_mse: 0.0181\n",
            "Epoch 6/50\n",
            "154/154 [==============================] - 67s 420ms/step - loss: 0.0949 - accuracy: 0.9721 - mse: 0.0244 - val_loss: 0.0099 - val_accuracy: 0.9983 - val_mse: 0.0019\n",
            "Epoch 7/50\n",
            "154/154 [==============================] - 67s 422ms/step - loss: 0.1113 - accuracy: 0.9610 - mse: 0.0303 - val_loss: 0.0392 - val_accuracy: 0.9855 - val_mse: 0.0111\n",
            "Epoch 8/50\n",
            "154/154 [==============================] - 67s 421ms/step - loss: 0.0459 - accuracy: 0.9853 - mse: 0.0112 - val_loss: 0.0115 - val_accuracy: 0.9967 - val_mse: 0.0029\n",
            "Epoch 9/50\n",
            "154/154 [==============================] - 67s 421ms/step - loss: 0.0393 - accuracy: 0.9874 - mse: 0.0105 - val_loss: 0.0051 - val_accuracy: 0.9983 - val_mse: 0.0012\n",
            "Epoch 10/50\n",
            "154/154 [==============================] - 66s 417ms/step - loss: 0.0425 - accuracy: 0.9851 - mse: 0.0113 - val_loss: 0.0180 - val_accuracy: 0.9948 - val_mse: 0.0040\n",
            "Epoch 11/50\n",
            "154/154 [==============================] - 67s 418ms/step - loss: 0.3935 - accuracy: 0.8149 - mse: 0.1245 - val_loss: 0.2358 - val_accuracy: 0.9119 - val_mse: 0.0673\n",
            "Epoch 12/50\n",
            "154/154 [==============================] - 66s 418ms/step - loss: 0.2987 - accuracy: 0.8740 - mse: 0.0907 - val_loss: 0.1699 - val_accuracy: 0.9379 - val_mse: 0.0485\n",
            "Epoch 13/50\n",
            "154/154 [==============================] - 66s 419ms/step - loss: 0.2538 - accuracy: 0.8947 - mse: 0.0769 - val_loss: 0.1967 - val_accuracy: 0.9205 - val_mse: 0.0604\n",
            "Epoch 14/50\n",
            "154/154 [==============================] - 66s 419ms/step - loss: 0.1686 - accuracy: 0.9352 - mse: 0.0490 - val_loss: 0.0577 - val_accuracy: 0.9776 - val_mse: 0.0165\n",
            "Epoch 15/50\n",
            "154/154 [==============================] - 66s 417ms/step - loss: 0.0893 - accuracy: 0.9665 - mse: 0.0251 - val_loss: 0.0140 - val_accuracy: 0.9952 - val_mse: 0.0034\n",
            "Epoch 16/50\n",
            "154/154 [==============================] - 66s 417ms/step - loss: 0.0633 - accuracy: 0.9748 - mse: 0.0180 - val_loss: 0.1007 - val_accuracy: 0.9662 - val_mse: 0.0262\n",
            "Epoch 17/50\n",
            "154/154 [==============================] - 66s 415ms/step - loss: 0.0326 - accuracy: 0.9911 - mse: 0.0075 - val_loss: 0.0050 - val_accuracy: 0.9988 - val_mse: 0.0012\n",
            "Epoch 18/50\n",
            "154/154 [==============================] - 66s 418ms/step - loss: 0.0197 - accuracy: 0.9949 - mse: 0.0045 - val_loss: 0.0284 - val_accuracy: 0.9893 - val_mse: 0.0085\n",
            "Epoch 19/50\n",
            "154/154 [==============================] - 66s 419ms/step - loss: 0.0163 - accuracy: 0.9954 - mse: 0.0037 - val_loss: 0.0021 - val_accuracy: 0.9990 - val_mse: 6.5966e-04\n",
            "Epoch 20/50\n",
            "154/154 [==============================] - 67s 419ms/step - loss: 0.0350 - accuracy: 0.9872 - mse: 0.0095 - val_loss: 0.0032 - val_accuracy: 0.9986 - val_mse: 8.1612e-04\n",
            "Epoch 21/50\n",
            "154/154 [==============================] - 67s 421ms/step - loss: 0.0191 - accuracy: 0.9945 - mse: 0.0044 - val_loss: 0.0170 - val_accuracy: 0.9936 - val_mse: 0.0049\n",
            "Epoch 22/50\n",
            "154/154 [==============================] - 66s 418ms/step - loss: 0.0430 - accuracy: 0.9861 - mse: 0.0109 - val_loss: 0.0054 - val_accuracy: 0.9986 - val_mse: 0.0011\n",
            "Epoch 23/50\n",
            "154/154 [==============================] - 66s 413ms/step - loss: 0.0180 - accuracy: 0.9956 - mse: 0.0037 - val_loss: 0.0065 - val_accuracy: 0.9969 - val_mse: 0.0020\n",
            "Epoch 24/50\n",
            "154/154 [==============================] - 67s 420ms/step - loss: 0.1928 - accuracy: 0.9283 - mse: 0.0547 - val_loss: 0.0988 - val_accuracy: 0.9619 - val_mse: 0.0273\n",
            "Epoch 25/50\n",
            "154/154 [==============================] - 66s 417ms/step - loss: 0.0623 - accuracy: 0.9805 - mse: 0.0157 - val_loss: 0.0097 - val_accuracy: 0.9962 - val_mse: 0.0027\n",
            "Epoch 26/50\n",
            "154/154 [==============================] - 66s 419ms/step - loss: 0.0273 - accuracy: 0.9922 - mse: 0.0065 - val_loss: 0.0452 - val_accuracy: 0.9905 - val_mse: 0.0099\n",
            "Epoch 27/50\n",
            "154/154 [==============================] - 66s 419ms/step - loss: 0.0253 - accuracy: 0.9921 - mse: 0.0063 - val_loss: 0.0069 - val_accuracy: 0.9976 - val_mse: 0.0017\n",
            "Epoch 28/50\n",
            "154/154 [==============================] - 67s 423ms/step - loss: 0.0169 - accuracy: 0.9955 - mse: 0.0040 - val_loss: 0.0049 - val_accuracy: 0.9976 - val_mse: 0.0016\n",
            "Epoch 29/50\n",
            "154/154 [==============================] - 66s 414ms/step - loss: 0.0174 - accuracy: 0.9945 - mse: 0.0041 - val_loss: 0.0143 - val_accuracy: 0.9955 - val_mse: 0.0037\n",
            "Epoch 30/50\n",
            "154/154 [==============================] - 66s 419ms/step - loss: 0.0188 - accuracy: 0.9952 - mse: 0.0043 - val_loss: 0.0019 - val_accuracy: 0.9995 - val_mse: 4.6475e-04\n",
            "Epoch 31/50\n",
            "154/154 [==============================] - 66s 419ms/step - loss: 0.0164 - accuracy: 0.9946 - mse: 0.0043 - val_loss: 0.0043 - val_accuracy: 0.9990 - val_mse: 0.0010\n",
            "Epoch 32/50\n",
            "154/154 [==============================] - 66s 418ms/step - loss: 0.0125 - accuracy: 0.9964 - mse: 0.0029 - val_loss: 0.0013 - val_accuracy: 0.9995 - val_mse: 3.7756e-04\n",
            "Epoch 33/50\n",
            "154/154 [==============================] - 66s 418ms/step - loss: 0.1213 - accuracy: 0.9599 - mse: 0.0315 - val_loss: 0.0141 - val_accuracy: 0.9962 - val_mse: 0.0033\n",
            "Epoch 34/50\n",
            "154/154 [==============================] - 68s 427ms/step - loss: 0.0194 - accuracy: 0.9947 - mse: 0.0045 - val_loss: 0.0068 - val_accuracy: 0.9986 - val_mse: 0.0013\n",
            "Epoch 35/50\n",
            "154/154 [==============================] - 66s 416ms/step - loss: 0.0162 - accuracy: 0.9954 - mse: 0.0040 - val_loss: 0.0082 - val_accuracy: 0.9971 - val_mse: 0.0022\n",
            "Epoch 36/50\n",
            "154/154 [==============================] - 67s 421ms/step - loss: 0.0129 - accuracy: 0.9969 - mse: 0.0029 - val_loss: 0.0025 - val_accuracy: 0.9990 - val_mse: 7.7345e-04\n",
            "Epoch 37/50\n",
            "154/154 [==============================] - 67s 420ms/step - loss: 0.0164 - accuracy: 0.9951 - mse: 0.0038 - val_loss: 0.0068 - val_accuracy: 0.9979 - val_mse: 0.0014\n",
            "Epoch 38/50\n",
            "154/154 [==============================] - 66s 417ms/step - loss: 0.0111 - accuracy: 0.9973 - mse: 0.0025 - val_loss: 0.0017 - val_accuracy: 0.9998 - val_mse: 3.0431e-04\n",
            "Epoch 39/50\n",
            "154/154 [==============================] - 66s 416ms/step - loss: 0.0210 - accuracy: 0.9930 - mse: 0.0053 - val_loss: 0.0068 - val_accuracy: 0.9974 - val_mse: 0.0019\n",
            "Epoch 40/50\n",
            "154/154 [==============================] - 66s 418ms/step - loss: 0.0253 - accuracy: 0.9917 - mse: 0.0066 - val_loss: 1.0143 - val_accuracy: 0.7636 - val_mse: 0.2020\n",
            "Epoch 41/50\n",
            "154/154 [==============================] - 65s 412ms/step - loss: 0.4576 - accuracy: 0.8298 - mse: 0.1207 - val_loss: 0.1261 - val_accuracy: 0.9814 - val_mse: 0.0296\n",
            "Epoch 42/50\n",
            "154/154 [==============================] - 66s 418ms/step - loss: 0.0755 - accuracy: 0.9794 - mse: 0.0191 - val_loss: 0.0126 - val_accuracy: 0.9962 - val_mse: 0.0029\n",
            "Epoch 43/50\n",
            "154/154 [==============================] - 66s 417ms/step - loss: 0.0264 - accuracy: 0.9918 - mse: 0.0060 - val_loss: 0.0052 - val_accuracy: 0.9986 - val_mse: 0.0014\n",
            "Epoch 44/50\n",
            "154/154 [==============================] - 67s 420ms/step - loss: 0.0492 - accuracy: 0.9836 - mse: 0.0125 - val_loss: 0.0086 - val_accuracy: 0.9976 - val_mse: 0.0020\n",
            "Epoch 45/50\n",
            "154/154 [==============================] - 67s 420ms/step - loss: 0.0308 - accuracy: 0.9902 - mse: 0.0076 - val_loss: 0.0068 - val_accuracy: 0.9981 - val_mse: 0.0017\n",
            "Epoch 46/50\n",
            "154/154 [==============================] - 66s 414ms/step - loss: 0.0191 - accuracy: 0.9949 - mse: 0.0042 - val_loss: 0.0048 - val_accuracy: 0.9986 - val_mse: 0.0011\n",
            "Epoch 47/50\n",
            "154/154 [==============================] - 66s 416ms/step - loss: 0.0954 - accuracy: 0.9683 - mse: 0.0248 - val_loss: 0.0050 - val_accuracy: 0.9988 - val_mse: 0.0011\n",
            "Epoch 48/50\n",
            "154/154 [==============================] - 66s 418ms/step - loss: 0.0179 - accuracy: 0.9952 - mse: 0.0040 - val_loss: 0.0078 - val_accuracy: 0.9981 - val_mse: 0.0016\n",
            "Epoch 49/50\n",
            "154/154 [==============================] - 66s 418ms/step - loss: 0.0184 - accuracy: 0.9946 - mse: 0.0042 - val_loss: 0.0127 - val_accuracy: 0.9964 - val_mse: 0.0030\n",
            "Epoch 50/50\n",
            "154/154 [==============================] - 67s 419ms/step - loss: 0.0279 - accuracy: 0.9912 - mse: 0.0068 - val_loss: 0.0117 - val_accuracy: 0.9974 - val_mse: 0.0025\n",
            "Model: \"sequential_2\"\n",
            "_________________________________________________________________\n",
            " Layer (type)                Output Shape              Param #   \n",
            "=================================================================\n",
            " sequential_3 (Sequential)   (None, 350, 350, 3)       0         \n",
            "                                                                 \n",
            " conv2d_3 (Conv2D)           (None, 173, 173, 32)      2432      \n",
            "                                                                 \n",
            " max_pooling2d_3 (MaxPooling  (None, 86, 86, 32)       0         \n",
            " 2D)                                                             \n",
            "                                                                 \n",
            " conv2d_4 (Conv2D)           (None, 42, 42, 32)        9248      \n",
            "                                                                 \n",
            " max_pooling2d_4 (MaxPooling  (None, 21, 21, 32)       0         \n",
            " 2D)                                                             \n",
            "                                                                 \n",
            " conv2d_5 (Conv2D)           (None, 10, 10, 32)        4128      \n",
            "                                                                 \n",
            " max_pooling2d_5 (MaxPooling  (None, 10, 10, 32)       0         \n",
            " 2D)                                                             \n",
            "                                                                 \n",
            " flatten_1 (Flatten)         (None, 3200)              0         \n",
            "                                                                 \n",
            " dense_2 (Dense)             (None, 128)               409728    \n",
            "                                                                 \n",
            " dropout (Dropout)           (None, 128)               0         \n",
            "                                                                 \n",
            " dense_3 (Dense)             (None, 1)                 129       \n",
            "                                                                 \n",
            "=================================================================\n",
            "Total params: 425,665\n",
            "Trainable params: 425,665\n",
            "Non-trainable params: 0\n",
            "_________________________________________________________________\n"
          ]
        },
        {
          "output_type": "display_data",
          "data": {
            "text/plain": [
              "<Figure size 576x576 with 2 Axes>"
            ],
            "image/png": "[encoded data removed]"
          },
          "metadata": {
            "needs_background": "light"
          }
        },
        {
          "output_type": "stream",
          "name": "stdout",
          "text": [
            "****************************** Model n.3 ******************************\n",
            "Epoch 1/50\n",
            "(5, 5, 3, 32)\n",
            "Tensor(\"Shape:0\", shape=(4,), dtype=int32)\n",
            "Tensor(\"Shape_1:0\", shape=(4,), dtype=int32)\n",
            "154/154 [==============================] - 72s 429ms/step - loss: 9.5027 - accuracy: 0.6812 - mse: 0.2236 - val_loss: 6.8700 - val_accuracy: 0.7110 - val_mse: 0.1955\n",
            "Epoch 2/50\n",
            "154/154 [==============================] - 66s 414ms/step - loss: 6.0743 - accuracy: 0.7981 - mse: 0.1455 - val_loss: 5.3428 - val_accuracy: 0.8581 - val_mse: 0.1066\n",
            "Epoch 3/50\n",
            "154/154 [==============================] - 66s 415ms/step - loss: 4.8824 - accuracy: 0.8292 - mse: 0.1262 - val_loss: 4.2948 - val_accuracy: 0.8721 - val_mse: 0.0942\n",
            "Epoch 4/50\n",
            "154/154 [==============================] - 66s 419ms/step - loss: 4.0201 - accuracy: 0.8205 - mse: 0.1319 - val_loss: 3.5263 - val_accuracy: 0.8790 - val_mse: 0.0906\n",
            "Epoch 5/50\n",
            "154/154 [==============================] - 66s 419ms/step - loss: 3.2687 - accuracy: 0.8432 - mse: 0.1164 - val_loss: 2.9524 - val_accuracy: 0.8390 - val_mse: 0.1144\n",
            "Epoch 6/50\n",
            "154/154 [==============================] - 66s 417ms/step - loss: 2.7179 - accuracy: 0.8406 - mse: 0.1191 - val_loss: 2.3770 - val_accuracy: 0.8810 - val_mse: 0.0887\n",
            "Epoch 7/50\n",
            "154/154 [==============================] - 66s 418ms/step - loss: 2.2371 - accuracy: 0.8567 - mse: 0.1054 - val_loss: 1.9605 - val_accuracy: 0.9202 - val_mse: 0.0641\n",
            "Epoch 8/50\n",
            "154/154 [==============================] - 66s 415ms/step - loss: 1.9256 - accuracy: 0.8504 - mse: 0.1104 - val_loss: 2.2378 - val_accuracy: 0.6117 - val_mse: 0.2691\n",
            "Epoch 9/50\n",
            "154/154 [==============================] - 66s 418ms/step - loss: 1.6223 - accuracy: 0.8583 - mse: 0.1022 - val_loss: 1.3322 - val_accuracy: 0.9274 - val_mse: 0.0546\n",
            "Epoch 10/50\n",
            "154/154 [==============================] - 66s 417ms/step - loss: 1.3911 - accuracy: 0.8653 - mse: 0.1006 - val_loss: 1.1343 - val_accuracy: 0.9326 - val_mse: 0.0499\n",
            "Epoch 11/50\n",
            "154/154 [==============================] - 66s 415ms/step - loss: 1.1576 - accuracy: 0.8872 - mse: 0.0844 - val_loss: 0.9797 - val_accuracy: 0.9405 - val_mse: 0.0449\n",
            "Epoch 12/50\n",
            "154/154 [==============================] - 67s 420ms/step - loss: 1.0177 - accuracy: 0.8915 - mse: 0.0810 - val_loss: 1.1159 - val_accuracy: 0.8193 - val_mse: 0.1325\n",
            "Epoch 13/50\n",
            "154/154 [==============================] - 66s 414ms/step - loss: 0.9661 - accuracy: 0.8727 - mse: 0.0943 - val_loss: 0.7878 - val_accuracy: 0.9245 - val_mse: 0.0570\n",
            "Epoch 14/50\n",
            "154/154 [==============================] - 67s 420ms/step - loss: 0.7855 - accuracy: 0.9029 - mse: 0.0727 - val_loss: 0.7425 - val_accuracy: 0.8895 - val_mse: 0.0774\n",
            "Epoch 15/50\n",
            "154/154 [==============================] - 66s 419ms/step - loss: 0.7469 - accuracy: 0.8916 - mse: 0.0808 - val_loss: 1.3435 - val_accuracy: 0.6655 - val_mse: 0.2562\n",
            "Epoch 16/50\n",
            "154/154 [==============================] - 66s 418ms/step - loss: 0.7053 - accuracy: 0.8820 - mse: 0.0860 - val_loss: 0.5166 - val_accuracy: 0.9476 - val_mse: 0.0402\n",
            "Epoch 17/50\n",
            "154/154 [==============================] - 66s 417ms/step - loss: 0.5803 - accuracy: 0.9054 - mse: 0.0710 - val_loss: 0.5468 - val_accuracy: 0.9155 - val_mse: 0.0628\n",
            "Epoch 18/50\n",
            "154/154 [==============================] - 66s 417ms/step - loss: 0.5756 - accuracy: 0.8983 - mse: 0.0762 - val_loss: 0.4435 - val_accuracy: 0.9512 - val_mse: 0.0376\n",
            "Epoch 19/50\n",
            "154/154 [==============================] - 66s 415ms/step - loss: 0.5209 - accuracy: 0.9096 - mse: 0.0675 - val_loss: 0.3956 - val_accuracy: 0.9524 - val_mse: 0.0353\n",
            "Epoch 20/50\n",
            "154/154 [==============================] - 66s 418ms/step - loss: 0.5008 - accuracy: 0.9092 - mse: 0.0675 - val_loss: 0.5900 - val_accuracy: 0.8750 - val_mse: 0.0899\n",
            "Epoch 21/50\n",
            "154/154 [==============================] - 66s 419ms/step - loss: 0.4442 - accuracy: 0.9250 - mse: 0.0571 - val_loss: 0.4806 - val_accuracy: 0.8888 - val_mse: 0.0774\n",
            "Epoch 22/50\n",
            "154/154 [==============================] - 66s 418ms/step - loss: 0.4720 - accuracy: 0.9057 - mse: 0.0693 - val_loss: 0.4897 - val_accuracy: 0.8817 - val_mse: 0.0846\n",
            "Epoch 23/50\n",
            "115/154 [=====================>........] - ETA: 11s - loss: 0.3939 - accuracy: 0.9288 - mse: 0.0533"
          ]
        }
      ]
    },
    {
      "cell_type": "code",
      "source": [
        "#Show training and validation graphs\n",
        "Model_1_AIC = AIC_list[0:EPOCHS]\n",
        "Model_2_AIC = AIC_list[EPOCHS:EPOCHS*2]\n",
        "Model_3_AIC = AIC_list[EPOCHS*2:EPOCHS*3]\n",
        "Model_4_AIC = AIC_list[EPOCHS*3:EPOCHS*4]\n",
        "\n",
        "plt.figure(figsize=(8, 8))\n",
        "plt.subplot(2, 1, 1)\n",
        "plt.plot(Model_1_AIC, label='Model_1_AIC', color = 'red')\n",
        "plt.plot(Model_2_AIC, label='Model_2_AIC', color = 'blue')\n",
        "plt.plot(Model_3_AIC, label='Model_3_AIC', color = 'yellow')\n",
        "plt.plot(Model_4_AIC, label='Model_4_AIC', color = 'green')\n",
        "plt.ylim([min(AIC_list)-500, max(AIC_list)+500])\n",
        "plt.legend(loc='lower right')\n",
        "plt.title('Training and Validation Accuracy')"
      ],
      "metadata": {
        "id": "IDYnV5M5sPGT"
      },
      "id": "IDYnV5M5sPGT",
      "execution_count": null,
      "outputs": []
    },
    {
      "cell_type": "markdown",
      "source": [
        "Create a Strategy scope, and put the compiled model inside it."
      ],
      "metadata": {
        "id": "Ps8_c_tW-tZo"
      },
      "id": "Ps8_c_tW-tZo"
    },
    {
      "cell_type": "markdown",
      "source": [
        "Train the model on all available devices."
      ],
      "metadata": {
        "id": "fRQhoERg-95S"
      },
      "id": "fRQhoERg-95S"
    },
    {
      "cell_type": "markdown",
      "source": [
        "Test the model on all available devices."
      ],
      "metadata": {
        "id": "uXOxf094_Cow"
      },
      "id": "uXOxf094_Cow"
    },
    {
      "cell_type": "code",
      "source": [
        "model.evaluate(test_dataset)"
      ],
      "metadata": {
        "id": "hifoupSce9kk"
      },
      "id": "hifoupSce9kk",
      "execution_count": null,
      "outputs": []
    },
    {
      "cell_type": "markdown",
      "source": [
        "Plot the Train and Validation loss and accuracy graph."
      ],
      "metadata": {
        "id": "JHVs1mwT_RNV"
      },
      "id": "JHVs1mwT_RNV"
    }
  ],
  "metadata": {
    "kernelspec": {
      "display_name": "Python 3 (ipykernel)",
      "language": "python",
      "name": "python3"
    },
    "language_info": {
      "codemirror_mode": {
        "name": "ipython",
        "version": 3
      },
      "file_extension": ".py",
      "mimetype": "text/x-python",
      "name": "python",
      "nbconvert_exporter": "python",
      "pygments_lexer": "ipython3",
      "version": "3.9.7"
    },
    "colab": {
      "name": "Copy of Downloads.ipynb",
      "provenance": [],
      "include_colab_link": true
    },
    "accelerator": "GPU"
  },
  "nbformat": 4,
  "nbformat_minor": 5
}