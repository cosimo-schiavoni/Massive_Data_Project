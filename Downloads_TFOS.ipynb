{
  "cells": [
    {
      "cell_type": "markdown",
      "metadata": {
        "id": "view-in-github",
        "colab_type": "text"
      },
      "source": [
        "<a href=\"https://colab.research.google.com/github/cosimo-schiavoni/Massive_Data_Project/blob/main/Downloads_TFOS.ipynb\" target=\"_parent\"><img src=\"https://colab.research.google.com/assets/colab-badge.svg\" alt=\"Open In Colab\"/></a>"
      ]
    },
    {
      "cell_type": "code",
      "source": [
        "!nvidia-smi"
      ],
      "metadata": {
        "id": "8VThIbCShB9L",
        "outputId": "b818acae-fd21-4b4e-e7cd-e434a08f2713",
        "colab": {
          "base_uri": "https://localhost:8080/"
        }
      },
      "id": "8VThIbCShB9L",
      "execution_count": 1,
      "outputs": [
        {
          "output_type": "stream",
          "name": "stdout",
          "text": [
            "NVIDIA-SMI has failed because it couldn't communicate with the NVIDIA driver. Make sure that the latest NVIDIA driver is installed and running.\n",
            "\n"
          ]
        }
      ]
    },
    {
      "cell_type": "code",
      "source": [
        "!wget -q https://www-eu.apache.org/dist/spark/spark-3.2.1/spark-3.2.1-bin-hadoop2.7.tgz\n",
        "!tar xf spark-3.2.1-bin-hadoop2.7.tgz\n",
        "!rm spark-3.2.1-bin-hadoop2.7.tgz\n",
        "!apt-get install openjdk-8-jdk-headless -qq > /dev/null\n",
        "!pip install findspark\n",
        "!pip install pyspark\n",
        "!pip install -q kaggle\n",
        "!pip install tensorflowonspark\n",
        "!pip install sparkdl\n",
        "!pip install tensorframes\n",
        "!pip install petastorm"
      ],
      "metadata": {
        "colab": {
          "base_uri": "https://localhost:8080/"
        },
        "id": "hcEQwefubdsC",
        "outputId": "510b43e5-8bb3-4e32-cce4-372d4f50ea42"
      },
      "id": "hcEQwefubdsC",
      "execution_count": 1,
      "outputs": [
        {
          "output_type": "stream",
          "name": "stdout",
          "text": [
            "Collecting findspark\n",
            "  Downloading findspark-2.0.1-py2.py3-none-any.whl (4.4 kB)\n",
            "Installing collected packages: findspark\n",
            "Successfully installed findspark-2.0.1\n",
            "Collecting pyspark\n",
            "  Downloading pyspark-3.2.1.tar.gz (281.4 MB)\n",
            "\u001b[K     |████████████████████████████████| 281.4 MB 29 kB/s \n",
            "\u001b[?25hCollecting py4j==0.10.9.3\n",
            "  Downloading py4j-0.10.9.3-py2.py3-none-any.whl (198 kB)\n",
            "\u001b[K     |████████████████████████████████| 198 kB 23.2 MB/s \n",
            "\u001b[?25hBuilding wheels for collected packages: pyspark\n",
            "  Building wheel for pyspark (setup.py) ... \u001b[?25l\u001b[?25hdone\n",
            "  Created wheel for pyspark: filename=pyspark-3.2.1-py2.py3-none-any.whl size=281853642 sha256=3bfbc5851f87a69c85836735b0b8a5550ece6796e35eda58f5f01d170988318e\n",
            "  Stored in directory: /root/.cache/pip/wheels/9f/f5/07/7cd8017084dce4e93e84e92efd1e1d5334db05f2e83bcef74f\n",
            "Successfully built pyspark\n",
            "Installing collected packages: py4j, pyspark\n",
            "Successfully installed py4j-0.10.9.3 pyspark-3.2.1\n",
            "Collecting tensorflowonspark\n",
            "  Downloading tensorflowonspark-2.2.5-py2.py3-none-any.whl (45 kB)\n",
            "\u001b[K     |████████████████████████████████| 45 kB 1.8 MB/s \n",
            "\u001b[?25hRequirement already satisfied: packaging in /usr/local/lib/python3.7/dist-packages (from tensorflowonspark) (21.3)\n",
            "Requirement already satisfied: setuptools>38.0 in /usr/local/lib/python3.7/dist-packages (from tensorflowonspark) (57.4.0)\n",
            "Requirement already satisfied: pyparsing!=3.0.5,>=2.0.2 in /usr/local/lib/python3.7/dist-packages (from packaging->tensorflowonspark) (3.0.9)\n",
            "Installing collected packages: tensorflowonspark\n",
            "Successfully installed tensorflowonspark-2.2.5\n",
            "Collecting sparkdl\n",
            "  Downloading sparkdl-0.2.2-py3-none-any.whl (99 kB)\n",
            "\u001b[K     |████████████████████████████████| 99 kB 3.5 MB/s \n",
            "\u001b[?25hInstalling collected packages: sparkdl\n",
            "Successfully installed sparkdl-0.2.2\n",
            "Collecting tensorframes\n",
            "  Downloading tensorframes-0.2.9-py3-none-any.whl (10 kB)\n",
            "Installing collected packages: tensorframes\n",
            "Successfully installed tensorframes-0.2.9\n",
            "Collecting petastorm\n",
            "  Downloading petastorm-0.11.4-py2.py3-none-any.whl (284 kB)\n",
            "\u001b[K     |████████████████████████████████| 284 kB 4.0 MB/s \n",
            "\u001b[?25hRequirement already satisfied: pyarrow>=0.17.1 in /usr/local/lib/python3.7/dist-packages (from petastorm) (6.0.1)\n",
            "Requirement already satisfied: pyspark>=2.1.0 in /usr/local/lib/python3.7/dist-packages (from petastorm) (3.2.1)\n",
            "Requirement already satisfied: future>=0.10.2 in /usr/local/lib/python3.7/dist-packages (from petastorm) (0.16.0)\n",
            "Requirement already satisfied: packaging>=15.0 in /usr/local/lib/python3.7/dist-packages (from petastorm) (21.3)\n",
            "Requirement already satisfied: numpy>=1.13.3 in /usr/local/lib/python3.7/dist-packages (from petastorm) (1.21.6)\n",
            "Requirement already satisfied: dill>=0.2.1 in /usr/local/lib/python3.7/dist-packages (from petastorm) (0.3.4)\n",
            "Requirement already satisfied: pandas>=0.19.0 in /usr/local/lib/python3.7/dist-packages (from petastorm) (1.3.5)\n",
            "Requirement already satisfied: pyzmq>=14.0.0 in /usr/local/lib/python3.7/dist-packages (from petastorm) (22.3.0)\n",
            "Collecting diskcache>=3.0.0\n",
            "  Downloading diskcache-5.4.0-py3-none-any.whl (44 kB)\n",
            "\u001b[K     |████████████████████████████████| 44 kB 2.6 MB/s \n",
            "\u001b[?25hCollecting fsspec\n",
            "  Downloading fsspec-2022.3.0-py3-none-any.whl (136 kB)\n",
            "\u001b[K     |████████████████████████████████| 136 kB 53.7 MB/s \n",
            "\u001b[?25hRequirement already satisfied: six>=1.5.0 in /usr/local/lib/python3.7/dist-packages (from petastorm) (1.15.0)\n",
            "Requirement already satisfied: psutil>=4.0.0 in /usr/local/lib/python3.7/dist-packages (from petastorm) (5.4.8)\n",
            "Requirement already satisfied: pyparsing!=3.0.5,>=2.0.2 in /usr/local/lib/python3.7/dist-packages (from packaging>=15.0->petastorm) (3.0.9)\n",
            "Requirement already satisfied: python-dateutil>=2.7.3 in /usr/local/lib/python3.7/dist-packages (from pandas>=0.19.0->petastorm) (2.8.2)\n",
            "Requirement already satisfied: pytz>=2017.3 in /usr/local/lib/python3.7/dist-packages (from pandas>=0.19.0->petastorm) (2022.1)\n",
            "Requirement already satisfied: py4j==0.10.9.3 in /usr/local/lib/python3.7/dist-packages (from pyspark>=2.1.0->petastorm) (0.10.9.3)\n",
            "Installing collected packages: fsspec, diskcache, petastorm\n",
            "Successfully installed diskcache-5.4.0 fsspec-2022.3.0 petastorm-0.11.4\n"
          ]
        }
      ]
    },
    {
      "cell_type": "code",
      "source": [
        "# def main():\n",
        "def main_fun(argv, ctx):\n",
        "  import tensorflow as tf\n",
        "\n",
        "if __name__ == '__main__':\n",
        "  # tf.app.run()\n",
        "  #Spark\n",
        "  import pyspark\n",
        "  from pyspark.sql import SparkSession\n",
        "  from pyspark import SparkContext, SparkConf\n",
        "  from pyspark.sql import SQLContext\n",
        "  from pyspark.ml.feature import OneHotEncoder, StringIndexer, StandardScaler, VectorAssembler\n",
        "  from pyspark.ml import Pipeline\n",
        "  from pyspark.sql.functions import rand\n",
        "  from pyspark.mllib.evaluation import MulticlassMetrics\n",
        "  # Keras / Deep Learning\n",
        "  import tensorflow as tf\n",
        "  from tensorflowonspark import TFParallel\n",
        "  from tensorflowonspark import TFCluster\n",
        "  import argparse\n",
        "  from keras.models import Sequential\n",
        "  from keras.layers.core import Dense, Dropout, Activation\n",
        "  from keras import optimizers, regularizers\n",
        "  from tensorflow.keras.optimizers import Adam\n",
        "  #from my model\n",
        "  import matplotlib\n",
        "  import matplotlib.pyplot as plt\n",
        "  import matplotlib.image as mpimg\n",
        "  import keras\n",
        "  from tensorflow.keras import layers\n",
        "  from tensorflow.keras.models import Model\n",
        "  import pickle\n",
        "  import shutil\n",
        "  import random\n",
        "  import skimage.io as io\n",
        "  from copy import deepcopy\n",
        "  import tensorflow_datasets as tfds\n",
        "  import os\n",
        "  from functools import reduce\n",
        "  from google.colab import files\n",
        "  import os\n",
        "  import zipfile\n",
        "  import numpy as np\n",
        "\n",
        "  sc = SparkContext(conf=SparkConf().setAppName(\"TFOS\"))\n",
        "  executors = sc._conf.get(\"spark.executor.instances\")\n",
        "  num_executors = int(executors) if executors is not None else 1\n",
        "\n",
        "  parser = argparse.ArgumentParser()\n",
        "  parser.add_argument(\"--cluster_size\", help=\"number of nodes in the cluster (for S with labelspark Standalone)\", type=int, default=num_executors)\n",
        "  parser.add_argument('--images_labels', type=str, help='Directory for input images with labels')\n",
        "  parser.add_argument(\"--export_dir\", help=\"HDFS path to export model\", type=str, default=\"mnist_export\")\n",
        "  parser.add_argument(\"--output\", help=\"HDFS path to save predictions\", type=str, default=\"predictions\")\n",
        "  args, _ = parser.parse_known_args()\n",
        "  print(\"args: {}\".format(args))\n"
      ],
      "metadata": {
        "colab": {
          "base_uri": "https://localhost:8080/"
        },
        "id": "XvdCPzoGxuI5",
        "outputId": "95e4870b-689f-4c19-fcb8-9e20bcd39a80"
      },
      "id": "XvdCPzoGxuI5",
      "execution_count": 3,
      "outputs": [
        {
          "output_type": "stream",
          "name": "stdout",
          "text": [
            "args: Namespace(cluster_size=1, export_dir='mnist_export', images_labels=None, output='predictions')\n"
          ]
        }
      ]
    },
    {
      "cell_type": "code",
      "source": [
        "files.upload()\n",
        "! mkdir ~/.kaggle\n",
        "! cp kaggle.json ~/.kaggle/\n",
        "! chmod 600 ~/.kaggle/kaggle.json\n",
        "\n",
        "import kaggle\n",
        "from kaggle.api.kaggle_api_extended import KaggleApi"
      ],
      "metadata": {
        "colab": {
          "resources": {
            "http://localhost:8080/nbextensions/google.colab/files.js": {
              "data": "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",
              "ok": true,
              "headers": [
                [
                  "content-type",
                  "application/javascript"
                ]
              ],
              "status": 200,
              "status_text": ""
            }
          },
          "base_uri": "https://localhost:8080/",
          "height": 73
        },
        "id": "AuoAPGS5afc7",
        "outputId": "e49f77da-c792-41ea-de4e-882d63e27bbd"
      },
      "id": "AuoAPGS5afc7",
      "execution_count": 6,
      "outputs": [
        {
          "output_type": "display_data",
          "data": {
            "text/plain": [
              "<IPython.core.display.HTML object>"
            ],
            "text/html": [
              "\n",
              "     <input type=\"file\" id=\"files-3d43e40a-226c-473c-865e-6724ad8f6b25\" name=\"files[]\" multiple disabled\n",
              "        style=\"border:none\" />\n",
              "     <output id=\"result-3d43e40a-226c-473c-865e-6724ad8f6b25\">\n",
              "      Upload widget is only available when the cell has been executed in the\n",
              "      current browser session. Please rerun this cell to enable.\n",
              "      </output>\n",
              "      <script src=\"/nbextensions/google.colab/files.js\"></script> "
            ]
          },
          "metadata": {}
        },
        {
          "output_type": "stream",
          "name": "stdout",
          "text": [
            "Saving kaggle.json to kaggle.json\n"
          ]
        }
      ]
    },
    {
      "cell_type": "code",
      "source": [
        "os.environ[\"data_source\"] = \"./Face_Comics_data\"\n",
        "\n",
        "api = KaggleApi()\n",
        "api.authenticate()\n",
        "\n",
        "if not os.path.exists(os.environ[\"data_source\"]):\n",
        "  os.makedirs(os.environ[\"data_source\"])\n",
        "  if \"comic-faces-paired-synthetic-v2\" not in os.listdir():\n",
        "    if \"comic-faces-paired-synthetic-v2.zip\" not in os.listdir():\n",
        "      ! kaggle datasets download -d defileroff/comic-faces-paired-synthetic-v2\n",
        "      with zipfile.ZipFile(\"comic-faces-paired-synthetic-v2.zip\", 'r') as f:\n",
        "        f.extractall(\"comic-faces-paired-synthetic-v2\")\n",
        "    os.remove(\"comic-faces-paired-synthetic-v2.zip\")\n",
        "\n",
        "\n",
        "!mv \"./comic-faces-paired-synthetic-v2/face2comics_v2.0.0_by_Sxela/face2comics_v2.0.0_by_Sxela/comics\" \"./Face_Comics_data\"\n",
        "!mv \"./comic-faces-paired-synthetic-v2/face2comics_v2.0.0_by_Sxela/face2comics_v2.0.0_by_Sxela/faces\" \"./Face_Comics_data\"\n",
        "\n",
        "!rm -rf comic-faces-paired-synthetic-v2"
      ],
      "metadata": {
        "colab": {
          "base_uri": "https://localhost:8080/"
        },
        "id": "4A8XXBVUU_o_",
        "outputId": "0e74ce7c-3430-4cb0-b351-64656d0c16df"
      },
      "id": "4A8XXBVUU_o_",
      "execution_count": 7,
      "outputs": [
        {
          "output_type": "stream",
          "name": "stdout",
          "text": [
            "Downloading comic-faces-paired-synthetic-v2.zip to /content\n",
            "100% 2.17G/2.18G [01:15<00:00, 43.7MB/s]\n",
            "100% 2.18G/2.18G [01:15<00:00, 31.0MB/s]\n"
          ]
        }
      ]
    },
    {
      "cell_type": "code",
      "source": [
        "#strategy = tf.distribute.MirroredStrategy()"
      ],
      "metadata": {
        "id": "yg0G4GPBMYXr",
        "outputId": "d66202f5-9143-46bb-b903-21e75ff119c6",
        "colab": {
          "base_uri": "https://localhost:8080/"
        }
      },
      "id": "yg0G4GPBMYXr",
      "execution_count": null,
      "outputs": [
        {
          "output_type": "stream",
          "name": "stdout",
          "text": [
            "INFO:tensorflow:Using MirroredStrategy with devices ('/job:localhost/replica:0/task:0/device:GPU:0',)\n"
          ]
        }
      ]
    },
    {
      "cell_type": "code",
      "source": [
        "#print('Number of devices: {}'.format(strategy.num_replicas_in_sync))"
      ],
      "metadata": {
        "id": "27XrabO_MeGP",
        "outputId": "72320b3d-fbfc-4425-d257-0d7e061cd463",
        "colab": {
          "base_uri": "https://localhost:8080/",
          "height": 166
        }
      },
      "id": "27XrabO_MeGP",
      "execution_count": 6,
      "outputs": [
        {
          "output_type": "error",
          "ename": "NameError",
          "evalue": "ignored",
          "traceback": [
            "\u001b[0;31m---------------------------------------------------------------------------\u001b[0m",
            "\u001b[0;31mNameError\u001b[0m                                 Traceback (most recent call last)",
            "\u001b[0;32m<ipython-input-6-4a2e30848668>\u001b[0m in \u001b[0;36m<module>\u001b[0;34m()\u001b[0m\n\u001b[0;32m----> 1\u001b[0;31m \u001b[0mprint\u001b[0m\u001b[0;34m(\u001b[0m\u001b[0;34m'Number of devices: {}'\u001b[0m\u001b[0;34m.\u001b[0m\u001b[0mformat\u001b[0m\u001b[0;34m(\u001b[0m\u001b[0mstrategy\u001b[0m\u001b[0;34m.\u001b[0m\u001b[0mnum_replicas_in_sync\u001b[0m\u001b[0;34m)\u001b[0m\u001b[0;34m)\u001b[0m\u001b[0;34m\u001b[0m\u001b[0;34m\u001b[0m\u001b[0m\n\u001b[0m",
            "\u001b[0;31mNameError\u001b[0m: name 'strategy' is not defined"
          ]
        }
      ]
    },
    {
      "cell_type": "code",
      "source": [
        "\"\"\"\n",
        "BUFFER_SIZE = 10000\n",
        "\n",
        "BATCH_SIZE_PER_REPLICA = 64\n",
        "BATCH_SIZE = BATCH_SIZE_PER_REPLICA * strategy.num_replicas_in_sync\n",
        "\"\"\""
      ],
      "metadata": {
        "id": "h10RLnUMM5dc"
      },
      "id": "h10RLnUMM5dc",
      "execution_count": null,
      "outputs": []
    },
    {
      "cell_type": "code",
      "source": [
        "data_dir= \"./Face_Comics_data\"\n",
        "\n",
        "tf.random.set_seed(123456)\n",
        "\n",
        "EPOCHS = 15\n",
        "BATCH_SIZE = 32\n",
        "IMG_SIZE = (350, 350)\n",
        "\n",
        "os.listdir(data_dir)\n",
        "\n",
        "\n",
        "train_dataset = tf.keras.preprocessing.image_dataset_from_directory(\n",
        "    data_dir,\n",
        "    validation_split=0.3,\n",
        "    subset=\"training\",\n",
        "    shuffle=True,\n",
        "    seed=123456,\n",
        "    image_size= IMG_SIZE,\n",
        "    batch_size=BATCH_SIZE)\n",
        "\n",
        "\n",
        "validation_dataset = tf.keras.preprocessing.image_dataset_from_directory(\n",
        "    data_dir,\n",
        "    validation_split=0.3,\n",
        "    subset=\"validation\",\n",
        "    shuffle=True,\n",
        "    seed=123456,\n",
        "    image_size= IMG_SIZE,\n",
        "    batch_size=BATCH_SIZE)"
      ],
      "metadata": {
        "id": "x2eIzIjqpSPs",
        "colab": {
          "base_uri": "https://localhost:8080/"
        },
        "outputId": "499df59b-5448-4e2e-ca7b-006296eb7cd6"
      },
      "id": "x2eIzIjqpSPs",
      "execution_count": 9,
      "outputs": [
        {
          "output_type": "stream",
          "name": "stdout",
          "text": [
            "Found 20000 files belonging to 2 classes.\n",
            "Using 14000 files for training.\n",
            "Found 20000 files belonging to 2 classes.\n",
            "Using 6000 files for validation.\n"
          ]
        }
      ]
    },
    {
      "cell_type": "code",
      "source": [
        "for image_batch, labels_batch in train_dataset:\n",
        "  train_label = labels_batch\n",
        "  train_features = image_batch"
      ],
      "metadata": {
        "id": "hAnkUet0ViZw"
      },
      "id": "hAnkUet0ViZw",
      "execution_count": 26,
      "outputs": []
    },
    {
      "cell_type": "code",
      "source": [
        "train_features"
      ],
      "metadata": {
        "id": "UrNdYr_xWHot",
        "outputId": "17b02e20-1d88-4199-c5cd-543859108bd9",
        "colab": {
          "base_uri": "https://localhost:8080/"
        }
      },
      "id": "UrNdYr_xWHot",
      "execution_count": 34,
      "outputs": [
        {
          "output_type": "execute_result",
          "data": {
            "text/plain": [
              "<tf.Tensor: shape=(16, 350, 350, 3), dtype=float32, numpy=\n",
              "array([[[[ 20.095177 ,  18.095177 ,  19.095177 ],\n",
              "         [  9.35626  ,   9.133402 ,   9.244831 ],\n",
              "         [ 13.270939 ,  13.270939 ,  13.270939 ],\n",
              "         ...,\n",
              "         [ 66.88589  ,  66.88589  ,  68.88589  ],\n",
              "         [ 64.85425  ,  62.854248 ,  65.63147  ],\n",
              "         [ 58.78629  ,  54.78629  ,  55.78629  ]],\n",
              "\n",
              "        [[  9.56956  ,   7.56956  ,   8.56956  ],\n",
              "         [ 12.64374  ,  12.420882 ,  12.5323105],\n",
              "         [ 13.426408 ,  13.426408 ,  13.426408 ],\n",
              "         ...,\n",
              "         [ 68.19945  ,  68.19945  ,  70.19945  ],\n",
              "         [ 53.98846  ,  53.56765  ,  55.555275 ],\n",
              "         [ 37.420105 ,  35.420105 ,  36.420105 ]],\n",
              "\n",
              "        [[ 10.381184 ,   8.381184 ,   9.381184 ],\n",
              "         [  6.3977547,   6.174897 ,   6.286326 ],\n",
              "         [ 11.257143 ,  11.257143 ,  11.257143 ],\n",
              "         ...,\n",
              "         [ 31.24394  ,  32.24394  ,  34.24394  ],\n",
              "         [ 22.426874 ,  22.426874 ,  24.204096 ],\n",
              "         [ 26.146261 ,  26.146261 ,  26.146261 ]],\n",
              "\n",
              "        ...,\n",
              "\n",
              "        [[ 37.441483 ,  41.441483 ,  44.441483 ],\n",
              "         [ 31.375723 ,  35.375725 ,  38.375725 ],\n",
              "         [ 28.95224  ,  32.95224  ,  35.95224  ],\n",
              "         ...,\n",
              "         [244.61765  , 172.84023  ,  94.60675  ],\n",
              "         [235.32983  , 157.10706  ,  82.536255 ],\n",
              "         [233.98088  , 151.35234  ,  82.09526  ]],\n",
              "\n",
              "        [[ 44.88607  ,  48.10885  ,  52.99746  ],\n",
              "         [ 24.63118  ,  27.853958 ,  32.74257  ],\n",
              "         [ 35.077026 ,  38.299805 ,  43.188416 ],\n",
              "         ...,\n",
              "         [241.33575  , 165.11298  ,  89.54217  ],\n",
              "         [232.43065  , 153.52963  ,  86.82685  ],\n",
              "         [225.59155  , 147.03711  ,  88.482666 ]],\n",
              "\n",
              "        [[ 22.205786 ,  27.205786 ,  31.205786 ],\n",
              "         [ 38.186825 ,  43.186825 ,  47.186825 ],\n",
              "         [ 32.255356 ,  37.255356 ,  41.255356 ],\n",
              "         ...,\n",
              "         [230.91888  , 151.10461  ,  80.84754  ],\n",
              "         [227.89275  , 152.       ,  92.6353   ],\n",
              "         [218.85019  , 146.85156  ,  99.035736 ]]],\n",
              "\n",
              "\n",
              "       [[[155.15271  , 139.15271  , 124.15271  ],\n",
              "         [149.85556  , 133.85556  , 118.85557  ],\n",
              "         [154.97931  , 138.97931  , 123.97931  ],\n",
              "         ...,\n",
              "         [163.15121  , 146.15121  , 130.15121  ],\n",
              "         [165.9835   , 148.9835   , 130.9835   ],\n",
              "         [166.80464  , 149.80464  , 129.80464  ]],\n",
              "\n",
              "        [[154.81015  , 138.81015  , 125.58729  ],\n",
              "         [153.11143  , 137.11143  , 123.88857  ],\n",
              "         [153.5214   , 137.5214   , 124.29853  ],\n",
              "         ...,\n",
              "         [161.65776  , 144.65776  , 128.65776  ],\n",
              "         [163.61885  , 146.61885  , 130.19803  ],\n",
              "         [171.42918  , 154.42918  , 136.42918  ]],\n",
              "\n",
              "        [[158.0069   , 142.0069   , 129.0069   ],\n",
              "         [157.44286  , 141.44286  , 128.44286  ],\n",
              "         [156.30244  , 140.30244  , 127.30245  ],\n",
              "         ...,\n",
              "         [158.01083  , 140.01083  , 126.01084  ],\n",
              "         [162.69063  , 145.69063  , 129.69063  ],\n",
              "         [162.14171  , 145.14171  , 129.14171  ]],\n",
              "\n",
              "        ...,\n",
              "\n",
              "        [[151.36456  , 135.36456  , 122.36456  ],\n",
              "         [153.5585   , 137.5585   , 124.5585   ],\n",
              "         [152.48819  , 136.48819  , 123.48819  ],\n",
              "         ...,\n",
              "         [148.77977  , 131.77977  , 123.77978  ],\n",
              "         [149.39215  , 132.39215  , 124.39215  ],\n",
              "         [140.89803  , 123.898026 , 115.898026 ]],\n",
              "\n",
              "        [[146.40173  , 130.40173  , 117.178955 ],\n",
              "         [151.30942  , 135.30942  , 122.08664  ],\n",
              "         [154.15005  , 138.15005  , 124.927284 ],\n",
              "         ...,\n",
              "         [148.26141  , 131.26141  , 123.261406 ],\n",
              "         [150.21037  , 133.21037  , 125.21037  ],\n",
              "         [145.85576  , 128.85576  , 120.85576  ]],\n",
              "\n",
              "        [[151.49089  , 135.49089  , 120.49089  ],\n",
              "         [145.55025  , 129.55025  , 114.55025  ],\n",
              "         [150.18571  , 134.18571  , 119.185715 ],\n",
              "         ...,\n",
              "         [141.46672  , 124.46672  , 116.46672  ],\n",
              "         [140.11972  , 123.11972  , 115.11972  ],\n",
              "         [160.4893   , 143.4893   , 135.4893   ]]],\n",
              "\n",
              "\n",
              "       [[[ 46.161087 ,  44.161087 ,  47.161087 ],\n",
              "         [ 38.0867   ,  36.0867   ,  39.0867   ],\n",
              "         [ 36.601185 ,  34.601185 ,  37.601185 ],\n",
              "         ...,\n",
              "         [  4.4526443,   4.4526443,   4.4526443],\n",
              "         [  5.4868765,   5.4868765,   5.4868765],\n",
              "         [ 16.37755  ,  16.37755  ,  16.37755  ]],\n",
              "\n",
              "        [[ 40.513004 ,  40.290146 ,  42.401577 ],\n",
              "         [ 38.18847  ,  37.96561  ,  40.077038 ],\n",
              "         [ 36.004246 ,  35.781387 ,  37.892815 ],\n",
              "         ...,\n",
              "         [  8.741561 ,   8.741561 ,   8.741561 ],\n",
              "         [ 10.8788595,  10.8788595,  10.8788595],\n",
              "         [  9.726055 ,   9.726055 ,   9.726055 ]],\n",
              "\n",
              "        [[ 42.037144 ,  42.037144 ,  44.037144 ],\n",
              "         [ 35.243553 ,  35.243553 ,  37.243553 ],\n",
              "         [ 32.045307 ,  32.045307 ,  34.045307 ],\n",
              "         ...,\n",
              "         [  9.777429 ,   9.777429 ,   9.777429 ],\n",
              "         [  6.373931 ,   6.373931 ,   6.373931 ],\n",
              "         [  9.452539 ,   9.452539 ,   9.452539 ]],\n",
              "\n",
              "        ...,\n",
              "\n",
              "        [[ 56.81031  ,  67.81031  ,  71.81031  ],\n",
              "         [ 58.264297 ,  69.26429  ,  73.26429  ],\n",
              "         [ 59.371445 ,  70.371445 ,  74.371445 ],\n",
              "         ...,\n",
              "         [ 60.       ,  69.       ,  74.       ],\n",
              "         [ 60.59424  ,  67.59424  ,  73.59424  ],\n",
              "         [ 66.18573  ,  71.18573  ,  77.18573  ]],\n",
              "\n",
              "        [[ 58.148533 ,  69.14853  ,  73.14853  ],\n",
              "         [ 60.88853  ,  71.888535 ,  75.888535 ],\n",
              "         [ 56.961327 ,  67.96133  ,  71.96133  ],\n",
              "         ...,\n",
              "         [ 57.519897 ,  66.5199   ,  71.5199   ],\n",
              "         [ 61.334167 ,  68.33417  ,  74.33417  ],\n",
              "         [ 66.60645  ,  71.60645  ,  77.60645  ]],\n",
              "\n",
              "        [[ 61.63237  ,  72.63238  ,  76.63238  ],\n",
              "         [ 54.268036 ,  65.268036 ,  69.268036 ],\n",
              "         [ 55.438587 ,  66.43859  ,  70.43859  ],\n",
              "         ...,\n",
              "         [ 58.668335 ,  67.668335 ,  72.668335 ],\n",
              "         [ 60.259766 ,  67.259766 ,  73.259766 ],\n",
              "         [ 77.74356  ,  82.74356  ,  88.74356  ]]],\n",
              "\n",
              "\n",
              "       ...,\n",
              "\n",
              "\n",
              "       [[[ 17.056654 ,  15.056653 ,  16.056654 ],\n",
              "         [ 13.918823 ,  11.918823 ,  12.918823 ],\n",
              "         [ 15.345223 ,  13.345223 ,  14.345223 ],\n",
              "         ...,\n",
              "         [  7.1788   ,   5.1788   ,   6.1788   ],\n",
              "         [  9.67259  ,   5.6725907,   6.6725907],\n",
              "         [ 18.526054 ,  12.526055 ,  14.526055 ]],\n",
              "\n",
              "        [[ 10.680988 ,  10.458131 ,  10.56956  ],\n",
              "         [ 13.544726 ,  13.321869 ,  13.433298 ],\n",
              "         [ 13.537837 ,  13.31498  ,  13.426408 ],\n",
              "         ...,\n",
              "         [ 10.850085 ,   8.850085 ,   9.850085 ],\n",
              "         [ 10.977877 ,   8.557064 ,   9.557064 ],\n",
              "         [  9.0560055,   5.056005 ,   6.056005 ]],\n",
              "\n",
              "        [[  8.306898 ,   8.306898 ,   8.306898 ],\n",
              "         [  9.802081 ,   9.802081 ,   9.802081 ],\n",
              "         [  8.894081 ,   8.894081 ,   8.894081 ],\n",
              "         ...,\n",
              "         [  7.92865  ,   7.92865  ,   7.92865  ],\n",
              "         [  6.812676 ,   4.812676 ,   5.812676 ],\n",
              "         [ 12.043667 ,  10.043667 ,  11.043667 ]],\n",
              "\n",
              "        ...,\n",
              "\n",
              "        [[ 56.36881  ,  61.36881  ,  65.36881  ],\n",
              "         [ 50.788    ,  55.788    ,  59.788    ],\n",
              "         [ 52.626205 ,  57.626205 ,  61.626205 ],\n",
              "         ...,\n",
              "         [ 45.068993 ,  36.034496 ,  38.965504 ],\n",
              "         [ 45.891357 ,  31.689268 ,  31.46216  ],\n",
              "         [ 58.847355 ,  39.415462 ,  35.63141  ]],\n",
              "\n",
              "        [[ 61.198036 ,  66.19803  ,  70.19803  ],\n",
              "         [ 54.272346 ,  59.272346 ,  63.272346 ],\n",
              "         [ 53.05203  ,  58.05203  ,  62.05203  ],\n",
              "         ...,\n",
              "         [ 53.96295  ,  43.96295  ,  44.59149  ],\n",
              "         [ 59.11139  ,  43.77722  ,  40.88861  ],\n",
              "         [ 72.23925  ,  51.226852 ,  46.230984 ]],\n",
              "\n",
              "        [[ 60.639164 ,  65.63916  ,  69.63916  ],\n",
              "         [ 58.288605 ,  63.288605 ,  67.288605 ],\n",
              "         [ 54.466324 ,  59.466324 ,  63.466324 ],\n",
              "         ...,\n",
              "         [ 53.631226 ,  43.259766 ,  42.445496 ],\n",
              "         [ 57.52798  ,  42.185547 ,  39.30107  ],\n",
              "         [ 86.78067  ,  62.817783 ,  58.743565 ]]],\n",
              "\n",
              "\n",
              "       [[[245.88719  , 246.88719  , 240.88719  ],\n",
              "         [252.9257   , 253.9257   , 247.9257   ],\n",
              "         [249.19261  , 250.19261  , 244.19261  ],\n",
              "         ...,\n",
              "         [248.51709  , 249.51709  , 243.51709  ],\n",
              "         [247.66014  , 248.656    , 242.66014  ],\n",
              "         [242.73473  , 243.73473  , 237.73473  ]],\n",
              "\n",
              "        [[251.06601  , 252.06601  , 246.06601  ],\n",
              "         [246.4333   , 247.4333   , 241.4333   ],\n",
              "         [246.11143  , 247.11143  , 241.11143  ],\n",
              "         ...,\n",
              "         [248.71796  , 249.71796  , 243.71796  ],\n",
              "         [253.23248  , 254.23248  , 248.23248  ],\n",
              "         [251.92567  , 252.92567  , 246.92567  ]],\n",
              "\n",
              "        [[249.18571  , 250.18571  , 244.18571  ],\n",
              "         [247.92572  , 248.92572  , 242.92572  ],\n",
              "         [244.33694  , 245.33694  , 239.33694  ],\n",
              "         ...,\n",
              "         [250.6522   , 251.6522   , 245.6522   ],\n",
              "         [247.57352  , 248.57352  , 242.57352  ],\n",
              "         [247.74696  , 248.74696  , 242.74696  ]],\n",
              "\n",
              "        ...,\n",
              "\n",
              "        [[207.57068  , 211.57068  , 188.21301  ],\n",
              "         [213.58719  , 215.81004  , 193.69862  ],\n",
              "         [209.40598  , 211.40598  , 189.40598  ],\n",
              "         ...,\n",
              "         [152.01707  , 166.98257  , 126.45752  ],\n",
              "         [162.02185  , 172.91046  , 141.7975   ],\n",
              "         [174.7917   , 182.7917   , 158.97743  ]],\n",
              "\n",
              "        [[218.2517   , 222.36308  , 195.02892  ],\n",
              "         [215.66576  , 218.       , 193.33154  ],\n",
              "         [214.94475  , 216.94475  , 192.94475  ],\n",
              "         ...,\n",
              "         [158.8857   , 173.8857   , 133.25716  ],\n",
              "         [168.73009  , 179.73009  , 147.73009  ],\n",
              "         [188.18546  , 197.18546  , 169.96268  ]],\n",
              "\n",
              "        [[233.58336  , 238.58336  , 206.58336  ],\n",
              "         [224.01889  , 227.24174  , 198.13033  ],\n",
              "         [205.97504  , 208.97504  , 181.97504  ],\n",
              "         ...,\n",
              "         [167.88599  , 182.88599  , 141.88599  ],\n",
              "         [176.71954  , 188.71954  , 152.65358  ],\n",
              "         [202.7746   , 212.7746   , 178.70175  ]]],\n",
              "\n",
              "\n",
              "       [[[ 13.870939 ,  11.870939 ,  12.870939 ],\n",
              "         [ 10.797836 ,  10.574979 ,  10.686408 ],\n",
              "         [ 15.30404  ,  15.30404  ,  15.30404  ],\n",
              "         ...,\n",
              "         [  4.6452885,   8.645288 ,   7.6452885],\n",
              "         [  7.9545827,  11.954582 ,  10.954582 ],\n",
              "         [ 11.933248 ,  15.933248 ,  14.933248 ]],\n",
              "\n",
              "        [[  7.800695 ,   5.800695 ,   6.800695 ],\n",
              "         [ 12.225716 ,  12.002859 ,  12.114288 ],\n",
              "         [ 16.057837 ,  16.057837 ,  16.057837 ],\n",
              "         ...,\n",
              "         [  9.536494 ,  13.536494 ,  12.536494 ],\n",
              "         [  7.9901695,  11.99017  ,  10.99017  ],\n",
              "         [  6.5032983,  10.503299 ,   9.503299 ]],\n",
              "\n",
              "        [[  8.462367 ,   6.462367 ,   7.462367 ],\n",
              "         [  9.6192255,   9.396367 ,   9.507796 ],\n",
              "         [ 12.079795 ,  12.079795 ,  12.079795 ],\n",
              "         ...,\n",
              "         [ 10.079903 ,  14.079903 ,  13.079903 ],\n",
              "         [  7.412605 ,  11.412604 ,  10.412604 ],\n",
              "         [  9.023158 ,  13.023158 ,  12.023158 ]],\n",
              "\n",
              "        ...,\n",
              "\n",
              "        [[ 54.04404  ,  65.04404  ,  71.04404  ],\n",
              "         [ 51.979305 ,  62.979305 ,  68.9793   ],\n",
              "         [ 51.74292  ,  62.74292  ,  68.74292  ],\n",
              "         ...,\n",
              "         [ 70.37146  ,  70.       ,  70.18573  ],\n",
              "         [ 74.32056  ,  71.48285  ,  72.062065 ],\n",
              "         [ 82.89843  ,  72.46654  ,  71.68249  ]],\n",
              "\n",
              "        [[ 59.14857  ,  69.148575 ,  78.148575 ],\n",
              "         [ 54.433105 ,  64.433105 ,  73.433105 ],\n",
              "         [ 51.524193 ,  61.524193 ,  70.52419  ],\n",
              "         ...,\n",
              "         [ 77.07684  ,  70.742676 ,  72.63129  ],\n",
              "         [ 82.0025   ,  71.53213  ,  72.53213  ],\n",
              "         [ 94.96527  ,  78.453766 ,  78.565155 ]],\n",
              "\n",
              "        [[ 59.007732 ,  69.00774  ,  79.00774  ],\n",
              "         [ 51.789345 ,  61.789345 ,  71.789345 ],\n",
              "         [ 50.81691  ,  60.81691  ,  70.81691  ],\n",
              "         ...,\n",
              "         [ 82.563896 ,  70.563896 ,  72.563896 ],\n",
              "         [ 88.80838  ,  72.2639   ,  75.11954  ],\n",
              "         [111.78067  ,  86.7793   ,  89.597885 ]]]], dtype=float32)>"
            ]
          },
          "metadata": {},
          "execution_count": 34
        }
      ]
    },
    {
      "cell_type": "code",
      "source": [
        "train_label = np.concatenate([y for x, y in train_dataset], axis=0)\n",
        "\n",
        "test_label = np.concatenate([y for x, y in validation_dataset], axis=0) "
      ],
      "metadata": {
        "id": "2R3vk9INOXMI"
      },
      "id": "2R3vk9INOXMI",
      "execution_count": 11,
      "outputs": []
    },
    {
      "cell_type": "code",
      "source": [
        "np.shape(train_label)"
      ],
      "metadata": {
        "colab": {
          "base_uri": "https://localhost:8080/"
        },
        "id": "CkNp-_rzRnkG",
        "outputId": "8ddc4ef8-13eb-461e-f46e-b90940532470"
      },
      "id": "CkNp-_rzRnkG",
      "execution_count": 15,
      "outputs": [
        {
          "output_type": "execute_result",
          "data": {
            "text/plain": [
              "(6000,)"
            ]
          },
          "metadata": {},
          "execution_count": 15
        }
      ]
    },
    {
      "cell_type": "code",
      "source": [
        "#data augmentation\n",
        "\n",
        "@tf.function\n",
        "def random_invert_img(x, p=0.5):\n",
        "  if  tf.random.uniform([]) < p:\n",
        "    x = (180-x)\n",
        "  else:\n",
        "    x\n",
        "  return x\n",
        "\n",
        "###Randim invert\n",
        "@tf.function \n",
        "def random_invert(factor=0.5):\n",
        "  return layers.Lambda(lambda x: random_invert_img(x, factor))\n",
        "\n",
        "@tf.function \n",
        "class RandomInvert(layers.Layer):\n",
        "  @tf.function \n",
        "  def __init__(self, factor=0.5, **kwargs):\n",
        "    super().__init__(**kwargs)\n",
        "    self.factor = factor\n",
        "  @tf.function \n",
        "  def call(self, x):\n",
        "    return random_invert_img(x)\n",
        "\n",
        "\n",
        "###Kernel Inizializer Sobel_x\n",
        "@tf.function \n",
        "def hedge_detector(shape, dtype=None):\n",
        "    print(shape)    \n",
        "    sobel_x = tf.constant(\n",
        "        [\n",
        "            [-5, -4, 0, 4, 5], \n",
        "            [-8, -10, 0, 10, 8], \n",
        "            [-10, -20, 0, 20, 10], \n",
        "            [-8, -10, 0, 10, 8], \n",
        "            [-5, -4, 0, 4, 5]\n",
        "        ], dtype=dtype )\n",
        "    #create the missing dims.\n",
        "    sobel_x = tf.reshape(sobel_x, (5, 5, 1, 1))\n",
        "\n",
        "    print(tf.shape(sobel_x))\n",
        "    #tile the last 2 axis to get the expected dims.\n",
        "    sobel_x = tf.tile(sobel_x, (1, 1, shape[-2],shape[-1]))\n",
        "\n",
        "    print(tf.shape(sobel_x))\n",
        "    return sobel_x\n",
        "\n",
        "@tf.function \n",
        "def vertical_detector(shape, dtype=None):\n",
        "    print(shape)    \n",
        "    sobel_x = tf.constant(\n",
        "        [\n",
        "            [1, 0, -1], \n",
        "            [1, 0, -1], \n",
        "            [1, 0, -1]\n",
        "        ], dtype=dtype )\n",
        "    #create the missing dims.\n",
        "    sobel_x = tf.reshape(sobel_x, (3, 3, 1, 1))\n",
        "\n",
        "    print(tf.shape(sobel_x))\n",
        "    #tile the last 2 axis to get the expected dims.\n",
        "    sobel_x = tf.tile(sobel_x, (1, 1, shape[-2],shape[-1]))\n",
        "\n",
        "    print(tf.shape(sobel_x))\n",
        "    return sobel_x\n",
        "\n",
        "@tf.function \n",
        "def horizontal_detector(shape, dtype=None):\n",
        "    print(shape)    \n",
        "    sobel_x = tf.constant(\n",
        "        [\n",
        "            [1, 1, 1], \n",
        "            [0, 0, 0], \n",
        "            [-1, -1, -1]\n",
        "        ], dtype=dtype )\n",
        "    #create the missing dims.\n",
        "    sobel_x = tf.reshape(sobel_x, (3, 3, 1, 1))\n",
        "\n",
        "    print(tf.shape(sobel_x))\n",
        "    #tile the last 2 axis to get the expected dims.\n",
        "    sobel_x = tf.tile(sobel_x, (1, 1, shape[-2],shape[-1]))\n",
        "\n",
        "    print(tf.shape(sobel_x))\n",
        "    return sobel_x"
      ],
      "metadata": {
        "id": "GOCGF4YHS-kc"
      },
      "id": "GOCGF4YHS-kc",
      "execution_count": null,
      "outputs": []
    },
    {
      "cell_type": "code",
      "source": [
        "###Create CNN\n",
        "#Initialize the CNN\n",
        "cnn = tf.keras.models.Sequential()\n",
        "\"\"\"    \n",
        "cnn.add(tf.keras.Sequential([\n",
        "\tlayers.RandomFlip(\"horizontal_and_vertical\"),\n",
        "\tlayers.RandomRotation(0.3),\n",
        "    layers.RandomContrast(0.5, seed=None),\n",
        "    RandomInvert(),\n",
        "    layers.RandomZoom(height_factor=(-0.2, +0.3)),\n",
        "    layers.RandomTranslation(height_factor=(-0.2, +0.3),width_factor=(-0.2, +0.3)),\n",
        "    layers.Rescaling(1./255, offset= -1)\n",
        "    ]))\n",
        "\"\"\"\n",
        "#DROPOUT\n",
        "#Introduce the Convolution layer with Kernel_initializer=Sobel_x\n",
        "#Convolution\n",
        "cnn.add(tf.keras.layers.Conv2D(32, kernel_size=5, strides=2, activation='relu',  input_shape = [350,350,3]))\n",
        "#Pooling\n",
        "cnn.add(tf.keras.layers.MaxPool2D(pool_size = 2, strides = 2))\n",
        "#Convolution\n",
        "cnn.add(tf.keras.layers.Conv2D(filters = 32, kernel_size = 3,  strides=2, activation = 'relu'))\n",
        "#Pooling\n",
        "cnn.add(tf.keras.layers.MaxPool2D(pool_size = 2, strides = 2))\n",
        "#Second Convolutional Layer\n",
        "cnn.add(tf.keras.layers.Conv2D(filters = 32, kernel_size = 2,  strides=2, activation = 'relu'))\n",
        "cnn.add(tf.keras.layers.MaxPool2D(pool_size = 2, strides=1, padding='same'))\n",
        "#Third Convolutional Layer\n",
        "#cnn.add(tf.keras.layers.Conv2D(filters = 32, kernel_size = 2, activation = 'relu'))\n",
        "#cnn.add(tf.keras.layers.MaxPool2D(pool_size = 2, strides=2))\n",
        "#Flattening\n",
        "cnn.add(tf.keras.layers.Flatten())\n",
        "#Full Connection\n",
        "cnn.add(tf.keras.layers.Dense(units = 128, activation = 'relu'))\n",
        "#DROPOUTS ok(0.1)\n",
        "cnn.add(tf.keras.layers.Dropout(0.1))\n",
        "#Output Layer\n",
        "cnn.add(tf.keras.layers.Dense(units=1, activation = 'sigmoid'))\n",
        "###Training CNN\n",
        "#Compiling the CNN\n",
        "cnn.compile(optimizer = 'adam', loss = 'binary_crossentropy', metrics = ['accuracy'])\n",
        "#training the CNN on the train_dataset and validate it on the validation_dataset\n",
        "#model_fit = cnn.fit(x = train_dataset, validation_data = validation_dataset, epochs = EPOCHS)\n",
        "\n",
        "cnn.summary()\n"
      ],
      "metadata": {
        "id": "wVzJSDk8WxxD",
        "outputId": "16189753-d020-4d2d-8c9c-734fef9d9941",
        "colab": {
          "base_uri": "https://localhost:8080/"
        }
      },
      "id": "wVzJSDk8WxxD",
      "execution_count": 16,
      "outputs": [
        {
          "output_type": "stream",
          "name": "stdout",
          "text": [
            "Model: \"sequential\"\n",
            "_________________________________________________________________\n",
            " Layer (type)                Output Shape              Param #   \n",
            "=================================================================\n",
            " conv2d (Conv2D)             (None, 173, 173, 32)      2432      \n",
            "                                                                 \n",
            " max_pooling2d (MaxPooling2D  (None, 86, 86, 32)       0         \n",
            " )                                                               \n",
            "                                                                 \n",
            " conv2d_1 (Conv2D)           (None, 42, 42, 32)        9248      \n",
            "                                                                 \n",
            " max_pooling2d_1 (MaxPooling  (None, 21, 21, 32)       0         \n",
            " 2D)                                                             \n",
            "                                                                 \n",
            " conv2d_2 (Conv2D)           (None, 10, 10, 32)        4128      \n",
            "                                                                 \n",
            " max_pooling2d_2 (MaxPooling  (None, 10, 10, 32)       0         \n",
            " 2D)                                                             \n",
            "                                                                 \n",
            " flatten (Flatten)           (None, 3200)              0         \n",
            "                                                                 \n",
            " dense (Dense)               (None, 128)               409728    \n",
            "                                                                 \n",
            " dropout (Dropout)           (None, 128)               0         \n",
            "                                                                 \n",
            " dense_1 (Dense)             (None, 1)                 129       \n",
            "                                                                 \n",
            "=================================================================\n",
            "Total params: 425,665\n",
            "Trainable params: 425,665\n",
            "Non-trainable params: 0\n",
            "_________________________________________________________________\n"
          ]
        }
      ]
    },
    {
      "cell_type": "code",
      "source": [
        "tf_classifier = tf.keras.estimator.model_to_estimator(keras_model = cnn)"
      ],
      "metadata": {
        "colab": {
          "base_uri": "https://localhost:8080/"
        },
        "id": "PdM-UhOGH457",
        "outputId": "0ffd8d1a-2097-4a48-8e22-fad00d5cedd2"
      },
      "id": "PdM-UhOGH457",
      "execution_count": 17,
      "outputs": [
        {
          "output_type": "stream",
          "name": "stdout",
          "text": [
            "INFO:tensorflow:Using default config.\n"
          ]
        },
        {
          "output_type": "stream",
          "name": "stderr",
          "text": [
            "2022-05-17 23:10:01,447 INFO (MainThread-63) Using default config.\n"
          ]
        },
        {
          "output_type": "stream",
          "name": "stdout",
          "text": [
            "WARNING:tensorflow:Using temporary folder as model directory: /tmp/tmpiv5fqh88\n"
          ]
        },
        {
          "output_type": "stream",
          "name": "stderr",
          "text": [
            "2022-05-17 23:10:01,455 WARNING (MainThread-63) Using temporary folder as model directory: /tmp/tmpiv5fqh88\n"
          ]
        },
        {
          "output_type": "stream",
          "name": "stdout",
          "text": [
            "INFO:tensorflow:Using the Keras model provided.\n"
          ]
        },
        {
          "output_type": "stream",
          "name": "stderr",
          "text": [
            "2022-05-17 23:10:01,460 INFO (MainThread-63) Using the Keras model provided.\n",
            "/usr/local/lib/python3.7/dist-packages/keras/backend.py:450: UserWarning: `tf.keras.backend.set_learning_phase` is deprecated and will be removed after 2020-10-11. To update it, simply pass a True/False value to the `training` argument of the `__call__` method of your layer or model.\n",
            "  warnings.warn('`tf.keras.backend.set_learning_phase` is deprecated and '\n"
          ]
        },
        {
          "output_type": "stream",
          "name": "stdout",
          "text": [
            "INFO:tensorflow:Using config: {'_model_dir': '/tmp/tmpiv5fqh88', '_tf_random_seed': None, '_save_summary_steps': 100, '_save_checkpoints_steps': None, '_save_checkpoints_secs': 600, '_session_config': allow_soft_placement: true\n",
            "graph_options {\n",
            "  rewrite_options {\n",
            "    meta_optimizer_iterations: ONE\n",
            "  }\n",
            "}\n",
            ", '_keep_checkpoint_max': 5, '_keep_checkpoint_every_n_hours': 10000, '_log_step_count_steps': 100, '_train_distribute': None, '_device_fn': None, '_protocol': None, '_eval_distribute': None, '_experimental_distribute': None, '_experimental_max_worker_delay_secs': None, '_session_creation_timeout_secs': 7200, '_checkpoint_save_graph_def': True, '_service': None, '_cluster_spec': ClusterSpec({}), '_task_type': 'worker', '_task_id': 0, '_global_id_in_cluster': 0, '_master': '', '_evaluation_master': '', '_is_chief': True, '_num_ps_replicas': 0, '_num_worker_replicas': 1}\n"
          ]
        },
        {
          "output_type": "stream",
          "name": "stderr",
          "text": [
            "2022-05-17 23:10:02,246 INFO (MainThread-63) Using config: {'_model_dir': '/tmp/tmpiv5fqh88', '_tf_random_seed': None, '_save_summary_steps': 100, '_save_checkpoints_steps': None, '_save_checkpoints_secs': 600, '_session_config': allow_soft_placement: true\n",
            "graph_options {\n",
            "  rewrite_options {\n",
            "    meta_optimizer_iterations: ONE\n",
            "  }\n",
            "}\n",
            ", '_keep_checkpoint_max': 5, '_keep_checkpoint_every_n_hours': 10000, '_log_step_count_steps': 100, '_train_distribute': None, '_device_fn': None, '_protocol': None, '_eval_distribute': None, '_experimental_distribute': None, '_experimental_max_worker_delay_secs': None, '_session_creation_timeout_secs': 7200, '_checkpoint_save_graph_def': True, '_service': None, '_cluster_spec': ClusterSpec({}), '_task_type': 'worker', '_task_id': 0, '_global_id_in_cluster': 0, '_master': '', '_evaluation_master': '', '_is_chief': True, '_num_ps_replicas': 0, '_num_worker_replicas': 1}\n"
          ]
        }
      ]
    },
    {
      "cell_type": "code",
      "source": [
        "input_name = cnn.input_names[0]\n",
        "input_name"
      ],
      "metadata": {
        "colab": {
          "base_uri": "https://localhost:8080/",
          "height": 183
        },
        "id": "iddqssV4I-fg",
        "outputId": "43fa2b49-52ef-41c8-8d93-4d52921e8b20"
      },
      "id": "iddqssV4I-fg",
      "execution_count": 28,
      "outputs": [
        {
          "output_type": "error",
          "ename": "AttributeError",
          "evalue": "ignored",
          "traceback": [
            "\u001b[0;31m---------------------------------------------------------------------------\u001b[0m",
            "\u001b[0;31mAttributeError\u001b[0m                            Traceback (most recent call last)",
            "\u001b[0;32m<ipython-input-28-3b534cc57a2f>\u001b[0m in \u001b[0;36m<module>\u001b[0;34m()\u001b[0m\n\u001b[1;32m      1\u001b[0m \u001b[0minput_name\u001b[0m \u001b[0;34m=\u001b[0m \u001b[0mcnn\u001b[0m\u001b[0;34m.\u001b[0m\u001b[0minput_names\u001b[0m\u001b[0;34m[\u001b[0m\u001b[0;36m0\u001b[0m\u001b[0;34m]\u001b[0m\u001b[0;34m\u001b[0m\u001b[0;34m\u001b[0m\u001b[0m\n\u001b[0;32m----> 2\u001b[0;31m \u001b[0minput_name\u001b[0m\u001b[0;34m.\u001b[0m\u001b[0mshape\u001b[0m\u001b[0;34m(\u001b[0m\u001b[0;34m)\u001b[0m\u001b[0;34m\u001b[0m\u001b[0;34m\u001b[0m\u001b[0m\n\u001b[0m",
            "\u001b[0;31mAttributeError\u001b[0m: 'str' object has no attribute 'shape'"
          ]
        }
      ]
    },
    {
      "cell_type": "code",
      "source": [
        "train_input_fn = tf.compat.v1.estimator.inputs.numpy_input_fn(\n",
        "    x = {input_name: train_features},\n",
        "    y = train_label,\n",
        "    batch_size = BATCH_SIZE,\n",
        "    num_epochs = EPOCHS,\n",
        "    shuffle = True\n",
        ")"
      ],
      "metadata": {
        "id": "qcAzABQ9JUe5"
      },
      "id": "qcAzABQ9JUe5",
      "execution_count": 27,
      "outputs": []
    },
    {
      "cell_type": "code",
      "source": [
        "feature_columns = [tf.feature_column.numeric_column(input_name)]"
      ],
      "metadata": {
        "id": "VP8Kk-UPZQ9s"
      },
      "id": "VP8Kk-UPZQ9s",
      "execution_count": null,
      "outputs": []
    },
    {
      "cell_type": "code",
      "source": [
        "\n",
        "  # Running single-node TF instances on each executor\n",
        "  TFParallel.run(sc, inference, args, args.cluster_size)\n",
        "\n",
        "  #cluster = TFCluster.run(sc, main_fun, args, args.cluster_size, args.num_ps, args.tensorboard, TFCluster.InputMode.TENSORFLOW)\n",
        "  #cluster.shutdown()"
      ],
      "metadata": {
        "id": "P4FFIUru4edB"
      },
      "id": "P4FFIUru4edB",
      "execution_count": null,
      "outputs": []
    },
    {
      "cell_type": "code",
      "source": [
        "#There are two variable objects. Divided between around 2.5 million of MobilNet parameters which \n",
        "#are frozen, and 1.2 thousand of trainable parameter in the Dense layer\n",
        "len(cnn.trainable_variables)\n",
        "\n",
        "acc = model_fit.history['accuracy']\n",
        "val_acc = model_fit.history['val_accuracy']\n",
        "loss_ = model_fit.history['loss']\n",
        "val_loss_ = model_fit.history['val_loss']\n",
        "\n",
        "plt.figure(figsize=(8, 8))\n",
        "plt.subplot(2, 1, 1)\n",
        "plt.plot(acc, label='Training Accuracy', color = 'gray',linestyle='dashed')\n",
        "plt.plot(val_acc, label='Validation Accuracy', color = 'black')\n",
        "plt.ylim([0.8, 1])\n",
        "plt.legend(loc='lower right')\n",
        "plt.title('Training and Validation Accuracy')\n",
        "\n",
        "plt.subplot(2, 1, 2)\n",
        "plt.plot(loss_, label='Training Loss', color = 'gray',linestyle='dashed')\n",
        "plt.plot(val_loss_, label='Validation Loss', color = 'black')\n",
        "plt.ylim([0, 1.0])\n",
        "plt.legend(loc='upper right')\n",
        "plt.title('Training and Validation Loss')\n",
        "plt.xlabel('epoch')\n",
        "plt.show()\n"
      ],
      "metadata": {
        "id": "JeUtrqxxXElP"
      },
      "id": "JeUtrqxxXElP",
      "execution_count": null,
      "outputs": []
    }
  ],
  "metadata": {
    "kernelspec": {
      "display_name": "Python 3 (ipykernel)",
      "language": "python",
      "name": "python3"
    },
    "language_info": {
      "codemirror_mode": {
        "name": "ipython",
        "version": 3
      },
      "file_extension": ".py",
      "mimetype": "text/x-python",
      "name": "python",
      "nbconvert_exporter": "python",
      "pygments_lexer": "ipython3",
      "version": "3.9.7"
    },
    "colab": {
      "name": "Copy of Downloads.ipynb",
      "provenance": [],
      "include_colab_link": true
    },
    "accelerator": "GPU"
  },
  "nbformat": 4,
  "nbformat_minor": 5
}