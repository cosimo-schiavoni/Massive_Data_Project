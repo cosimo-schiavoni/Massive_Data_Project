{
  "cells": [
    {
      "cell_type": "markdown",
      "metadata": {
        "id": "view-in-github",
        "colab_type": "text"
      },
      "source": [
        "<a href=\"https://colab.research.google.com/github/cosimo-schiavoni/Massive_Data_Project/blob/main/Cats_Dogs.ipynb\" target=\"_parent\"><img src=\"https://colab.research.google.com/assets/colab-badge.svg\" alt=\"Open In Colab\"/></a>"
      ]
    },
    {
      "cell_type": "code",
      "source": [
        "!nvidia-smi"
      ],
      "metadata": {
        "id": "8VThIbCShB9L",
        "outputId": "8ba0b8d9-104c-4560-b4d0-50827403d83c",
        "colab": {
          "base_uri": "https://localhost:8080/"
        }
      },
      "id": "8VThIbCShB9L",
      "execution_count": 1,
      "outputs": [
        {
          "output_type": "stream",
          "name": "stdout",
          "text": [
            "Wed Jul  6 09:28:18 2022       \n",
            "+-----------------------------------------------------------------------------+\n",
            "| NVIDIA-SMI 460.32.03    Driver Version: 460.32.03    CUDA Version: 11.2     |\n",
            "|-------------------------------+----------------------+----------------------+\n",
            "| GPU  Name        Persistence-M| Bus-Id        Disp.A | Volatile Uncorr. ECC |\n",
            "| Fan  Temp  Perf  Pwr:Usage/Cap|         Memory-Usage | GPU-Util  Compute M. |\n",
            "|                               |                      |               MIG M. |\n",
            "|===============================+======================+======================|\n",
            "|   0  Tesla T4            Off  | 00000000:00:04.0 Off |                    0 |\n",
            "| N/A   52C    P8    10W /  70W |      0MiB / 15109MiB |      0%      Default |\n",
            "|                               |                      |                  N/A |\n",
            "+-------------------------------+----------------------+----------------------+\n",
            "                                                                               \n",
            "+-----------------------------------------------------------------------------+\n",
            "| Processes:                                                                  |\n",
            "|  GPU   GI   CI        PID   Type   Process name                  GPU Memory |\n",
            "|        ID   ID                                                   Usage      |\n",
            "|=============================================================================|\n",
            "|  No running processes found                                                 |\n",
            "+-----------------------------------------------------------------------------+\n"
          ]
        }
      ]
    },
    {
      "cell_type": "code",
      "source": [
        "!pip install tensorframes"
      ],
      "metadata": {
        "id": "g2xdlatE1vPk",
        "outputId": "10719c79-7ad8-4160-e0a3-7bf4aa3f5de0",
        "colab": {
          "base_uri": "https://localhost:8080/"
        }
      },
      "id": "g2xdlatE1vPk",
      "execution_count": 2,
      "outputs": [
        {
          "output_type": "stream",
          "name": "stdout",
          "text": [
            "Looking in indexes: https://pypi.org/simple, https://us-python.pkg.dev/colab-wheels/public/simple/\n",
            "Collecting tensorframes\n",
            "  Downloading tensorframes-0.2.9-py3-none-any.whl (10 kB)\n",
            "Installing collected packages: tensorframes\n",
            "Successfully installed tensorframes-0.2.9\n"
          ]
        }
      ]
    },
    {
      "cell_type": "code",
      "source": [
        "!wget -q https://www-eu.apache.org/dist/spark/spark-3.2.1/spark-3.2.1-bin-hadoop2.7.tgz\n",
        "!tar xf spark-3.2.1-bin-hadoop2.7.tgz\n",
        "!rm spark-3.2.1-bin-hadoop2.7.tgz\n",
        "!apt-get install openjdk-8-jdk-headless -qq > /dev/null\n",
        "!pip install findspark\n",
        "!pip install pyspark\n",
        "!pip install -q kaggle\n",
        "#!pip install elephas\n",
        "!pip install sparkdl\n",
        "!pip install tensorframes\n",
        "!pip install petastorm"
      ],
      "metadata": {
        "colab": {
          "base_uri": "https://localhost:8080/"
        },
        "id": "hcEQwefubdsC",
        "outputId": "fc0104a7-f25f-49f2-c366-8577c1e09cf3"
      },
      "id": "hcEQwefubdsC",
      "execution_count": 2,
      "outputs": [
        {
          "output_type": "stream",
          "name": "stdout",
          "text": [
            "Looking in indexes: https://pypi.org/simple, https://us-python.pkg.dev/colab-wheels/public/simple/\n",
            "Collecting findspark\n",
            "  Downloading findspark-2.0.1-py2.py3-none-any.whl (4.4 kB)\n",
            "Installing collected packages: findspark\n",
            "Successfully installed findspark-2.0.1\n",
            "Looking in indexes: https://pypi.org/simple, https://us-python.pkg.dev/colab-wheels/public/simple/\n",
            "Collecting pyspark\n",
            "  Downloading pyspark-3.3.0.tar.gz (281.3 MB)\n",
            "\u001b[K     |████████████████████████████████| 281.3 MB 55 kB/s \n",
            "\u001b[?25hCollecting py4j==0.10.9.5\n",
            "  Downloading py4j-0.10.9.5-py2.py3-none-any.whl (199 kB)\n",
            "\u001b[K     |████████████████████████████████| 199 kB 62.1 MB/s \n",
            "\u001b[?25hBuilding wheels for collected packages: pyspark\n",
            "  Building wheel for pyspark (setup.py) ... \u001b[?25l\u001b[?25hdone\n",
            "  Created wheel for pyspark: filename=pyspark-3.3.0-py2.py3-none-any.whl size=281764026 sha256=e2c0ce69181748b6b9f84ebb7af85d823a204d33499b90e1e9eda248a9215b07\n",
            "  Stored in directory: /root/.cache/pip/wheels/7a/8e/1b/f73a52650d2e5f337708d9f6a1750d451a7349a867f928b885\n",
            "Successfully built pyspark\n",
            "Installing collected packages: py4j, pyspark\n",
            "Successfully installed py4j-0.10.9.5 pyspark-3.3.0\n",
            "Looking in indexes: https://pypi.org/simple, https://us-python.pkg.dev/colab-wheels/public/simple/\n",
            "Collecting sparkdl\n",
            "  Downloading sparkdl-0.2.2-py3-none-any.whl (99 kB)\n",
            "\u001b[K     |████████████████████████████████| 99 kB 4.0 MB/s \n",
            "\u001b[?25hInstalling collected packages: sparkdl\n",
            "Successfully installed sparkdl-0.2.2\n",
            "Looking in indexes: https://pypi.org/simple, https://us-python.pkg.dev/colab-wheels/public/simple/\n",
            "Collecting tensorframes\n",
            "  Downloading tensorframes-0.2.9-py3-none-any.whl (10 kB)\n",
            "Installing collected packages: tensorframes\n",
            "Successfully installed tensorframes-0.2.9\n",
            "Looking in indexes: https://pypi.org/simple, https://us-python.pkg.dev/colab-wheels/public/simple/\n",
            "Collecting petastorm\n",
            "  Downloading petastorm-0.11.4-py2.py3-none-any.whl (284 kB)\n",
            "\u001b[K     |████████████████████████████████| 284 kB 4.7 MB/s \n",
            "\u001b[?25hRequirement already satisfied: numpy>=1.13.3 in /usr/local/lib/python3.7/dist-packages (from petastorm) (1.21.6)\n",
            "Requirement already satisfied: pandas>=0.19.0 in /usr/local/lib/python3.7/dist-packages (from petastorm) (1.3.5)\n",
            "Requirement already satisfied: future>=0.10.2 in /usr/local/lib/python3.7/dist-packages (from petastorm) (0.16.0)\n",
            "Requirement already satisfied: pyzmq>=14.0.0 in /usr/local/lib/python3.7/dist-packages (from petastorm) (23.1.0)\n",
            "Collecting fsspec\n",
            "  Downloading fsspec-2022.5.0-py3-none-any.whl (140 kB)\n",
            "\u001b[K     |████████████████████████████████| 140 kB 62.0 MB/s \n",
            "\u001b[?25hRequirement already satisfied: packaging>=15.0 in /usr/local/lib/python3.7/dist-packages (from petastorm) (21.3)\n",
            "Requirement already satisfied: six>=1.5.0 in /usr/local/lib/python3.7/dist-packages (from petastorm) (1.15.0)\n",
            "Requirement already satisfied: pyarrow>=0.17.1 in /usr/local/lib/python3.7/dist-packages (from petastorm) (6.0.1)\n",
            "Collecting diskcache>=3.0.0\n",
            "  Downloading diskcache-5.4.0-py3-none-any.whl (44 kB)\n",
            "\u001b[K     |████████████████████████████████| 44 kB 3.9 MB/s \n",
            "\u001b[?25hRequirement already satisfied: psutil>=4.0.0 in /usr/local/lib/python3.7/dist-packages (from petastorm) (5.4.8)\n",
            "Requirement already satisfied: pyspark>=2.1.0 in /usr/local/lib/python3.7/dist-packages (from petastorm) (3.3.0)\n",
            "Requirement already satisfied: dill>=0.2.1 in /usr/local/lib/python3.7/dist-packages (from petastorm) (0.3.5.1)\n",
            "Requirement already satisfied: pyparsing!=3.0.5,>=2.0.2 in /usr/local/lib/python3.7/dist-packages (from packaging>=15.0->petastorm) (3.0.9)\n",
            "Requirement already satisfied: python-dateutil>=2.7.3 in /usr/local/lib/python3.7/dist-packages (from pandas>=0.19.0->petastorm) (2.8.2)\n",
            "Requirement already satisfied: pytz>=2017.3 in /usr/local/lib/python3.7/dist-packages (from pandas>=0.19.0->petastorm) (2022.1)\n",
            "Requirement already satisfied: py4j==0.10.9.5 in /usr/local/lib/python3.7/dist-packages (from pyspark>=2.1.0->petastorm) (0.10.9.5)\n",
            "Installing collected packages: fsspec, diskcache, petastorm\n",
            "Successfully installed diskcache-5.4.0 fsspec-2022.5.0 petastorm-0.11.4\n"
          ]
        }
      ]
    },
    {
      "cell_type": "code",
      "source": [
        "# Keras / Deep Learning\n",
        "import tensorflow as tf\n",
        "from keras.models import Sequential\n",
        "from keras.layers.core import Dense, Dropout, Activation\n",
        "from keras import optimizers, regularizers\n",
        "from tensorflow.keras.optimizers import Adam"
      ],
      "metadata": {
        "id": "tqnJaakBOJ9k"
      },
      "id": "tqnJaakBOJ9k",
      "execution_count": 3,
      "outputs": []
    },
    {
      "cell_type": "code",
      "source": [
        "from functools import reduce\n",
        "from google.colab import files\n",
        "import os\n",
        "import zipfile\n",
        "import numpy as np\n",
        "\n",
        "#from my model\n",
        "import matplotlib\n",
        "import matplotlib.pyplot as plt\n",
        "import matplotlib.image as mpimg\n",
        "import keras\n",
        "from tensorflow.keras import layers\n",
        "from tensorflow.keras.models import Sequential\n",
        "from tensorflow.keras.models import Model\n",
        "import pickle\n",
        "import shutil\n",
        "import random\n",
        "import skimage.io as io\n",
        "from copy import deepcopy\n",
        "\n"
      ],
      "metadata": {
        "id": "uI6gi1ZpNmIA"
      },
      "id": "uI6gi1ZpNmIA",
      "execution_count": 4,
      "outputs": []
    },
    {
      "cell_type": "code",
      "source": [
        "import os\n",
        "import zipfile\n",
        "os.environ[\"data_source\"] = \"./Cats_Dogs_data\"\n",
        "\n",
        "if not os.path.exists(os.environ[\"data_source\"]):\n",
        "  os.makedirs(os.environ[\"data_source\"])\n",
        "  if \"download\" not in os.listdir():\n",
        "    if \"download.zip\" not in os.listdir():\n",
        "      ! wget https://unimibox.unimi.it/index.php/s/eNGYGSYmqynNMqF/download/CatsDogs.zip\n",
        "      with zipfile.ZipFile(\"CatsDogs.zip\", 'r') as f:\n",
        "        f.extractall(\"CatsDogs\")\n",
        "    os.remove(\"CatsDogs.zip\")\n",
        "\n",
        "\n",
        "!mv \"./CatsDogs/CatsDogs/Cats\" \"./Cats_Dogs_data\"\n",
        "!mv \"./CatsDogs/CatsDogs/Dogs\" \"./Cats_Dogs_data\"\n",
        "\n",
        "!rm -rf CatsDogs"
      ],
      "metadata": {
        "colab": {
          "base_uri": "https://localhost:8080/"
        },
        "id": "4A8XXBVUU_o_",
        "outputId": "f2a3ab65-8e87-4dd6-bb4e-d436f35b539f"
      },
      "id": "4A8XXBVUU_o_",
      "execution_count": 5,
      "outputs": [
        {
          "output_type": "stream",
          "name": "stdout",
          "text": [
            "--2022-07-06 09:29:49--  https://unimibox.unimi.it/index.php/s/eNGYGSYmqynNMqF/download/CatsDogs.zip\n",
            "Resolving unimibox.unimi.it (unimibox.unimi.it)... 159.149.53.190\n",
            "Connecting to unimibox.unimi.it (unimibox.unimi.it)|159.149.53.190|:443... connected.\n",
            "HTTP request sent, awaiting response... 200 OK\n",
            "Length: unspecified [application/zip]\n",
            "Saving to: ‘CatsDogs.zip’\n",
            "\n",
            "CatsDogs.zip            [            <=>     ] 812.79M  1.47MB/s    in 3m 58s  \n",
            "\n",
            "2022-07-06 09:33:48 (3.42 MB/s) - ‘CatsDogs.zip’ saved [852272294]\n",
            "\n"
          ]
        }
      ]
    },
    {
      "cell_type": "code",
      "source": [
        "os.path.getsize('./Cats_Dogs_data/Cats/666.jpg')"
      ],
      "metadata": {
        "id": "zbz5gbzzzaNF",
        "outputId": "1a79158a-ec60-415a-b384-5146bb1cae7a",
        "colab": {
          "base_uri": "https://localhost:8080/"
        }
      },
      "id": "zbz5gbzzzaNF",
      "execution_count": 7,
      "outputs": [
        {
          "output_type": "execute_result",
          "data": {
            "text/plain": [
              "0"
            ]
          },
          "metadata": {},
          "execution_count": 7
        }
      ]
    },
    {
      "cell_type": "code",
      "source": [
        "import os\n",
        "import cv2\n",
        "import imghdr\n",
        "from PIL import Image\n",
        "\n",
        "def check_images( s_dir, ext_list):\n",
        "    bad_images=[]\n",
        "    bad_ext=[]\n",
        "    s_list= os.listdir(s_dir)\n",
        "    for klass in s_list:\n",
        "        klass_path=os.path.join (s_dir, klass)\n",
        "        print ('processing class directory ', klass)\n",
        "        if os.path.isdir(klass_path):\n",
        "            file_list=os.listdir(klass_path)\n",
        "            for f in file_list:               \n",
        "                f_path=os.path.join (klass_path,f)\n",
        "                tip = imghdr.what(f_path)\n",
        "                ######################## get width and height\n",
        "                if (ext_list.count(tip) == 0) or (not (os.path.getsize(f_path) > 100)) or (not (Image.open(f_path).width > 350 and Image.open(f_path).height > 350)):\n",
        "                  bad_images.append(f_path)\n",
        "                  os.remove(f_path)   \n",
        "                if os.path.isfile(f_path):\n",
        "                    try:\n",
        "                        img=cv2.imread(f_path)\n",
        "                        shape=img.shape\n",
        "                    except:\n",
        "                        print('file ', f_path, ' is not a valid image file')\n",
        "                        bad_images.append(f_path)\n",
        "                        os.remove(f_path)\n",
        "                else:\n",
        "                    print('discard ', f, ' in class directory ', klass)\n",
        "        else:\n",
        "            print ('*** WARNING*** you have files in ', s_dir, ' it should only contain sub directories')\n",
        "    return bad_images, bad_ext\n",
        "\n",
        "source_dir =r'./Cats_Dogs_data'\n",
        "good_exts=['jpg', 'png', 'jpeg', 'gif', 'bmp' ] # list of acceptable extensions\n",
        "bad_file_list, bad_ext_list=check_images(source_dir, good_exts)\n",
        "if len(bad_file_list) !=0:\n",
        "    print('improper image files are listed below')\n",
        "    for i in range (len(bad_file_list)):\n",
        "        print (bad_file_list[i])\n",
        "else:\n",
        "    print(' no improper image files were found')\n"
      ],
      "metadata": {
        "id": "Ot_mNxCHx6pZ",
        "outputId": "316556f1-e7f5-4f05-feb4-ef9069095b93",
        "colab": {
          "base_uri": "https://localhost:8080/"
        }
      },
      "id": "Ot_mNxCHx6pZ",
      "execution_count": 17,
      "outputs": [
        {
          "output_type": "stream",
          "name": "stdout",
          "text": [
            "processing class directory  Cats\n",
            "processing class directory  Dogs\n",
            " no improper image files were found\n"
          ]
        }
      ]
    },
    {
      "cell_type": "code",
      "source": [
        "#data augmentation\n",
        "\n",
        "@tf.function\n",
        "def random_invert_img(x, p=0.5):\n",
        "  if  tf.random.uniform([]) < p:\n",
        "    x = (180-x)\n",
        "  else:\n",
        "    x\n",
        "  return x\n",
        "\n",
        "###Randim invert\n",
        "@tf.function \n",
        "def random_invert(factor=0.5):\n",
        "  return layers.Lambda(lambda x: random_invert_img(x, factor))\n",
        "\n",
        "#@tf.function \n",
        "class RandomInvert(layers.Layer):\n",
        "  @tf.function \n",
        "  def __init__(self, factor=0.5, **kwargs):\n",
        "    super().__init__(**kwargs)\n",
        "    self.factor = factor\n",
        "  @tf.function \n",
        "  def call(self, x):\n",
        "    return random_invert_img(x)\n",
        "\n",
        "\n",
        "###Kernel Inizializer Sobel_x\n",
        "@tf.function \n",
        "def hedge_detector(shape, dtype=None):\n",
        "    print(shape)    \n",
        "    sobel_x = tf.constant(\n",
        "        [\n",
        "            [-5, -4, 0, 4, 5], \n",
        "            [-8, -10, 0, 10, 8], \n",
        "            [-10, -20, 0, 20, 10], \n",
        "            [-8, -10, 0, 10, 8], \n",
        "            [-5, -4, 0, 4, 5]\n",
        "        ], dtype=dtype )\n",
        "    #create the missing dims.\n",
        "    sobel_x = tf.reshape(sobel_x, (5, 5, 1, 1))\n",
        "\n",
        "    print(tf.shape(sobel_x))\n",
        "    #tile the last 2 axis to get the expected dims.\n",
        "    sobel_x = tf.tile(sobel_x, (1, 1, shape[-2],shape[-1]))\n",
        "\n",
        "    print(tf.shape(sobel_x))\n",
        "    return sobel_x\n",
        "\n",
        "@tf.function \n",
        "def vertical_detector(shape, dtype=None):\n",
        "    print(shape)    \n",
        "    sobel_x = tf.constant(\n",
        "        [\n",
        "            [1, 0, -1], \n",
        "            [1, 0, -1], \n",
        "            [1, 0, -1]\n",
        "        ], dtype=dtype )\n",
        "    #create the missing dims.\n",
        "    sobel_x = tf.reshape(sobel_x, (3, 3, 1, 1))\n",
        "\n",
        "    print(tf.shape(sobel_x))\n",
        "    #tile the last 2 axis to get the expected dims.\n",
        "    sobel_x = tf.tile(sobel_x, (1, 1, shape[-2],shape[-1]))\n",
        "\n",
        "    print(tf.shape(sobel_x))\n",
        "    return sobel_x\n",
        "\n",
        "@tf.function \n",
        "def horizontal_detector(shape, dtype=None):\n",
        "    print(shape)    \n",
        "    sobel_x = tf.constant(\n",
        "        [\n",
        "            [1, 1, 1], \n",
        "            [0, 0, 0], \n",
        "            [-1, -1, -1]\n",
        "        ], dtype=dtype )\n",
        "    #create the missing dims.\n",
        "    sobel_x = tf.reshape(sobel_x, (3, 3, 1, 1))\n",
        "\n",
        "    print(tf.shape(sobel_x))\n",
        "    #tile the last 2 axis to get the expected dims.\n",
        "    sobel_x = tf.tile(sobel_x, (1, 1, shape[-2],shape[-1]))\n",
        "\n",
        "    print(tf.shape(sobel_x))\n",
        "    return sobel_x"
      ],
      "metadata": {
        "id": "GOCGF4YHS-kc"
      },
      "id": "GOCGF4YHS-kc",
      "execution_count": 18,
      "outputs": []
    },
    {
      "cell_type": "code",
      "source": [
        "\n",
        "def get_compiled_model():\n",
        "    # Make a simple 2-layer densely-connected neural network.\n",
        "        ###Create CNN\n",
        "    #Initialize the CNN\n",
        "    cnn = tf.keras.models.Sequential()\n",
        "     \n",
        "    cnn.add(tf.keras.Sequential([\n",
        "      layers.RandomFlip(\"horizontal_and_vertical\"),\n",
        "      layers.RandomRotation(0.3),\n",
        "        layers.RandomContrast(0.5, seed=None),\n",
        "        RandomInvert(),\n",
        "        layers.RandomZoom(height_factor=(-0.2, +0.3)),\n",
        "        layers.RandomTranslation(height_factor=(-0.2, +0.3),width_factor=(-0.2, +0.3)),\n",
        "        layers.Rescaling(1./255, offset= -1)\n",
        "        ]))\n",
        "    \n",
        "    #DROPOUT\n",
        "    #Introduce the Convolution layer with Kernel_initializer=Sobel_x\n",
        "    #Convolution\n",
        "    cnn.add(tf.keras.layers.Conv2D(32, kernel_size=5, strides=2, activation='relu',  input_shape = [350,350,3]))\n",
        "    #Pooling\n",
        "    cnn.add(tf.keras.layers.MaxPool2D(pool_size = 2, strides = 2))\n",
        "    #Convolution\n",
        "    cnn.add(tf.keras.layers.Conv2D(filters = 32, kernel_size = 3,  strides=2, activation = 'relu'))\n",
        "    #Pooling\n",
        "    cnn.add(tf.keras.layers.MaxPool2D(pool_size = 2, strides = 2))\n",
        "    #Second Convolutional Layer\n",
        "    cnn.add(tf.keras.layers.Conv2D(filters = 32, kernel_size = 2,  strides=2, activation = 'relu'))\n",
        "    cnn.add(tf.keras.layers.MaxPool2D(pool_size = 2, strides=1, padding='same'))\n",
        "    #Third Convolutional Layer\n",
        "    #cnn.add(tf.keras.layers.Conv2D(filters = 32, kernel_size = 2, activation = 'relu'))\n",
        "    #cnn.add(tf.keras.layers.MaxPool2D(pool_size = 2, strides=2))\n",
        "    #Flattening\n",
        "    cnn.add(tf.keras.layers.Flatten())\n",
        "    #Full Connection\n",
        "    cnn.add(tf.keras.layers.Dense(units = 128, activation = 'relu'))\n",
        "    #DROPOUTS ok(0.1)\n",
        "    cnn.add(tf.keras.layers.Dropout(0.1))\n",
        "    #Output Layer\n",
        "    cnn.add(tf.keras.layers.Dense(units=1, activation = 'sigmoid'))\n",
        "    ###Training CNN\n",
        "    #Compiling the CNN\n",
        "    cnn.compile(optimizer = 'adam', loss = 'binary_crossentropy', metrics = ['accuracy'])\n",
        "    return cnn\n",
        "\n",
        "\n",
        "def get_dataset():\n",
        "    BUFFER_SIZE = 10000\n",
        "\n",
        "    BATCH_SIZE_PER_REPLICA = 64\n",
        "    BATCH_SIZE = BATCH_SIZE_PER_REPLICA * strategy.num_replicas_in_sync\n",
        "\n",
        "    data_dir= \"./Cats_Dogs_data\"\n",
        "\n",
        "    tf.random.set_seed(123456)\n",
        "\n",
        "    EPOCHS = 15\n",
        "    #BATCH_SIZE = 32\n",
        "    #IMG_SIZE = (160, 160)\n",
        "    IMG_SIZE = (350, 350)\n",
        "\n",
        "    os.listdir(data_dir)\n",
        "\n",
        "\n",
        "    train_dataset = tf.keras.preprocessing.image_dataset_from_directory(\n",
        "        data_dir,\n",
        "        validation_split=0.3,\n",
        "        subset=\"training\",\n",
        "        shuffle=True,\n",
        "        seed=123456,\n",
        "        image_size= IMG_SIZE,\n",
        "        batch_size=BATCH_SIZE)\n",
        "\n",
        "\n",
        "    validation_dataset = tf.keras.preprocessing.image_dataset_from_directory(\n",
        "        data_dir,\n",
        "        validation_split=0.3,\n",
        "        subset=\"validation\",\n",
        "        shuffle=True,\n",
        "        seed=123456,\n",
        "        image_size= IMG_SIZE,\n",
        "        batch_size=BATCH_SIZE)\n",
        "    \n",
        "    val_batches = tf.data.experimental.cardinality(validation_dataset)\n",
        "    test_dataset = validation_dataset.take(val_batches // 5)\n",
        "    validation_dataset = validation_dataset.skip(val_batches // 5)\n",
        "    print('Number of training batches: %d' % tf.data.experimental.cardinality(train_dataset))\n",
        "    print('Number of validation batches: %d' % tf.data.experimental.cardinality(validation_dataset))\n",
        "    print('Number of test batches: %d' % tf.data.experimental.cardinality(test_dataset))\n",
        "\n",
        "    AUTOTUNE = tf.data.AUTOTUNE\n",
        "\n",
        "    train_dataset = train_dataset.prefetch(buffer_size=AUTOTUNE)\n",
        "    validation_dataset = validation_dataset.prefetch(buffer_size=AUTOTUNE)\n",
        "    test_dataset = test_dataset.prefetch(buffer_size=AUTOTUNE)\n",
        "\n",
        "    return (\n",
        "        train_dataset,\n",
        "        validation_dataset,\n",
        "        test_dataset\n",
        "    )\n",
        "\n",
        "\n"
      ],
      "metadata": {
        "id": "okjz2Jwgcg5Q"
      },
      "id": "okjz2Jwgcg5Q",
      "execution_count": 19,
      "outputs": []
    },
    {
      "cell_type": "code",
      "source": [
        "# Create a MirroredStrategy.\n",
        "strategy = tf.distribute.MirroredStrategy()\n",
        "print(\"Number of devices: {}\".format(strategy.num_replicas_in_sync))\n"
      ],
      "metadata": {
        "id": "ZnbOv3Hne5Zj",
        "outputId": "bfada860-f846-4200-e37e-4925ae729bb9",
        "colab": {
          "base_uri": "https://localhost:8080/"
        }
      },
      "id": "ZnbOv3Hne5Zj",
      "execution_count": 20,
      "outputs": [
        {
          "output_type": "stream",
          "name": "stdout",
          "text": [
            "INFO:tensorflow:Using MirroredStrategy with devices ('/job:localhost/replica:0/task:0/device:GPU:0',)\n",
            "Number of devices: 1\n"
          ]
        }
      ]
    },
    {
      "cell_type": "code",
      "source": [
        "\n",
        "# Open a strategy scope.\n",
        "with strategy.scope():\n",
        "    # Everything that creates variables should be under the strategy scope.\n",
        "    # In general this is only model construction & `compile()`.\n",
        "    model = get_compiled_model()\n"
      ],
      "metadata": {
        "id": "MlVYkLPfe7Jj"
      },
      "id": "MlVYkLPfe7Jj",
      "execution_count": 21,
      "outputs": []
    },
    {
      "cell_type": "code",
      "source": [
        "\n",
        "# Train the model on all available devices.\n",
        "train_dataset, validation_dataset, test_dataset = get_dataset()\n",
        "model_fit = model.fit(train_dataset, epochs=15, validation_data=validation_dataset)\n",
        "model_fit"
      ],
      "metadata": {
        "id": "yjK1TJ_Ve8ds",
        "outputId": "eb9d4dab-ba8e-4d9c-f99d-71a6b2032837",
        "colab": {
          "base_uri": "https://localhost:8080/"
        }
      },
      "id": "yjK1TJ_Ve8ds",
      "execution_count": 22,
      "outputs": [
        {
          "output_type": "stream",
          "name": "stdout",
          "text": [
            "Found 13540 files belonging to 2 classes.\n",
            "Using 9478 files for training.\n",
            "Found 13540 files belonging to 2 classes.\n",
            "Using 4062 files for validation.\n",
            "Number of training batches: 149\n",
            "Number of validation batches: 52\n",
            "Number of test batches: 12\n",
            "Epoch 1/15\n",
            "149/149 [==============================] - 51s 232ms/step - loss: 0.6959 - accuracy: 0.5152 - val_loss: 0.6949 - val_accuracy: 0.5039\n",
            "Epoch 2/15\n",
            "149/149 [==============================] - 34s 224ms/step - loss: 0.6930 - accuracy: 0.5089 - val_loss: 0.6915 - val_accuracy: 0.5067\n",
            "Epoch 3/15\n",
            "149/149 [==============================] - 34s 225ms/step - loss: 0.6920 - accuracy: 0.5171 - val_loss: 0.6923 - val_accuracy: 0.5067\n",
            "Epoch 4/15\n",
            "149/149 [==============================] - 35s 229ms/step - loss: 0.6920 - accuracy: 0.5242 - val_loss: 0.6915 - val_accuracy: 0.5288\n",
            "Epoch 5/15\n",
            "149/149 [==============================] - 34s 223ms/step - loss: 0.6928 - accuracy: 0.5138 - val_loss: 0.7035 - val_accuracy: 0.5003\n",
            "Epoch 6/15\n",
            "149/149 [==============================] - 34s 224ms/step - loss: 0.6906 - accuracy: 0.5303 - val_loss: 0.6898 - val_accuracy: 0.5140\n",
            "Epoch 7/15\n",
            "149/149 [==============================] - 34s 223ms/step - loss: 0.6873 - accuracy: 0.5422 - val_loss: 0.6780 - val_accuracy: 0.5698\n",
            "Epoch 8/15\n",
            "149/149 [==============================] - 34s 223ms/step - loss: 0.6884 - accuracy: 0.5408 - val_loss: 0.6821 - val_accuracy: 0.5938\n",
            "Epoch 9/15\n",
            "149/149 [==============================] - 34s 223ms/step - loss: 0.6851 - accuracy: 0.5524 - val_loss: 0.6741 - val_accuracy: 0.5902\n",
            "Epoch 10/15\n",
            "149/149 [==============================] - 34s 225ms/step - loss: 0.6808 - accuracy: 0.5637 - val_loss: 0.6667 - val_accuracy: 0.6132\n",
            "Epoch 11/15\n",
            "149/149 [==============================] - 34s 223ms/step - loss: 0.6804 - accuracy: 0.5654 - val_loss: 0.6635 - val_accuracy: 0.6175\n",
            "Epoch 12/15\n",
            "149/149 [==============================] - 34s 224ms/step - loss: 0.6780 - accuracy: 0.5759 - val_loss: 0.6583 - val_accuracy: 0.6141\n",
            "Epoch 13/15\n",
            "149/149 [==============================] - 34s 223ms/step - loss: 0.6770 - accuracy: 0.5797 - val_loss: 0.6585 - val_accuracy: 0.6108\n",
            "Epoch 14/15\n",
            "149/149 [==============================] - 34s 223ms/step - loss: 0.6756 - accuracy: 0.5704 - val_loss: 0.6614 - val_accuracy: 0.6056\n",
            "Epoch 15/15\n",
            "149/149 [==============================] - 34s 222ms/step - loss: 0.6734 - accuracy: 0.5823 - val_loss: 0.6638 - val_accuracy: 0.6066\n"
          ]
        },
        {
          "output_type": "execute_result",
          "data": {
            "text/plain": [
              "<keras.callbacks.History at 0x7f99062c7e90>"
            ]
          },
          "metadata": {},
          "execution_count": 22
        }
      ]
    },
    {
      "cell_type": "code",
      "source": [
        "\n",
        "# Test the model on all available devices.\n",
        "model.evaluate(test_dataset)"
      ],
      "metadata": {
        "id": "hifoupSce9kk",
        "outputId": "da5ff163-8425-48c5-a6dd-2365573f2daf",
        "colab": {
          "base_uri": "https://localhost:8080/"
        }
      },
      "id": "hifoupSce9kk",
      "execution_count": 23,
      "outputs": [
        {
          "output_type": "stream",
          "name": "stdout",
          "text": [
            "12/12 [==============================] - 3s 154ms/step - loss: 0.6558 - accuracy: 0.6263\n"
          ]
        },
        {
          "output_type": "execute_result",
          "data": {
            "text/plain": [
              "[0.6558408141136169, 0.6263020634651184]"
            ]
          },
          "metadata": {},
          "execution_count": 23
        }
      ]
    },
    {
      "cell_type": "code",
      "source": [
        "#There are two variable objects. Divided between around 2.5 million of MobilNet parameters which \n",
        "#are frozen, and 1.2 thousand of trainable parameter in the Dense layer\n",
        "#len(cnn.trainable_variables)\n",
        "\n",
        "acc = model_fit.history['accuracy']\n",
        "val_acc = model_fit.history['val_accuracy']\n",
        "loss_ = model_fit.history['loss']\n",
        "val_loss_ = model_fit.history['val_loss']\n",
        "\n",
        "plt.figure(figsize=(8, 8))\n",
        "plt.subplot(2, 1, 1)\n",
        "plt.plot(acc, label='Training Accuracy', color = 'gray',linestyle='dashed')\n",
        "plt.plot(val_acc, label='Validation Accuracy', color = 'black')\n",
        "plt.ylim([0.8, 1])\n",
        "plt.legend(loc='lower right')\n",
        "plt.title('Training and Validation Accuracy')\n",
        "\n",
        "plt.subplot(2, 1, 2)\n",
        "plt.plot(loss_, label='Training Loss', color = 'gray',linestyle='dashed')\n",
        "plt.plot(val_loss_, label='Validation Loss', color = 'black')\n",
        "plt.ylim([0, 1.0])\n",
        "plt.legend(loc='upper right')\n",
        "plt.title('Training and Validation Loss')\n",
        "plt.xlabel('epoch')\n",
        "plt.show()\n"
      ],
      "metadata": {
        "id": "JeUtrqxxXElP",
        "outputId": "49d8fb0a-8020-42aa-fca6-da40490b5331",
        "colab": {
          "base_uri": "https://localhost:8080/",
          "height": 513
        }
      },
      "id": "JeUtrqxxXElP",
      "execution_count": 24,
      "outputs": [
        {
          "output_type": "display_data",
          "data": {
            "text/plain": [
              "<Figure size 576x576 with 2 Axes>"
            ],
            "image/png": "[encoded data removed]"
          },
          "metadata": {
            "needs_background": "light"
          }
        }
      ]
    }
  ],
  "metadata": {
    "kernelspec": {
      "display_name": "Python 3 (ipykernel)",
      "language": "python",
      "name": "python3"
    },
    "language_info": {
      "codemirror_mode": {
        "name": "ipython",
        "version": 3
      },
      "file_extension": ".py",
      "mimetype": "text/x-python",
      "name": "python",
      "nbconvert_exporter": "python",
      "pygments_lexer": "ipython3",
      "version": "3.9.7"
    },
    "colab": {
      "name": "Copy of Downloads.ipynb",
      "provenance": [],
      "include_colab_link": true
    },
    "accelerator": "GPU"
  },
  "nbformat": 4,
  "nbformat_minor": 5
}