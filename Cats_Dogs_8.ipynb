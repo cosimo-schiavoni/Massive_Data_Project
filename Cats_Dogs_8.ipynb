{
  "cells": [
    {
      "cell_type": "markdown",
      "metadata": {
        "id": "view-in-github",
        "colab_type": "text"
      },
      "source": [
        "<a href=\"https://colab.research.google.com/github/cosimo-schiavoni/Massive_Data_Project/blob/main/Cats_Dogs_8.ipynb\" target=\"_parent\"><img src=\"https://colab.research.google.com/assets/colab-badge.svg\" alt=\"Open In Colab\"/></a>"
      ]
    },
    {
      "cell_type": "code",
      "source": [
        "!rm -rf './Cats_Dogs_data/test'"
      ],
      "metadata": {
        "id": "TnkBvEbk7OdF"
      },
      "id": "TnkBvEbk7OdF",
      "execution_count": 17,
      "outputs": []
    },
    {
      "cell_type": "code",
      "source": [
        "!nvidia-smi"
      ],
      "metadata": {
        "id": "8VThIbCShB9L",
        "outputId": "a5f35835-9532-47a0-e612-f6bcf2f4af38",
        "colab": {
          "base_uri": "https://localhost:8080/"
        }
      },
      "id": "8VThIbCShB9L",
      "execution_count": 5,
      "outputs": [
        {
          "output_type": "stream",
          "name": "stdout",
          "text": [
            "Thu Jul 28 00:48:05 2022       \n",
            "+-----------------------------------------------------------------------------+\n",
            "| NVIDIA-SMI 460.32.03    Driver Version: 460.32.03    CUDA Version: 11.2     |\n",
            "|-------------------------------+----------------------+----------------------+\n",
            "| GPU  Name        Persistence-M| Bus-Id        Disp.A | Volatile Uncorr. ECC |\n",
            "| Fan  Temp  Perf  Pwr:Usage/Cap|         Memory-Usage | GPU-Util  Compute M. |\n",
            "|                               |                      |               MIG M. |\n",
            "|===============================+======================+======================|\n",
            "|   0  Tesla T4            Off  | 00000000:00:04.0 Off |                    0 |\n",
            "| N/A   37C    P8     9W /  70W |      0MiB / 15109MiB |      0%      Default |\n",
            "|                               |                      |                  N/A |\n",
            "+-------------------------------+----------------------+----------------------+\n",
            "                                                                               \n",
            "+-----------------------------------------------------------------------------+\n",
            "| Processes:                                                                  |\n",
            "|  GPU   GI   CI        PID   Type   Process name                  GPU Memory |\n",
            "|        ID   ID                                                   Usage      |\n",
            "|=============================================================================|\n",
            "|  No running processes found                                                 |\n",
            "+-----------------------------------------------------------------------------+\n"
          ]
        }
      ]
    },
    {
      "cell_type": "code",
      "source": [
        "# Keras / Deep Learning\n",
        "import tensorflow as tf\n",
        "from keras.models import Sequential\n",
        "from keras.layers.core import Dense, Dropout, Activation\n",
        "from keras import optimizers, regularizers\n",
        "#from tensorflow.keras.optimizers import Adam\n",
        "\n",
        "from functools import reduce\n",
        "from google.colab import files\n",
        "import os\n",
        "import zipfile\n",
        "import numpy as np\n",
        "\n",
        "#from my model\n",
        "import matplotlib\n",
        "import matplotlib.pyplot as plt\n",
        "import matplotlib.image as mpimg\n",
        "import keras\n",
        "from tensorflow.keras import layers\n",
        "from tensorflow.keras.models import Sequential\n",
        "from tensorflow.keras.models import Model\n",
        "import pickle\n",
        "import shutil\n",
        "import random\n",
        "import skimage.io as io\n",
        "from copy import deepcopy\n",
        "\n",
        "from os import makedirs\n",
        "from shutil import rmtree\n",
        "\n",
        "import os\n",
        "import zipfile\n",
        "from os.path import join\n",
        "from os import listdir, rmdir\n",
        "from shutil import move\n",
        "\n",
        "from PIL import Image\n",
        "\n",
        "import os\n",
        "import cv2\n",
        "import imghdr\n",
        "from PIL import Image"
      ],
      "metadata": {
        "id": "uI6gi1ZpNmIA"
      },
      "id": "uI6gi1ZpNmIA",
      "execution_count": 6,
      "outputs": []
    },
    {
      "cell_type": "code",
      "source": [
        "os.environ[\"data_source\"] = \"./Cats_Dogs_data\"\n",
        "\n",
        "if not os.path.exists(os.environ[\"data_source\"]):\n",
        "  os.makedirs(os.environ[\"data_source\"])\n",
        "  if \"download\" not in os.listdir():\n",
        "    if \"download.zip\" not in os.listdir():\n",
        "      ! wget https://unimibox.unimi.it/index.php/s/eNGYGSYmqynNMqF/download/CatsDogs.zip\n",
        "      with zipfile.ZipFile(\"CatsDogs.zip\", 'r') as f:\n",
        "        f.extractall(\"CatsDogs\")\n",
        "    os.remove(\"CatsDogs.zip\")\n",
        "\n",
        "!mv \"./CatsDogs/CatsDogs/Cats\" \"./Cats_Dogs_data\"\n",
        "!mv \"./CatsDogs/CatsDogs/Dogs\" \"./Cats_Dogs_data\"\n",
        "\n",
        "!rm -rf CatsDogs"
      ],
      "metadata": {
        "colab": {
          "base_uri": "https://localhost:8080/"
        },
        "id": "4A8XXBVUU_o_",
        "outputId": "21abd0a9-b1f8-4d73-95a7-5a9d2e350a34"
      },
      "id": "4A8XXBVUU_o_",
      "execution_count": 7,
      "outputs": [
        {
          "output_type": "stream",
          "name": "stdout",
          "text": [
            "--2022-07-28 00:48:11--  https://unimibox.unimi.it/index.php/s/eNGYGSYmqynNMqF/download/CatsDogs.zip\n",
            "Resolving unimibox.unimi.it (unimibox.unimi.it)... 159.149.53.190\n",
            "Connecting to unimibox.unimi.it (unimibox.unimi.it)|159.149.53.190|:443... connected.\n",
            "HTTP request sent, awaiting response... 200 OK\n",
            "Length: unspecified [application/zip]\n",
            "Saving to: ‘CatsDogs.zip’\n",
            "\n",
            "CatsDogs.zip            [                <=> ] 812.79M  1.31MB/s    in 2m 22s  \n",
            "\n",
            "2022-07-28 00:50:35 (5.71 MB/s) - ‘CatsDogs.zip’ saved [852272294]\n",
            "\n"
          ]
        }
      ]
    },
    {
      "cell_type": "code",
      "source": [
        "#!rm -rf Cats_Dogs_data"
      ],
      "metadata": {
        "id": "7SIR23s4FDWB"
      },
      "id": "7SIR23s4FDWB",
      "execution_count": null,
      "outputs": []
    },
    {
      "cell_type": "code",
      "source": [
        "###RGB CONVERTER\n",
        "\n",
        "def check_channels(s_dir):\n",
        "    s_list= os.listdir(s_dir)\n",
        "    for klass in s_list:\n",
        "        klass_path=os.path.join (s_dir, klass)\n",
        "        #print ('processing class directory ', klass)\n",
        "        if os.path.isdir(klass_path):\n",
        "            file_list=os.listdir(klass_path)\n",
        "            for f in file_list:     \n",
        "                try:\n",
        "                  f_path=os.path.join (klass_path,f)        \n",
        "                  im = Image.open(f_path)\n",
        "                  rgb_im = im.convert(\"RGB\")\n",
        "                  os.remove(f_path)\n",
        "                  rgb_im.save(f_path)\n",
        "                except:\n",
        "                  os.remove(f_path)\n",
        "\n",
        "source_dir =r'./Cats_Dogs_data'\n",
        "check_channels(source_dir)"
      ],
      "metadata": {
        "id": "2lA_yxUP4_PN",
        "outputId": "208e5197-cdb9-460e-a72e-8d8d9dd7569a",
        "colab": {
          "base_uri": "https://localhost:8080/"
        }
      },
      "id": "2lA_yxUP4_PN",
      "execution_count": 8,
      "outputs": [
        {
          "output_type": "stream",
          "name": "stderr",
          "text": [
            "/usr/local/lib/python3.7/dist-packages/PIL/TiffImagePlugin.py:770: UserWarning: Possibly corrupt EXIF data.  Expecting to read 32 bytes but only got 0. Skipping tag 270\n",
            "  \" Skipping tag %s\" % (size, len(data), tag)\n",
            "/usr/local/lib/python3.7/dist-packages/PIL/TiffImagePlugin.py:770: UserWarning: Possibly corrupt EXIF data.  Expecting to read 5 bytes but only got 0. Skipping tag 271\n",
            "  \" Skipping tag %s\" % (size, len(data), tag)\n",
            "/usr/local/lib/python3.7/dist-packages/PIL/TiffImagePlugin.py:770: UserWarning: Possibly corrupt EXIF data.  Expecting to read 8 bytes but only got 0. Skipping tag 272\n",
            "  \" Skipping tag %s\" % (size, len(data), tag)\n",
            "/usr/local/lib/python3.7/dist-packages/PIL/TiffImagePlugin.py:770: UserWarning: Possibly corrupt EXIF data.  Expecting to read 8 bytes but only got 0. Skipping tag 282\n",
            "  \" Skipping tag %s\" % (size, len(data), tag)\n",
            "/usr/local/lib/python3.7/dist-packages/PIL/TiffImagePlugin.py:770: UserWarning: Possibly corrupt EXIF data.  Expecting to read 8 bytes but only got 0. Skipping tag 283\n",
            "  \" Skipping tag %s\" % (size, len(data), tag)\n",
            "/usr/local/lib/python3.7/dist-packages/PIL/TiffImagePlugin.py:770: UserWarning: Possibly corrupt EXIF data.  Expecting to read 20 bytes but only got 0. Skipping tag 306\n",
            "  \" Skipping tag %s\" % (size, len(data), tag)\n",
            "/usr/local/lib/python3.7/dist-packages/PIL/TiffImagePlugin.py:770: UserWarning: Possibly corrupt EXIF data.  Expecting to read 48 bytes but only got 0. Skipping tag 532\n",
            "  \" Skipping tag %s\" % (size, len(data), tag)\n",
            "/usr/local/lib/python3.7/dist-packages/PIL/TiffImagePlugin.py:788: UserWarning: Corrupt EXIF data.  Expecting to read 2 bytes but only got 0. \n",
            "  warnings.warn(str(msg))\n"
          ]
        }
      ]
    },
    {
      "cell_type": "code",
      "source": [
        "for root, dirs, files in os.walk(os.environ[\"data_source\"]):\n",
        "    if not files:\n",
        "        continue\n",
        "    prefix = os.path.basename(root)\n",
        "    for f in files:\n",
        "        os.rename(os.path.join(root, f), os.path.join(root, \"{}_{}\".format(prefix, f)))\n"
      ],
      "metadata": {
        "id": "Ex4vhokGyMAk"
      },
      "id": "Ex4vhokGyMAk",
      "execution_count": 9,
      "outputs": []
    },
    {
      "cell_type": "code",
      "source": [
        "for (root, dirs, file) in os.walk(os.environ[\"data_source\"]):\n",
        "  for d in dirs:\n",
        "    for f in files:\n",
        "      try:\n",
        "        #print(join(os.environ[\"data_source\"],d,d+'_'+f))\n",
        "        move(join(os.environ[\"data_source\"],d,d+'_'+f), join(os.environ[\"data_source\"],d+'_'+f))\n",
        "      except:\n",
        "        next\n",
        "\n",
        "\n",
        "!rm -rf \"./Cats_Dogs_data/Cats\"\n",
        "!rm -rf \"./Cats_Dogs_data/Dogs\"\n"
      ],
      "metadata": {
        "id": "wgsm7ZttFPG7"
      },
      "id": "wgsm7ZttFPG7",
      "execution_count": 10,
      "outputs": []
    },
    {
      "cell_type": "code",
      "source": [
        "list_of_fnames = os.listdir('./Cats_Dogs_data')\n",
        "print('Total number of of images in tmp/train is {0}'.format(len(list_of_fnames)))\n",
        "list_of_cats_fnames = [i for i in list_of_fnames if 'CAT' in i.upper()]\n",
        "list_of_dogs_fnames = [i for i in list_of_fnames if 'DOG' in i.upper()]\n",
        "TOTAL_CATS = len(list_of_cats_fnames)\n",
        "TOTAL_DOGS = len(list_of_dogs_fnames)\n",
        "print('{0} CATS images'.format(TOTAL_CATS))\n",
        "print('{0} DOGS images'.format(TOTAL_DOGS))"
      ],
      "metadata": {
        "id": "VACjq00TnKb6",
        "outputId": "440d51f4-cafb-4e4c-f272-95ab8301023e",
        "colab": {
          "base_uri": "https://localhost:8080/"
        }
      },
      "id": "VACjq00TnKb6",
      "execution_count": 11,
      "outputs": [
        {
          "output_type": "stream",
          "name": "stdout",
          "text": [
            "Total number of of images in tmp/train is 24997\n",
            "12498 CATS images\n",
            "12499 DOGS images\n"
          ]
        }
      ]
    },
    {
      "cell_type": "code",
      "source": [
        "os.makedirs(os.path.join(os.environ[\"data_source\"], 'train'))\n",
        "os.makedirs(os.path.join(os.environ[\"data_source\"], 'test'))\n",
        "train_dir = os.path.join(os.environ[\"data_source\"], 'train')\n",
        "test_dir = os.path.join(os.environ[\"data_source\"], 'test')"
      ],
      "metadata": {
        "id": "AkkslKgpOp75"
      },
      "id": "AkkslKgpOp75",
      "execution_count": 21,
      "outputs": []
    },
    {
      "cell_type": "code",
      "source": [
        "TRAIN_TEST_SPLIT_AT = 0.7\n",
        "BATCH_SIZE = 64\n",
        "TARGET_SIZE = (350, 350)\n",
        "NO_OF_EPOCHS = 2\n",
        "EXPERIMENT_SIZE = 12500\n",
        "NO_OF_FOLDS = 5"
      ],
      "metadata": {
        "id": "nqR5BTckPtkF"
      },
      "id": "nqR5BTckPtkF",
      "execution_count": 18,
      "outputs": []
    },
    {
      "cell_type": "code",
      "source": [
        "print('\\nDistributing images to \\n {0} \\n {1} \\n'\n",
        "      '\\nsuch that {2}% of total number of images goes to training and \\n'\n",
        "      '{3}% goes to test'.format(\n",
        "    train_dir,test_dir,\n",
        "    round(TRAIN_TEST_SPLIT_AT * 100),\n",
        "    round((1 - TRAIN_TEST_SPLIT_AT) * 100)))"
      ],
      "metadata": {
        "id": "N2IW5I9-Pu_5",
        "outputId": "9faba5f2-d945-44e7-e2ba-30cd2b79d285",
        "colab": {
          "base_uri": "https://localhost:8080/"
        }
      },
      "id": "N2IW5I9-Pu_5",
      "execution_count": 19,
      "outputs": [
        {
          "output_type": "stream",
          "name": "stdout",
          "text": [
            "\n",
            "Distributing images to \n",
            " ./Cats_Dogs_data/train \n",
            " ./Cats_Dogs_data/test \n",
            "\n",
            "such that 70% of total number of images goes to training and \n",
            "30% goes to test\n"
          ]
        }
      ]
    },
    {
      "cell_type": "code",
      "source": [
        "from shutil import copyfile\n",
        "\n",
        "np.random.shuffle(list_of_cats_fnames)\n",
        "np.random.shuffle(list_of_dogs_fnames)\n",
        "\n",
        "tmp_train_dir = os.path.join(os.environ[\"data_source\"])\n",
        "c = 0\n",
        "for i in list_of_cats_fnames:\n",
        "    if c < (round(TRAIN_TEST_SPLIT_AT * EXPERIMENT_SIZE)):\n",
        "        copyfile(os.path.join(tmp_train_dir, i), os.path.join(train_dir, i))\n",
        "    else:\n",
        "        copyfile(os.path.join(tmp_train_dir, i), os.path.join(test_dir, i))\n",
        "    c += 1\n",
        "    if c >= EXPERIMENT_SIZE:\n",
        "        break\n",
        "\n",
        "c = 0\n",
        "for i in list_of_dogs_fnames:\n",
        "    if c < (round(TRAIN_TEST_SPLIT_AT * EXPERIMENT_SIZE)):\n",
        "        copyfile(os.path.join(tmp_train_dir, i), os.path.join(train_dir, i))\n",
        "    else:\n",
        "        copyfile(os.path.join(tmp_train_dir, i), os.path.join(test_dir, i))\n",
        "    c += 1\n",
        "    if c >= EXPERIMENT_SIZE:\n",
        "        break\n",
        "\n",
        "print('Total training images :', len(os.listdir(train_dir)))\n",
        "print('Total test images :', len(os.listdir(test_dir)))"
      ],
      "metadata": {
        "id": "AheF0PQUQn6_",
        "outputId": "381fdf58-129a-47bb-cfdc-5b24e6f0ca25",
        "colab": {
          "base_uri": "https://localhost:8080/"
        }
      },
      "id": "AheF0PQUQn6_",
      "execution_count": 22,
      "outputs": [
        {
          "output_type": "stream",
          "name": "stdout",
          "text": [
            "Total training images : 17500\n",
            "Total test images : 7497\n"
          ]
        }
      ]
    },
    {
      "cell_type": "code",
      "source": [
        "train_X = [img_fname for img_fname in os.listdir(train_dir)]\n",
        "train_X = np.array(train_X)\n",
        "# \n",
        "train_labels = [l.split('/')[-1].split('_')[0].strip('0123456789') for l in train_X]\n",
        "train_labels = np.array(train_labels)\n",
        "# \n",
        "print ('Training shape:', train_X.shape, train_labels.shape) \n",
        "# \n",
        "print(train_X[:5], train_labels[:5])"
      ],
      "metadata": {
        "id": "gg8eqwSfRWBF",
        "outputId": "67c6437d-dd2c-4c69-ab2e-c1e547b5677a",
        "colab": {
          "base_uri": "https://localhost:8080/"
        }
      },
      "id": "gg8eqwSfRWBF",
      "execution_count": 12,
      "outputs": [
        {
          "output_type": "stream",
          "name": "stdout",
          "text": [
            "Training shape: (18000,) (18000,)\n",
            "['Cats_3149.jpg' 'Cats_11386.jpg' 'Dogs_7334.jpg' 'Cats_143.jpg'\n",
            " 'Cats_4972.jpg'] ['Cats' 'Cats' 'Dogs' 'Cats' 'Cats']\n"
          ]
        }
      ]
    },
    {
      "cell_type": "code",
      "source": [
        "def get_compiled_model():\n",
        "    # Make a simple 2-layer densely-connected neural network.\n",
        "        ###Create CNN\n",
        "    #Initialize the CNN\n",
        "    cnn = tf.keras.models.Sequential()\n",
        "     \n",
        "    \n",
        "    #DROPOUT\n",
        "    #Introduce the Convolution layer with Kernel_initializer=Sobel_x\n",
        "    #Convolution\n",
        "    cnn.add(tf.keras.layers.Conv2D(32, kernel_size=3, activation='relu',  input_shape = [350,350,3]))\n",
        "    #Pooling\n",
        "    cnn.add(tf.keras.layers.MaxPool2D(pool_size = 2, strides = 2))\n",
        "    #Convolution\n",
        "    cnn.add(tf.keras.layers.Conv2D(filters = 32, kernel_size = 3,  strides=2, activation = 'relu'))\n",
        "    #Pooling\n",
        "    cnn.add(tf.keras.layers.MaxPool2D(pool_size = 2, strides = 2))\n",
        "    #Convolution\n",
        "    cnn.add(tf.keras.layers.Conv2D(filters = 32, kernel_size = 3,  strides=2, activation = 'relu'))\n",
        "    #Pooling\n",
        "    cnn.add(tf.keras.layers.MaxPool2D(pool_size = 2, strides = 2))\n",
        "    #Flattening\n",
        "    cnn.add(tf.keras.layers.Flatten())\n",
        "    #Full Connection\n",
        "    cnn.add(tf.keras.layers.Dense(units = 256, activation = 'relu'))\n",
        "    #Output Layer\n",
        "    cnn.add(tf.keras.layers.Dense(units=1, activation = 'sigmoid'))\n",
        "    ###Training CNN\n",
        "    #Compiling the CNN\n",
        "    #cnn.compile(loss=my_loss_fn, optimizer=SGOptimizer(learning_rate=0.001))\n",
        "    cnn.compile(loss='binary_crossentropy', optimizer='adam', metrics=['accuracy'])\n",
        "    return cnn\n"
      ],
      "metadata": {
        "id": "iouQhKEX0qHn"
      },
      "id": "iouQhKEX0qHn",
      "execution_count": null,
      "outputs": []
    },
    {
      "cell_type": "code",
      "source": [
        "from keras.preprocessing.image import ImageDataGenerator\n",
        "import sklearn.model_selection as sklrn\n",
        "import pandas as pd\n",
        "\n",
        "\n",
        "def train_and_cross_validate (model, x_data, y_data, n_folds=NO_OF_FOLDS, epochs=NO_OF_EPOCHS, batch_size=BATCH_SIZE):\n",
        "    # \n",
        "    scores = []\n",
        "    \n",
        "    #  Loading images through generators ...\n",
        "    train_datagen = ImageDataGenerator(rescale=1. / 255.,\n",
        "                                       rotation_range=40,\n",
        "                                       width_shift_range=0.2,\n",
        "                                       height_shift_range=0.2,\n",
        "                                       shear_range=0.2,\n",
        "                                       zoom_range=0.2,\n",
        "                                       horizontal_flip=True)    \n",
        "    validation_datagen = ImageDataGenerator(rescale=1. / 255)\n",
        "\n",
        "    # prepare cross validation\n",
        "    kfold = sklrn.KFold(n_folds, shuffle=True, random_state=1)\n",
        "    # enumerate splits\n",
        "    FoldsSetNo = 0 \n",
        "    for train_ix, test_ix in kfold.split(x_data):\n",
        "        print ('Folds Set # {0}'.format(FoldsSetNo))\n",
        "        # select rows for train and test\n",
        "        xx_train, yy_train, xx_test, yy_test = \\\n",
        "            x_data[train_ix], y_data[train_ix], x_data[test_ix], y_data[test_ix]\n",
        "\n",
        "     # flow training images in batches for the current folds set\n",
        "        # for training         \n",
        "        train_generator = train_datagen.flow_from_dataframe(\n",
        "            dataframe = pd.DataFrame({'id':xx_train,'label':yy_train}), \n",
        "            directory=train_dir, \n",
        "            x_col='id',\n",
        "            y_col='label',\n",
        "            batch_size=batch_size,\n",
        "            target_size=TARGET_SIZE,\n",
        "            class_mode='binary',\n",
        "            shuffle = False)\n",
        "        \n",
        "                # and for validation         \n",
        "        validation_generator = validation_datagen.flow_from_dataframe(\n",
        "            dataframe = pd.DataFrame({'id':xx_test,'label':yy_test}), \n",
        "            directory=train_dir, \n",
        "            x_col='id',\n",
        "            y_col='label',\n",
        "            batch_size=batch_size,\n",
        "            target_size=TARGET_SIZE,\n",
        "            class_mode='binary',\n",
        "            shuffle=False)\n",
        "\n",
        "\n",
        "        # fit the model\n",
        "        history = model.fit(train_generator,\n",
        "                            epochs=epochs,  # The more we train the more our model fits the data\n",
        "                            batch_size=batch_size,  # Smaller batch sizes = samller steps towards convergence\n",
        "                            validation_data=validation_generator,\n",
        "                            verbose=1)\n",
        "        # store scores\n",
        "        scores.append({'acc':np.average(history.history['accuracy']),'val_acc':np.average(history.history['val_accuracy'])})\n",
        "        FoldsSetNo +=1\n",
        "    return scores\n",
        "print('Starting training and k-fold cross validation ...')\n",
        "       \n"
      ],
      "metadata": {
        "id": "LVHzi9QM07nl",
        "outputId": "f1ad2869-fd27-432e-b622-e6f99ca1ba18",
        "colab": {
          "base_uri": "https://localhost:8080/"
        }
      },
      "id": "LVHzi9QM07nl",
      "execution_count": null,
      "outputs": [
        {
          "output_type": "stream",
          "name": "stdout",
          "text": [
            "Starting training and k-fold cross validation ...\n"
          ]
        }
      ]
    },
    {
      "cell_type": "code",
      "source": [
        "model = get_compiled_model()\n",
        "scores = train_and_cross_validate(model, train_X, train_labels)"
      ],
      "metadata": {
        "id": "vR1ikWGr_Gvt",
        "outputId": "b3af8300-5d57-4ecb-ffbd-5c74568fda12",
        "colab": {
          "base_uri": "https://localhost:8080/"
        }
      },
      "id": "vR1ikWGr_Gvt",
      "execution_count": null,
      "outputs": [
        {
          "output_type": "stream",
          "name": "stdout",
          "text": [
            "Folds Set # 0\n",
            "Found 14400 validated image filenames belonging to 2 classes.\n",
            "Found 3600 validated image filenames belonging to 2 classes.\n",
            "Epoch 1/2\n",
            "225/225 [==============================] - 381s 2s/step - loss: 0.6684 - accuracy: 0.5822 - val_loss: 0.6079 - val_accuracy: 0.6756\n",
            "Epoch 2/2\n",
            "225/225 [==============================] - 384s 2s/step - loss: 0.6120 - accuracy: 0.6658 - val_loss: 0.5805 - val_accuracy: 0.6975\n",
            "Folds Set # 1\n",
            "Found 14400 validated image filenames belonging to 2 classes.\n",
            "Found 3600 validated image filenames belonging to 2 classes.\n",
            "Epoch 1/2\n",
            "225/225 [==============================] - 382s 2s/step - loss: 0.5837 - accuracy: 0.6890 - val_loss: 0.5316 - val_accuracy: 0.7250\n",
            "Epoch 2/2\n",
            "225/225 [==============================] - 379s 2s/step - loss: 0.5602 - accuracy: 0.7092 - val_loss: 0.5111 - val_accuracy: 0.7394\n",
            "Folds Set # 2\n",
            "Found 14400 validated image filenames belonging to 2 classes.\n",
            "Found 3600 validated image filenames belonging to 2 classes.\n",
            "Epoch 1/2\n",
            "225/225 [==============================] - 377s 2s/step - loss: 0.5436 - accuracy: 0.7207 - val_loss: 0.4776 - val_accuracy: 0.7700\n",
            "Epoch 2/2\n",
            "225/225 [==============================] - 378s 2s/step - loss: 0.5324 - accuracy: 0.7299 - val_loss: 0.4706 - val_accuracy: 0.7697\n",
            "Folds Set # 3\n",
            "Found 14400 validated image filenames belonging to 2 classes.\n",
            "Found 3600 validated image filenames belonging to 2 classes.\n",
            "Epoch 1/2\n",
            "225/225 [==============================] - 377s 2s/step - loss: 0.5076 - accuracy: 0.7487 - val_loss: 0.4555 - val_accuracy: 0.7761\n",
            "Epoch 2/2\n",
            "225/225 [==============================] - 377s 2s/step - loss: 0.5001 - accuracy: 0.7531 - val_loss: 0.4576 - val_accuracy: 0.7892\n",
            "Folds Set # 4\n",
            "Found 14400 validated image filenames belonging to 2 classes.\n",
            "Found 3600 validated image filenames belonging to 2 classes.\n",
            "Epoch 1/2\n",
            "225/225 [==============================] - 377s 2s/step - loss: 0.4846 - accuracy: 0.7656 - val_loss: 0.4429 - val_accuracy: 0.7964\n",
            "Epoch 2/2\n",
            "225/225 [==============================] - 377s 2s/step - loss: 0.4772 - accuracy: 0.7672 - val_loss: 0.4383 - val_accuracy: 0.7914\n"
          ]
        }
      ]
    },
    {
      "cell_type": "code",
      "source": [
        "from sklearn.metrics import zero_one_loss\n",
        "\n",
        "y_pred = model.predict(test_dataset).ravel()\n",
        "#zero_one_loss(y_pred, y_pred, normalize=False)\n",
        "y_pred"
      ],
      "metadata": {
        "id": "4biDalcViVNF",
        "outputId": "0c922185-8671-4581-f739-52efb5cbce5a",
        "colab": {
          "base_uri": "https://localhost:8080/"
        }
      },
      "id": "4biDalcViVNF",
      "execution_count": null,
      "outputs": [
        {
          "output_type": "execute_result",
          "data": {
            "text/plain": [
              "array([0.52814347, 0.639305  , 0.58729655, ..., 0.5146479 , 0.49731883,\n",
              "       0.6825872 ], dtype=float32)"
            ]
          },
          "metadata": {},
          "execution_count": 17
        }
      ]
    },
    {
      "cell_type": "code",
      "source": [
        "image_batch, label_batch = test_dataset.as_numpy_iterator().next()\n",
        "predictions = model.predict_on_batch(image_batch).flatten()\n",
        "\n",
        "#predictions = (predictions - min(predictions)) / ( max(predictions)- min(predictions))\n",
        "#predictions = np.random.uniform(-1, 1,12)\n",
        "\n",
        "#predictions = tf.nn.sigmoid(predictions)\n",
        "#predictions = tf.where(predictions > 0.51, 1, 0)\n",
        "predictions"
      ],
      "metadata": {
        "id": "z0CNewOpnBAJ",
        "outputId": "dfe31740-6e19-4ad9-a423-a22d8f62033a",
        "colab": {
          "base_uri": "https://localhost:8080/"
        }
      },
      "id": "z0CNewOpnBAJ",
      "execution_count": null,
      "outputs": [
        {
          "output_type": "execute_result",
          "data": {
            "text/plain": [
              "array([0.54735667, 0.37014982, 0.19914474, 0.3520912 , 0.5189715 ,\n",
              "       0.7231875 , 0.556296  , 0.76940703, 0.45756906, 0.45084986,\n",
              "       0.36924872, 0.3987768 , 0.4550795 , 0.9305877 , 0.51387334,\n",
              "       0.4383488 , 0.46318626, 0.25220096, 0.8987313 , 0.54308945,\n",
              "       0.46941397, 0.48927966, 0.8609631 , 0.39242685, 0.2790653 ,\n",
              "       0.5354528 , 0.49158597, 0.49265915, 0.5316476 , 0.38318717,\n",
              "       0.51743704, 0.61199087, 0.64912105, 0.5383641 , 0.56768864,\n",
              "       0.4208544 , 0.5122613 , 0.4930925 , 0.49925166, 0.42634374,\n",
              "       0.53847975, 0.56340575, 0.5367634 , 0.47395656, 0.34319946,\n",
              "       0.40270385, 0.3479511 , 0.40514725, 0.5967939 , 0.4759806 ,\n",
              "       0.33720008, 0.35755274, 0.52030027, 0.41355413, 0.48804492,\n",
              "       0.5093468 , 0.6299228 , 0.4612274 , 0.4771779 , 0.572484  ,\n",
              "       0.5024766 , 0.37528676, 0.546446  , 0.27898705], dtype=float32)"
            ]
          },
          "metadata": {},
          "execution_count": 20
        }
      ]
    },
    {
      "cell_type": "code",
      "source": [
        "from sklearn.metrics import zero_one_loss\n",
        "\n",
        "image_batch, label_batch = test_dataset.as_numpy_iterator().next()\n",
        "#predictions = model.predict_on_batch(image_batch).flatten()\n",
        "\n",
        "y_pred = model.predict(image_batch).ravel()\n",
        "print(len(y_pred))\n",
        "#y_pred = tf.nn.sigmoid(y_pred)\n",
        "y_true = y_pred * random.random ()\n",
        "y_true = tf.where(y_true > 0.51, 1, 0)\n",
        "y_pred = tf.where(y_pred > 0.51, 1, 0)\n",
        "\n",
        "\n",
        "zero_one_loss(y_true, y_pred)\n"
      ],
      "metadata": {
        "id": "IhajZQd-nbcE",
        "outputId": "4a90c763-a1f2-4a55-f454-8589b88ff21e",
        "colab": {
          "base_uri": "https://localhost:8080/"
        }
      },
      "id": "IhajZQd-nbcE",
      "execution_count": null,
      "outputs": [
        {
          "output_type": "stream",
          "name": "stdout",
          "text": [
            "64\n"
          ]
        },
        {
          "output_type": "execute_result",
          "data": {
            "text/plain": [
              "0.296875"
            ]
          },
          "metadata": {},
          "execution_count": 29
        }
      ]
    },
    {
      "cell_type": "code",
      "source": [
        "\n",
        "# Test the model on all available devices.\n",
        "model.evaluate(test_dataset)"
      ],
      "metadata": {
        "id": "hifoupSce9kk",
        "outputId": "3f19b979-4ef9-4219-c184-9323fa8c7b32",
        "colab": {
          "base_uri": "https://localhost:8080/"
        }
      },
      "id": "hifoupSce9kk",
      "execution_count": null,
      "outputs": [
        {
          "output_type": "stream",
          "name": "stdout",
          "text": [
            "23/23 [==============================] - 5s 158ms/step - loss: 0.4414 - accuracy: 0.8003\n"
          ]
        },
        {
          "output_type": "execute_result",
          "data": {
            "text/plain": [
              "[0.4414014518260956, 0.80027174949646]"
            ]
          },
          "metadata": {},
          "execution_count": 60
        }
      ]
    },
    {
      "cell_type": "code",
      "source": [
        "acc = model_fit.history['accuracy']\n",
        "val_acc = model_fit.history['val_accuracy']\n",
        "loss_ = model_fit.history['loss']\n",
        "val_loss_ = model_fit.history['val_loss']\n",
        "\n",
        "plt.figure(figsize=(8, 8))\n",
        "plt.subplot(2, 1, 1)\n",
        "plt.plot(acc, label='Training Accuracy', color = 'gray',linestyle='dashed')\n",
        "plt.plot(val_acc, label='Validation Accuracy', color = 'black')\n",
        "plt.ylim([0.5, 1])\n",
        "plt.legend(loc='lower right')\n",
        "plt.title('Training and Validation Accuracy')\n",
        "\n",
        "plt.subplot(2, 1, 2)\n",
        "plt.plot(loss_, label='Training Loss', color = 'gray',linestyle='dashed')\n",
        "plt.plot(val_loss_, label='Validation Loss', color = 'black')\n",
        "plt.ylim([0, 1.0])\n",
        "plt.legend(loc='upper right')\n",
        "plt.title('Training and Validation Loss')\n",
        "plt.xlabel('epoch')\n",
        "plt.show()\n"
      ],
      "metadata": {
        "id": "JeUtrqxxXElP",
        "outputId": "556f9b7d-3a0c-48d9-e3a9-677b5398ab5a",
        "colab": {
          "base_uri": "https://localhost:8080/",
          "height": 513
        }
      },
      "id": "JeUtrqxxXElP",
      "execution_count": null,
      "outputs": [
        {
          "output_type": "display_data",
          "data": {
            "text/plain": [
              "<Figure size 576x576 with 2 Axes>"
            ],
            "image/png": "[encoded data removed]"
          },
          "metadata": {
            "needs_background": "light"
          }
        }
      ]
    }
  ],
  "metadata": {
    "kernelspec": {
      "display_name": "Python 3 (ipykernel)",
      "language": "python",
      "name": "python3"
    },
    "language_info": {
      "codemirror_mode": {
        "name": "ipython",
        "version": 3
      },
      "file_extension": ".py",
      "mimetype": "text/x-python",
      "name": "python",
      "nbconvert_exporter": "python",
      "pygments_lexer": "ipython3",
      "version": "3.9.7"
    },
    "colab": {
      "name": "Copy of Downloads.ipynb",
      "provenance": [],
      "include_colab_link": true
    },
    "accelerator": "GPU"
  },
  "nbformat": 4,
  "nbformat_minor": 5
}