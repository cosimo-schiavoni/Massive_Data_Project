{
  "cells": [
    {
      "cell_type": "markdown",
      "metadata": {
        "id": "view-in-github",
        "colab_type": "text"
      },
      "source": [
        "<a href=\"https://colab.research.google.com/github/cosimo-schiavoni/Massive_Data_Project/blob/main/Comics_Faces_Project.ipynb\" target=\"_parent\"><img src=\"https://colab.research.google.com/assets/colab-badge.svg\" alt=\"Open In Colab\"/></a>"
      ]
    },
    {
      "cell_type": "markdown",
      "source": [
        "Check the connection to a GPU."
      ],
      "metadata": {
        "id": "u7p3Ap8y7BZO"
      },
      "id": "u7p3Ap8y7BZO"
    },
    {
      "cell_type": "code",
      "source": [
        "!nvidia-smi"
      ],
      "metadata": {
        "id": "8VThIbCShB9L",
        "outputId": "950c817c-62ab-4aee-ff6c-d99555e55595",
        "colab": {
          "base_uri": "https://localhost:8080/"
        }
      },
      "id": "8VThIbCShB9L",
      "execution_count": 1,
      "outputs": [
        {
          "output_type": "stream",
          "name": "stdout",
          "text": [
            "Tue Sep 13 23:04:17 2022       \n",
            "+-----------------------------------------------------------------------------+\n",
            "| NVIDIA-SMI 460.32.03    Driver Version: 460.32.03    CUDA Version: 11.2     |\n",
            "|-------------------------------+----------------------+----------------------+\n",
            "| GPU  Name        Persistence-M| Bus-Id        Disp.A | Volatile Uncorr. ECC |\n",
            "| Fan  Temp  Perf  Pwr:Usage/Cap|         Memory-Usage | GPU-Util  Compute M. |\n",
            "|                               |                      |               MIG M. |\n",
            "|===============================+======================+======================|\n",
            "|   0  Tesla T4            Off  | 00000000:00:04.0 Off |                    0 |\n",
            "| N/A   39C    P8     9W /  70W |      0MiB / 15109MiB |      0%      Default |\n",
            "|                               |                      |                  N/A |\n",
            "+-------------------------------+----------------------+----------------------+\n",
            "                                                                               \n",
            "+-----------------------------------------------------------------------------+\n",
            "| Processes:                                                                  |\n",
            "|  GPU   GI   CI        PID   Type   Process name                  GPU Memory |\n",
            "|        ID   ID                                                   Usage      |\n",
            "|=============================================================================|\n",
            "|  No running processes found                                                 |\n",
            "+-----------------------------------------------------------------------------+\n"
          ]
        }
      ]
    },
    {
      "cell_type": "markdown",
      "source": [
        "Install the Kaggle package."
      ],
      "metadata": {
        "id": "710Q-cFj9kvY"
      },
      "id": "710Q-cFj9kvY"
    },
    {
      "cell_type": "code",
      "source": [
        "!pip install -q kaggle"
      ],
      "metadata": {
        "id": "7C3Z3PXl7LxN"
      },
      "id": "7C3Z3PXl7LxN",
      "execution_count": 2,
      "outputs": []
    },
    {
      "cell_type": "markdown",
      "source": [
        "Load the kaggle.json file in order to execute the download of the dataset. (Each user should upload his own file)."
      ],
      "metadata": {
        "id": "oGZBU4HXOAyj"
      },
      "id": "oGZBU4HXOAyj"
    },
    {
      "cell_type": "code",
      "source": [
        "from google.colab import files\n",
        "\n",
        "files.upload()\n",
        "! mkdir ~/.kaggle\n",
        "! cp kaggle.json ~/.kaggle/\n",
        "! chmod 600 ~/.kaggle/kaggle.json"
      ],
      "metadata": {
        "colab": {
          "resources": {
            "http://localhost:8080/nbextensions/google.colab/files.js": {
              "data": "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",
              "ok": true,
              "headers": [
                [
                  "content-type",
                  "application/javascript"
                ]
              ],
              "status": 200,
              "status_text": ""
            }
          },
          "base_uri": "https://localhost:8080/",
          "height": 73
        },
        "id": "AuoAPGS5afc7",
        "outputId": "c60fbc96-52cd-4811-933c-794af756324c"
      },
      "id": "AuoAPGS5afc7",
      "execution_count": 3,
      "outputs": [
        {
          "output_type": "display_data",
          "data": {
            "text/plain": [
              "<IPython.core.display.HTML object>"
            ],
            "text/html": [
              "\n",
              "     <input type=\"file\" id=\"files-03b9e19f-8c71-4273-9ec5-270dcbeabe88\" name=\"files[]\" multiple disabled\n",
              "        style=\"border:none\" />\n",
              "     <output id=\"result-03b9e19f-8c71-4273-9ec5-270dcbeabe88\">\n",
              "      Upload widget is only available when the cell has been executed in the\n",
              "      current browser session. Please rerun this cell to enable.\n",
              "      </output>\n",
              "      <script src=\"/nbextensions/google.colab/files.js\"></script> "
            ]
          },
          "metadata": {}
        },
        {
          "output_type": "stream",
          "name": "stdout",
          "text": [
            "Saving kaggle.json to kaggle.json\n"
          ]
        }
      ]
    },
    {
      "cell_type": "markdown",
      "source": [
        "Import required libraries."
      ],
      "metadata": {
        "id": "bDXa4L1w9rPJ"
      },
      "id": "bDXa4L1w9rPJ"
    },
    {
      "cell_type": "code",
      "source": [
        "import tensorflow as tf\n",
        "from keras.models import Sequential\n",
        "from keras.layers.core import Dense, Dropout, Activation\n",
        "from keras import optimizers, regularizers\n",
        "from functools import reduce\n",
        "import os\n",
        "import zipfile\n",
        "import matplotlib\n",
        "import matplotlib.pyplot as plt\n",
        "import matplotlib.image as mpimg\n",
        "import keras\n",
        "import pickle\n",
        "import shutil\n",
        "import random\n",
        "import skimage.io as io\n",
        "from copy import deepcopy\n",
        "from kaggle.api.kaggle_api_extended import KaggleApi\n",
        "from tensorflow.keras import layers\n",
        "import numpy as np\n",
        "from shutil import move\n",
        "from os.path import join\n",
        "import os\n",
        "from google.colab import files\n",
        "from shutil import copyfile"
      ],
      "metadata": {
        "id": "o2jkdHdo7TZx"
      },
      "id": "o2jkdHdo7TZx",
      "execution_count": 1,
      "outputs": []
    },
    {
      "cell_type": "markdown",
      "source": [
        "Download the dataset from a remote repository."
      ],
      "metadata": {
        "id": "STR5925a93kc"
      },
      "id": "STR5925a93kc"
    },
    {
      "cell_type": "code",
      "source": [
        "os.environ[\"data_source\"] = \"./Face_Comics_data\"\n",
        "\n",
        "api = KaggleApi()\n",
        "api.authenticate()\n",
        "\n",
        "if not os.path.exists(os.environ[\"data_source\"]):\n",
        "  os.makedirs(os.environ[\"data_source\"])\n",
        "  if \"comic-faces-paired-synthetic-v2\" not in os.listdir():\n",
        "    if \"comic-faces-paired-synthetic-v2.zip\" not in os.listdir():\n",
        "      ! kaggle datasets download -d defileroff/comic-faces-paired-synthetic-v2\n",
        "      with zipfile.ZipFile(\"comic-faces-paired-synthetic-v2.zip\", 'r') as f:\n",
        "        f.extractall(\"comic-faces-paired-synthetic-v2\")\n",
        "    os.remove(\"comic-faces-paired-synthetic-v2.zip\")\n",
        "\n",
        "\n",
        "!mv \"./comic-faces-paired-synthetic-v2/face2comics_v2.0.0_by_Sxela/face2comics_v2.0.0_by_Sxela/comics\" \"./Face_Comics_data\"\n",
        "!mv \"./comic-faces-paired-synthetic-v2/face2comics_v2.0.0_by_Sxela/face2comics_v2.0.0_by_Sxela/faces\" \"./Face_Comics_data\"\n",
        "\n",
        "!rm -rf comic-faces-paired-synthetic-v2"
      ],
      "metadata": {
        "colab": {
          "base_uri": "https://localhost:8080/"
        },
        "id": "4A8XXBVUU_o_",
        "outputId": "89c63653-3e4e-4a93-a252-8c0b2b4de46d"
      },
      "id": "4A8XXBVUU_o_",
      "execution_count": 5,
      "outputs": [
        {
          "output_type": "stream",
          "name": "stdout",
          "text": [
            "Downloading comic-faces-paired-synthetic-v2.zip to /content\n",
            " 99% 2.16G/2.18G [00:18<00:00, 181MB/s]\n",
            "100% 2.18G/2.18G [00:18<00:00, 129MB/s]\n"
          ]
        }
      ]
    },
    {
      "cell_type": "markdown",
      "source": [
        "Create Directories for Train, Validation and Test sets"
      ],
      "metadata": {
        "id": "6lFR1rYfjyAP"
      },
      "id": "6lFR1rYfjyAP"
    },
    {
      "cell_type": "code",
      "source": [
        "os.makedirs(os.path.join(os.environ[\"data_source\"], 'train/comics'))\n",
        "os.makedirs(os.path.join(os.environ[\"data_source\"], 'train/faces'))\n",
        "os.makedirs(os.path.join(os.environ[\"data_source\"], 'validation/comics'))\n",
        "os.makedirs(os.path.join(os.environ[\"data_source\"], 'validation/faces'))\n",
        "os.makedirs(os.path.join(os.environ[\"data_source\"], 'test/comics'))\n",
        "os.makedirs(os.path.join(os.environ[\"data_source\"], 'test/faces'))\n",
        "\n",
        "tmp_comics_dir = './Face_Comics_data/comics'\n",
        "tmp_faces_dir = './Face_Comics_data/faces'\n",
        "comics_test_dir = './Face_Comics_data/test/comics'\n",
        "faces_test_dir = './Face_Comics_data/test/faces'\n",
        "comics_validation_dir = './Face_Comics_data/validation/comics'\n",
        "faces_validation_dir = './Face_Comics_data/validation/faces'\n",
        "comics_train_dir = './Face_Comics_data/train/comics'\n",
        "faces_train_dir = './Face_Comics_data/train/faces'\n",
        "train_dir = './Face_Comics_data/train'\n",
        "validation_dir = './Face_Comics_data/validation'\n",
        "test_dir = './Face_Comics_data/test'"
      ],
      "metadata": {
        "id": "HzVcdEAcGbu0"
      },
      "id": "HzVcdEAcGbu0",
      "execution_count": 2,
      "outputs": []
    },
    {
      "cell_type": "markdown",
      "source": [
        "Define global variables"
      ],
      "metadata": {
        "id": "T4rvchuTkPNf"
      },
      "id": "T4rvchuTkPNf"
    },
    {
      "cell_type": "code",
      "source": [
        "TRAIN_TEST_SPLIT_AT = 0.7\n",
        "TRAIN_VALIDATION_SPLIT_AT = 0.7\n",
        "BATCH_SIZE = 64\n",
        "EPOCHS = 45\n",
        "EXPERIMENT_SIZE = 10000"
      ],
      "metadata": {
        "id": "MaaGEvmgulkL"
      },
      "id": "MaaGEvmgulkL",
      "execution_count": 7,
      "outputs": []
    },
    {
      "cell_type": "markdown",
      "source": [
        "Split the original dataset into Train, Validation and Test sets."
      ],
      "metadata": {
        "id": "HPW_5hNZj_TR"
      },
      "id": "HPW_5hNZj_TR"
    },
    {
      "cell_type": "code",
      "source": [
        "#TEST - TRAINING SPLIT\n",
        "\n",
        "list_of_comics_images = os.listdir('./Face_Comics_data/comics')\n",
        "list_of_faces_images = os.listdir('./Face_Comics_data/faces')\n",
        "\n",
        "np.random.shuffle(list_of_comics_images)\n",
        "np.random.shuffle(list_of_faces_images)\n",
        "\n",
        "c = 0\n",
        "for i in list_of_comics_images:\n",
        "    if c < (round(TRAIN_TEST_SPLIT_AT * EXPERIMENT_SIZE)):\n",
        "      move(os.path.join(tmp_comics_dir, i), os.path.join(comics_train_dir, i))\n",
        "      c += 1\n",
        "    else:\n",
        "      move(os.path.join(tmp_comics_dir, i), os.path.join(comics_test_dir, i))\n",
        "      c += 1\n",
        "\n",
        "c = 0\n",
        "for i in list_of_faces_images:\n",
        "    if c < (round(TRAIN_TEST_SPLIT_AT * EXPERIMENT_SIZE)):\n",
        "      try:\n",
        "        move(os.path.join(tmp_faces_dir, i), os.path.join(faces_train_dir, i))\n",
        "        c += 1\n",
        "      except:\n",
        "        c+= 1\n",
        "        next\n",
        "    else:\n",
        "      move(os.path.join(tmp_faces_dir, i), os.path.join(faces_test_dir, i))\n",
        "      c += 1\n",
        "\n",
        "TRAIN_SIZE = len(os.listdir(comics_train_dir))\n",
        "\n",
        "#TRAINING - VALIDATION SPLIT\n",
        "\n",
        "list_of_comics_images = os.listdir('./Face_Comics_data/train/comics')\n",
        "list_of_faces_images = os.listdir('./Face_Comics_data/train/faces')\n",
        "\n",
        "np.random.shuffle(list_of_comics_images)\n",
        "np.random.shuffle(list_of_faces_images)\n",
        "\n",
        "c = 0\n",
        "for i in list_of_comics_images:\n",
        "    if c < (round(TRAIN_VALIDATION_SPLIT_AT * TRAIN_SIZE)):\n",
        "      c += 1\n",
        "    else:\n",
        "      move(os.path.join(comics_train_dir, i), os.path.join(comics_validation_dir, i))\n",
        "      c += 1\n",
        "\n",
        "c = 0\n",
        "for i in list_of_faces_images:\n",
        "    if c < (round(TRAIN_VALIDATION_SPLIT_AT * TRAIN_SIZE)):\n",
        "      c += 1\n",
        "    else:\n",
        "      move(os.path.join(faces_train_dir, i), os.path.join(faces_validation_dir, i))\n",
        "      c += 1\n",
        "\n",
        "print('Total training images :', len(os.listdir(comics_train_dir)) + len(os.listdir(faces_train_dir)))\n",
        "print('Total validation images :', len(os.listdir(comics_validation_dir)) + len(os.listdir(faces_validation_dir)))\n",
        "print('Total test images :', len(os.listdir(comics_test_dir)) + len(os.listdir(faces_test_dir)))"
      ],
      "metadata": {
        "id": "cxAIm2qRIEwT",
        "outputId": "2cac53f8-407a-4c9e-8d4e-4d3e28599af6",
        "colab": {
          "base_uri": "https://localhost:8080/",
          "height": 791
        }
      },
      "id": "cxAIm2qRIEwT",
      "execution_count": 3,
      "outputs": [
        {
          "output_type": "stream",
          "name": "stderr",
          "text": [
            "ERROR:root:Internal Python error in the inspect module.\n",
            "Below is the traceback from this internal error.\n",
            "\n"
          ]
        },
        {
          "output_type": "stream",
          "name": "stdout",
          "text": [
            "Traceback (most recent call last):\n",
            "  File \"/usr/local/lib/python3.7/dist-packages/IPython/core/interactiveshell.py\", line 3326, in run_code\n",
            "    exec(code_obj, self.user_global_ns, self.user_ns)\n",
            "  File \"<ipython-input-3-0d3585c4161a>\", line 43, in <module>\n",
            "    if c < (round(TRAIN_VALIDATION_SPLIT_AT * TRAIN_SIZE)):\n",
            "NameError: name 'TRAIN_VALIDATION_SPLIT_AT' is not defined\n",
            "\n",
            "During handling of the above exception, another exception occurred:\n",
            "\n",
            "Traceback (most recent call last):\n",
            "  File \"/usr/local/lib/python3.7/dist-packages/IPython/core/interactiveshell.py\", line 2040, in showtraceback\n",
            "    stb = value._render_traceback_()\n",
            "AttributeError: 'NameError' object has no attribute '_render_traceback_'\n",
            "\n",
            "During handling of the above exception, another exception occurred:\n",
            "\n",
            "Traceback (most recent call last):\n",
            "  File \"/usr/local/lib/python3.7/dist-packages/IPython/core/ultratb.py\", line 1101, in get_records\n",
            "    return _fixed_getinnerframes(etb, number_of_lines_of_context, tb_offset)\n",
            "  File \"/usr/local/lib/python3.7/dist-packages/IPython/core/ultratb.py\", line 319, in wrapped\n",
            "    return f(*args, **kwargs)\n",
            "  File \"/usr/local/lib/python3.7/dist-packages/IPython/core/ultratb.py\", line 353, in _fixed_getinnerframes\n",
            "    records = fix_frame_records_filenames(inspect.getinnerframes(etb, context))\n",
            "  File \"/usr/lib/python3.7/inspect.py\", line 1502, in getinnerframes\n",
            "    frameinfo = (tb.tb_frame,) + getframeinfo(tb, context)\n",
            "  File \"/usr/lib/python3.7/inspect.py\", line 1460, in getframeinfo\n",
            "    filename = getsourcefile(frame) or getfile(frame)\n",
            "  File \"/usr/lib/python3.7/inspect.py\", line 696, in getsourcefile\n",
            "    if getattr(getmodule(object, filename), '__loader__', None) is not None:\n",
            "  File \"/usr/lib/python3.7/inspect.py\", line 739, in getmodule\n",
            "    f = getabsfile(module)\n",
            "  File \"/usr/lib/python3.7/inspect.py\", line 709, in getabsfile\n",
            "    return os.path.normcase(os.path.abspath(_filename))\n",
            "  File \"/usr/lib/python3.7/posixpath.py\", line 385, in abspath\n",
            "    return normpath(path)\n",
            "  File \"/usr/lib/python3.7/posixpath.py\", line 366, in normpath\n",
            "    new_comps.append(comp)\n",
            "KeyboardInterrupt\n"
          ]
        },
        {
          "output_type": "error",
          "ename": "NameError",
          "evalue": "ignored",
          "traceback": [
            "\u001b[0;31m---------------------------------------------------------------------------\u001b[0m"
          ]
        }
      ]
    },
    {
      "cell_type": "markdown",
      "source": [
        "Define data augmentation functions to be implemented in the analysis."
      ],
      "metadata": {
        "id": "BqLHyph-98oz"
      },
      "id": "BqLHyph-98oz"
    },
    {
      "cell_type": "code",
      "source": [
        "#data augmentation\n",
        "\n",
        "@tf.function\n",
        "def random_invert_img(x, p=0.5):\n",
        "  if  tf.random.uniform([]) < p:\n",
        "    x = (180-x)\n",
        "  else:\n",
        "    x\n",
        "  return x\n",
        "\n",
        "###Randim invert\n",
        "@tf.function \n",
        "def random_invert(factor=0.5):\n",
        "  return layers.Lambda(lambda x: random_invert_img(x, factor))\n",
        "\n",
        "#@tf.function \n",
        "class RandomInvert(layers.Layer):\n",
        "  @tf.function \n",
        "  def __init__(self, factor=0.5, **kwargs):\n",
        "    super().__init__(**kwargs)\n",
        "    self.factor = factor\n",
        "  @tf.function \n",
        "  def call(self, x):\n",
        "    return random_invert_img(x)\n",
        "\n",
        "\n",
        "###Kernel Inizializer Sobel_x\n",
        "@tf.function \n",
        "def hedge_detector(shape, dtype=None):\n",
        "    print(shape)    \n",
        "    sobel_x = tf.constant(\n",
        "        [\n",
        "            [-5, -4, 0, 4, 5], \n",
        "            [-8, -10, 0, 10, 8], \n",
        "            [-10, -20, 0, 20, 10], \n",
        "            [-8, -10, 0, 10, 8], \n",
        "            [-5, -4, 0, 4, 5]\n",
        "        ], dtype=dtype )\n",
        "    #create the missing dims.\n",
        "    sobel_x = tf.reshape(sobel_x, (5, 5, 1, 1))\n",
        "\n",
        "    print(tf.shape(sobel_x))\n",
        "    #tile the last 2 axis to get the expected dims.\n",
        "    sobel_x = tf.tile(sobel_x, (1, 1, shape[-2],shape[-1]))\n",
        "\n",
        "    print(tf.shape(sobel_x))\n",
        "    return sobel_x\n",
        "\n",
        "@tf.function \n",
        "def vertical_detector(shape, dtype=None):\n",
        "    print(shape)    \n",
        "    sobel_x = tf.constant(\n",
        "        [\n",
        "            [1, 0, -1], \n",
        "            [1, 0, -1], \n",
        "            [1, 0, -1]\n",
        "        ], dtype=dtype )\n",
        "    #create the missing dims.\n",
        "    sobel_x = tf.reshape(sobel_x, (3, 3, 1, 1))\n",
        "\n",
        "    print(tf.shape(sobel_x))\n",
        "    #tile the last 2 axis to get the expected dims.\n",
        "    sobel_x = tf.tile(sobel_x, (1, 1, shape[-2],shape[-1]))\n",
        "\n",
        "    print(tf.shape(sobel_x))\n",
        "    return sobel_x\n",
        "\n",
        "@tf.function \n",
        "def horizontal_detector(shape, dtype=None):\n",
        "    print(shape)    \n",
        "    sobel_x = tf.constant(\n",
        "        [\n",
        "            [1, 1, 1], \n",
        "            [0, 0, 0], \n",
        "            [-1, -1, -1]\n",
        "        ], dtype=dtype )\n",
        "    #create the missing dims.\n",
        "    sobel_x = tf.reshape(sobel_x, (3, 3, 1, 1))\n",
        "\n",
        "    print(tf.shape(sobel_x))\n",
        "    #tile the last 2 axis to get the expected dims.\n",
        "    sobel_x = tf.tile(sobel_x, (1, 1, shape[-2],shape[-1]))\n",
        "\n",
        "    print(tf.shape(sobel_x))\n",
        "    return sobel_x"
      ],
      "metadata": {
        "id": "GOCGF4YHS-kc"
      },
      "id": "GOCGF4YHS-kc",
      "execution_count": 4,
      "outputs": []
    },
    {
      "cell_type": "code",
      "source": [
        "i = 0\n",
        "for j in range(5):\n",
        "    i += 1\n",
        "    globals()[\"w\" + str(i)] = i"
      ],
      "metadata": {
        "id": "phW72GMTYR7T"
      },
      "id": "phW72GMTYR7T",
      "execution_count": 17,
      "outputs": []
    },
    {
      "cell_type": "code",
      "source": [
        "w2"
      ],
      "metadata": {
        "id": "1Gjm_TgyYW7t",
        "outputId": "5bc4472c-b167-4844-8aab-7cb708e68add",
        "colab": {
          "base_uri": "https://localhost:8080/"
        }
      },
      "id": "1Gjm_TgyYW7t",
      "execution_count": 19,
      "outputs": [
        {
          "output_type": "execute_result",
          "data": {
            "text/plain": [
              "2"
            ]
          },
          "metadata": {},
          "execution_count": 19
        }
      ]
    },
    {
      "cell_type": "code",
      "source": [
        "i=1\n",
        "i = str(i)\n",
        "model_ = 'model'+i\n",
        "model_"
      ],
      "metadata": {
        "id": "NGSvPzbpZAex",
        "outputId": "8592b031-3f9a-4880-984f-6d91b1862793",
        "colab": {
          "base_uri": "https://localhost:8080/",
          "height": 35
        }
      },
      "id": "NGSvPzbpZAex",
      "execution_count": 25,
      "outputs": [
        {
          "output_type": "execute_result",
          "data": {
            "text/plain": [
              "'model1'"
            ],
            "application/vnd.google.colaboratory.intrinsic+json": {
              "type": "string"
            }
          },
          "metadata": {},
          "execution_count": 25
        }
      ]
    },
    {
      "cell_type": "code",
      "source": [
        "CONV2D_layers_number = 3\n",
        "\n",
        "\n",
        "\n",
        "for i in range(CONV2D_layers_number):\n",
        "  Dynamic_Variable_Name = \"model_\"\n",
        "  Dynamic_Variable_Name = str(Dynamic_Variable_Name)+str(i+1)\n",
        "  globals()[Dynamic_Variable_Name] = 2020+i\n",
        "\n",
        "model_3"
      ],
      "metadata": {
        "id": "Cc1ZQ8YQaard",
        "outputId": "8c4eaeb5-1b78-42d1-adb2-0102f065ffbc",
        "colab": {
          "base_uri": "https://localhost:8080/"
        }
      },
      "id": "Cc1ZQ8YQaard",
      "execution_count": 54,
      "outputs": [
        {
          "output_type": "execute_result",
          "data": {
            "text/plain": [
              "2022"
            ]
          },
          "metadata": {},
          "execution_count": 54
        }
      ]
    },
    {
      "cell_type": "code",
      "source": [
        "TRAIN_TEST_SPLIT_AT = 0.7\n",
        "TRAIN_VALIDATION_SPLIT_AT = 0.7\n",
        "BATCH_SIZE = 64\n",
        "EPOCHS = 2\n",
        "EXPERIMENT_SIZE = 10000\n",
        "ksize = 3\n",
        "\n",
        "\n",
        "CONV2D_layers_number = 3\n",
        "\n",
        "for i in range(CONV2D_layers_number):\n",
        "  Dynamic_Variable_Name = \"model_\"\n",
        "  Dynamic_Variable_Name = str(Dynamic_Variable_Name)+str(i+1)\n",
        "  globals()[Dynamic_Variable_Name] = Sequential()\n",
        "  globals()[Dynamic_Variable_Name].add(tf.keras.Sequential([\n",
        "      layers.RandomFlip(\"horizontal_and_vertical\"),\n",
        "      layers.RandomRotation(0.5),\n",
        "      layers.RandomContrast(0.1, seed=None),\n",
        "      RandomInvert(),\n",
        "      layers.RandomZoom(height_factor=(-0.2, +0.3)),\n",
        "      layers.RandomTranslation(height_factor=(-0.05, +0.05),width_factor=(-0.05, +0.05)),\n",
        "      layers.Rescaling(1./255, offset= -1)\n",
        "      ]))\n",
        "  globals()[Dynamic_Variable_Name].add(keras.Input(shape=(350, 350, 3))) \n",
        "  #b1.add(tf.keras.layers.Conv2D(32, kernel_size=5, strides=2, activation='relu',  input_shape = [350,350,3]))\n",
        "        \n",
        "  for l in range(CONV2D_layers_number):\n",
        "          globals()[Dynamic_Variable_Name].add(tf.keras.layers.Conv2D(filters = 32, kernel_size = 3,  strides=2, activation = 'relu'))\n",
        "          globals()[Dynamic_Variable_Name].add(tf.keras.layers.MaxPool2D(pool_size = 2, strides = 2))\n",
        "\n",
        "\n",
        "  globals()[Dynamic_Variable_Name].add(tf.keras.layers.Flatten())\n",
        "\n",
        "\n",
        "  globals()[Dynamic_Variable_Name].add(tf.keras.layers.Dense(units = 128, activation = 'relu'))\n",
        "  globals()[Dynamic_Variable_Name].add(tf.keras.layers.Dense(units = 1, activation = 'sigmoid'))\n",
        "\n",
        "  globals()[Dynamic_Variable_Name].compile(loss=keras.losses.categorical_crossentropy,\n",
        "                    optimizer = 'adam',\n",
        "                    metrics=['accuracy','mse'])\n"
      ],
      "metadata": {
        "id": "t1TlaWH3cT-l"
      },
      "id": "t1TlaWH3cT-l",
      "execution_count": 55,
      "outputs": []
    },
    {
      "cell_type": "code",
      "source": [
        "TRAIN_TEST_SPLIT_AT = 0.7\n",
        "TRAIN_VALIDATION_SPLIT_AT = 0.7\n",
        "BATCH_SIZE = 64\n",
        "EPOCHS = 2\n",
        "EXPERIMENT_SIZE = 10000\n",
        "ksize = 3\n",
        "\n",
        "\n",
        "\n",
        "\n",
        "CONV2D_layers_number = 3\n",
        "model_ = 'model'\n",
        "\n",
        "for i in range(CONV2D_layers_number):\n",
        "  model_ = 'model'+str(i)\n",
        "  model_ = Sequential()\n",
        "  model_.add(tf.keras.Sequential([\n",
        "      layers.RandomFlip(\"horizontal_and_vertical\"),\n",
        "      layers.RandomRotation(0.5),\n",
        "      layers.RandomContrast(0.1, seed=None),\n",
        "      RandomInvert(),\n",
        "      layers.RandomZoom(height_factor=(-0.2, +0.3)),\n",
        "      layers.RandomTranslation(height_factor=(-0.05, +0.05),width_factor=(-0.05, +0.05)),\n",
        "      layers.Rescaling(1./255, offset= -1)\n",
        "      ]))\n",
        "  model_.add(keras.Input(shape=(350, 350, 3))) \n",
        "  #b1.add(tf.keras.layers.Conv2D(32, kernel_size=5, strides=2, activation='relu',  input_shape = [350,350,3]))\n",
        "        \n",
        "  for l in range(CONV2D_layers_number):\n",
        "          model_.add(tf.keras.layers.Conv2D(filters = 32, kernel_size = 3,  strides=2, activation = 'relu'))\n",
        "          model_.add(tf.keras.layers.MaxPool2D(pool_size = 2, strides = 2))\n",
        "\n",
        "\n",
        "  model_.add(tf.keras.layers.Flatten())\n",
        "\n",
        "\n",
        "  model_.add(tf.keras.layers.Dense(units = 128, activation = 'relu'))\n",
        "  model_.add(tf.keras.layers.Dense(units = 1, activation = 'sigmoid'))\n",
        "\n",
        "  model_.compile(loss=keras.losses.categorical_crossentropy,\n",
        "                    optimizer = 'adam',\n",
        "                    metrics=['accuracy','mse'])\n"
      ],
      "metadata": {
        "id": "whO7LV74Hnqp",
        "outputId": "0fdd2cf2-2ad4-4bcb-8592-dcd4de456c81",
        "colab": {
          "base_uri": "https://localhost:8080/"
        }
      },
      "id": "whO7LV74Hnqp",
      "execution_count": 28,
      "outputs": [
        {
          "output_type": "stream",
          "name": "stderr",
          "text": [
            "WARNING:tensorflow:5 out of the last 5 calls to <function RandomInvert.__init__ at 0x7f22b4dc38c0> triggered tf.function retracing. Tracing is expensive and the excessive number of tracings could be due to (1) creating @tf.function repeatedly in a loop, (2) passing tensors with different shapes, (3) passing Python objects instead of tensors. For (1), please define your @tf.function outside of the loop. For (2), @tf.function has experimental_relax_shapes=True option that relaxes argument shapes that can avoid unnecessary retracing. For (3), please refer to https://www.tensorflow.org/guide/function#controlling_retracing and https://www.tensorflow.org/api_docs/python/tf/function for  more details.\n",
            "WARNING:tensorflow:6 out of the last 6 calls to <function RandomInvert.__init__ at 0x7f22b4dc4a70> triggered tf.function retracing. Tracing is expensive and the excessive number of tracings could be due to (1) creating @tf.function repeatedly in a loop, (2) passing tensors with different shapes, (3) passing Python objects instead of tensors. For (1), please define your @tf.function outside of the loop. For (2), @tf.function has experimental_relax_shapes=True option that relaxes argument shapes that can avoid unnecessary retracing. For (3), please refer to https://www.tensorflow.org/guide/function#controlling_retracing and https://www.tensorflow.org/api_docs/python/tf/function for  more details.\n"
          ]
        }
      ]
    },
    {
      "cell_type": "code",
      "source": [],
      "metadata": {
        "id": "dBoGVsn-Zv_q",
        "outputId": "f1ef75f1-6b13-442b-c3f0-443572a039ab",
        "colab": {
          "base_uri": "https://localhost:8080/",
          "height": 166
        }
      },
      "id": "dBoGVsn-Zv_q",
      "execution_count": 30,
      "outputs": [
        {
          "output_type": "error",
          "ename": "NameError",
          "evalue": "ignored",
          "traceback": [
            "\u001b[0;31m---------------------------------------------------------------------------\u001b[0m",
            "\u001b[0;31mNameError\u001b[0m                                 Traceback (most recent call last)",
            "\u001b[0;32m<ipython-input-30-a2b174ac6095>\u001b[0m in \u001b[0;36m<module>\u001b[0;34m\u001b[0m\n\u001b[0;32m----> 1\u001b[0;31m \u001b[0mmodel1\u001b[0m\u001b[0;34m\u001b[0m\u001b[0;34m\u001b[0m\u001b[0m\n\u001b[0m",
            "\u001b[0;31mNameError\u001b[0m: name 'model1' is not defined"
          ]
        }
      ]
    },
    {
      "cell_type": "code",
      "source": [
        "strategy = tf.distribute.MirroredStrategy()\n",
        "print(\"Number of devices: {}\".format(strategy.num_replicas_in_sync))"
      ],
      "metadata": {
        "id": "_ylZPfiSK7Mj",
        "outputId": "9d67ad09-6e4d-4b19-e0ca-9200802c2ad7",
        "colab": {
          "base_uri": "https://localhost:8080/"
        }
      },
      "id": "_ylZPfiSK7Mj",
      "execution_count": 60,
      "outputs": [
        {
          "output_type": "stream",
          "name": "stdout",
          "text": [
            "Number of devices: 1\n"
          ]
        }
      ]
    },
    {
      "cell_type": "code",
      "source": [
        "def get_dataset():\n",
        "    BUFFER_SIZE = 10000\n",
        "    IMG_SIZE = (350, 350)\n",
        "    BATCH_SIZE_PER_REPLICA = 64\n",
        "    BATCH_SIZE = BATCH_SIZE_PER_REPLICA * strategy.num_replicas_in_sync\n",
        "\n",
        "\n",
        "    tf.random.set_seed(123456)\n",
        "\n",
        "\n",
        "    train_dataset = tf.keras.preprocessing.image_dataset_from_directory(\n",
        "        train_dir,\n",
        "        shuffle=True,\n",
        "        seed=123456,\n",
        "        image_size= IMG_SIZE,\n",
        "        batch_size=BATCH_SIZE)\n",
        "\n",
        "\n",
        "    validation_dataset = tf.keras.preprocessing.image_dataset_from_directory(\n",
        "        validation_dir,\n",
        "        shuffle=True,\n",
        "        seed=123456,\n",
        "        image_size= IMG_SIZE,\n",
        "        batch_size=BATCH_SIZE)\n",
        "    \n",
        "    test_dataset = tf.keras.preprocessing.image_dataset_from_directory(\n",
        "        test_dir,\n",
        "        shuffle=True,\n",
        "        seed=123456,\n",
        "        image_size= IMG_SIZE,\n",
        "        batch_size=BATCH_SIZE)\n",
        "    \n",
        "    AUTOTUNE = tf.data.AUTOTUNE\n",
        "\n",
        "    train_dataset = train_dataset.prefetch(buffer_size=AUTOTUNE)\n",
        "    validation_dataset = validation_dataset.prefetch(buffer_size=AUTOTUNE)\n",
        "    test_dataset = test_dataset.prefetch(buffer_size=AUTOTUNE)\n",
        "\n",
        "    return (\n",
        "        train_dataset,\n",
        "        validation_dataset,\n",
        "        test_dataset\n",
        "    )\n",
        "\n",
        "def AIC(n_examples, mse, n_model_parameters):\n",
        "  AIC_SCORE = (n_examples * np.log(mse) ) + (2*n_model_parameters)\n",
        "  return AIC_SCORE\n",
        "\n",
        "\n",
        "train_dataset, validation_dataset, test_dataset = get_dataset()\n",
        "\n"
      ],
      "metadata": {
        "id": "GyFcEpN2LCDn",
        "outputId": "3d020d8c-f6ad-44b0-9ce6-0c2840c399eb",
        "colab": {
          "base_uri": "https://localhost:8080/"
        }
      },
      "id": "GyFcEpN2LCDn",
      "execution_count": 61,
      "outputs": [
        {
          "output_type": "stream",
          "name": "stdout",
          "text": [
            "Found 9800 files belonging to 2 classes.\n",
            "Found 4200 files belonging to 2 classes.\n",
            "Found 6000 files belonging to 2 classes.\n"
          ]
        }
      ]
    },
    {
      "cell_type": "code",
      "source": [
        "strategy = tf.distribute.MirroredStrategy()\n",
        "print(\"Number of devices: {}\".format(strategy.num_replicas_in_sync))\n"
      ],
      "metadata": {
        "id": "ZnbOv3Hne5Zj",
        "outputId": "0375b3a6-7a41-4f6f-ebd1-25836107501d",
        "colab": {
          "base_uri": "https://localhost:8080/"
        }
      },
      "id": "ZnbOv3Hne5Zj",
      "execution_count": 62,
      "outputs": [
        {
          "output_type": "stream",
          "name": "stdout",
          "text": [
            "Number of devices: 1\n"
          ]
        }
      ]
    },
    {
      "cell_type": "markdown",
      "source": [
        "Create a Strategy scope, and put the compiled model inside it. Run the distributed Training, Validation and Test analysis for each Model."
      ],
      "metadata": {
        "id": "qylO2hAPk4bR"
      },
      "id": "qylO2hAPk4bR"
    },
    {
      "cell_type": "code",
      "source": [
        "#train_dataset, validation_dataset, test_dataset = get_dataset()\n",
        "\n",
        "#Compute number of examples\n",
        "Example_number = 9800\n",
        "\n",
        "AIC_list = []\n",
        "MSE_list = []\n",
        "Models_parameters_n_list = []\n",
        "for n in range(1):\n",
        "  with strategy.scope():\n",
        "    model = model_(n)\n",
        "    print(f'****************************** Model n.{n+1} ******************************')\n",
        "    model_fit = model.fit(train_dataset, epochs=EPOCHS, validation_data=validation_dataset)\n",
        "    model_fit\n",
        "    model.summary()\n",
        "\n",
        "    #Retrieve MSE values for each epoch\n",
        "    Model_MSE = model_fit.history['mse']\n",
        "    MSE_list += model_fit.history['mse']\n",
        "\n",
        "    #Retrieve Parameters numbers for each model\n",
        "    stringlist = []\n",
        "    model.summary(line_length=70, print_fn=lambda x: stringlist.append(x))\n",
        "\n",
        "    substring = 'Trainable params'\n",
        "\n",
        "    c = 0\n",
        "    for n in stringlist:\n",
        "        if substring not in n:\n",
        "          c += 1\n",
        "        else:\n",
        "          break\n",
        "\n",
        "    substring = stringlist[c]  \n",
        "    Model_parameters_n = int(\"\".join([i for i in substring if i.isdigit()]))\n",
        "    Models_parameters_n_list += [Model_parameters_n]\n",
        "\n",
        "    #Aikaike Information Creterion (AIC) Computation\n",
        "    for mse_score in Model_MSE:\n",
        "      AIC_SCORE = [AIC(Example_number, mse_score , Model_parameters_n)]\n",
        "      AIC_list += AIC_SCORE\n",
        "\n",
        "    #Show training and validation graphs\n",
        "    acc = model_fit.history['accuracy']\n",
        "    val_acc = model_fit.history['val_accuracy']\n",
        "    loss_ = model_fit.history['loss']\n",
        "    val_loss_ = model_fit.history['val_loss']\n",
        "\n",
        "    plt.figure(figsize=(8, 8))\n",
        "    plt.subplot(2, 1, 1)\n",
        "    plt.plot(acc, label='Training Accuracy', color = 'gray',linestyle='dashed')\n",
        "    plt.plot(val_acc, label='Validation Accuracy', color = 'black')\n",
        "    plt.ylim([0.8, 1])\n",
        "    plt.legend(loc='lower right')\n",
        "    plt.title('Training and Validation Accuracy')\n",
        "\n",
        "    plt.subplot(2, 1, 2)\n",
        "    plt.plot(loss_, label='Training Loss', color = 'gray',linestyle='dashed')\n",
        "    plt.plot(val_loss_, label='Validation Loss', color = 'black')\n",
        "    plt.ylim([0, 1.0])\n",
        "    plt.legend(loc='upper right')\n",
        "    plt.title('Training and Validation Loss')\n",
        "    plt.xlabel('epoch')\n",
        "    plt.show()\n",
        "\n",
        "    print('****************************** Test Evaluate ******************************')\n",
        "    model.evaluate(test_dataset)\n"
      ],
      "metadata": {
        "colab": {
          "base_uri": "https://localhost:8080/",
          "height": 1000
        },
        "outputId": "937591c1-48ba-45f3-ac10-d3336a646225",
        "id": "FfGH16MAQaaT"
      },
      "execution_count": 14,
      "outputs": [
        {
          "output_type": "stream",
          "name": "stdout",
          "text": [
            "****************************** Model n.1 ******************************\n",
            "Epoch 1/2\n",
            "154/154 [==============================] - 74s 416ms/step - loss: 0.0000e+00 - accuracy: 0.4996 - mse: 0.4963 - val_loss: 0.0000e+00 - val_accuracy: 0.5000 - val_mse: 0.5000\n",
            "Epoch 2/2\n",
            "154/154 [==============================] - 68s 428ms/step - loss: 0.0000e+00 - accuracy: 0.5000 - mse: 0.5000 - val_loss: 0.0000e+00 - val_accuracy: 0.5000 - val_mse: 0.5000\n",
            "Model: \"sequential_2\"\n",
            "_________________________________________________________________\n",
            " Layer (type)                Output Shape              Param #   \n",
            "=================================================================\n",
            " sequential_3 (Sequential)   (None, 350, 350, 3)       0         \n",
            "                                                                 \n",
            " input_2 (InputLayer)        multiple                  0         \n",
            "                                                                 \n",
            " conv2d_3 (Conv2D)           (None, 174, 174, 32)      896       \n",
            "                                                                 \n",
            " max_pooling2d_3 (MaxPooling  (None, 87, 87, 32)       0         \n",
            " 2D)                                                             \n",
            "                                                                 \n",
            " conv2d_4 (Conv2D)           (None, 43, 43, 32)        9248      \n",
            "                                                                 \n",
            " max_pooling2d_4 (MaxPooling  (None, 21, 21, 32)       0         \n",
            " 2D)                                                             \n",
            "                                                                 \n",
            " conv2d_5 (Conv2D)           (None, 10, 10, 32)        9248      \n",
            "                                                                 \n",
            " max_pooling2d_5 (MaxPooling  (None, 5, 5, 32)         0         \n",
            " 2D)                                                             \n",
            "                                                                 \n",
            " flatten_1 (Flatten)         (None, 800)               0         \n",
            "                                                                 \n",
            " dense_2 (Dense)             (None, 128)               102528    \n",
            "                                                                 \n",
            " dense_3 (Dense)             (None, 1)                 129       \n",
            "                                                                 \n",
            "=================================================================\n",
            "Total params: 122,049\n",
            "Trainable params: 122,049\n",
            "Non-trainable params: 0\n",
            "_________________________________________________________________\n"
          ]
        },
        {
          "output_type": "display_data",
          "data": {
            "text/plain": [
              "<Figure size 576x576 with 2 Axes>"
            ],
            "image/png": "[encoded data removed]"
          },
          "metadata": {
            "needs_background": "light"
          }
        },
        {
          "output_type": "stream",
          "name": "stdout",
          "text": [
            "****************************** Test Evaluate ******************************\n",
            "94/94 [==============================] - 29s 274ms/step - loss: 0.0000e+00 - accuracy: 0.5000 - mse: 0.5000\n"
          ]
        }
      ],
      "id": "FfGH16MAQaaT"
    },
    {
      "cell_type": "markdown",
      "source": [
        "Show Histoical validation AIC scores graphs"
      ],
      "metadata": {
        "id": "ivPF1ijxlDOI"
      },
      "id": "ivPF1ijxlDOI"
    },
    {
      "cell_type": "code",
      "source": [
        "Model_1_AIC = AIC_list[0:EPOCHS]\n",
        "Model_2_AIC = AIC_list[EPOCHS:EPOCHS*2]\n",
        "Model_3_AIC = AIC_list[EPOCHS*2:EPOCHS*3]\n",
        "Model_4_AIC = AIC_list[EPOCHS*3:EPOCHS*4]\n",
        "\n",
        "plt.figure(figsize=(8, 8))\n",
        "plt.subplot(2, 1, 1)\n",
        "plt.plot(Model_1_AIC, label='Model_1_AIC', color = 'red')\n",
        "plt.plot(Model_2_AIC, label='Model_2_AIC', color = 'blue')\n",
        "plt.plot(Model_3_AIC, label='Model_3_AIC', color = 'yellow')\n",
        "plt.plot(Model_4_AIC, label='Model_4_AIC', color = 'green')\n",
        "plt.ylim([min(AIC_list)-500, max(AIC_list)+500])\n",
        "plt.legend(loc='lower right')\n",
        "plt.title('Validation AIC')"
      ],
      "metadata": {
        "id": "IDYnV5M5sPGT",
        "outputId": "4bca2faa-d63a-487d-f237-65f41f770429",
        "colab": {
          "base_uri": "https://localhost:8080/",
          "height": 279
        }
      },
      "id": "IDYnV5M5sPGT",
      "execution_count": 22,
      "outputs": [
        {
          "output_type": "execute_result",
          "data": {
            "text/plain": [
              "Text(0.5, 1.0, 'Validation AIC')"
            ]
          },
          "metadata": {},
          "execution_count": 22
        },
        {
          "output_type": "display_data",
          "data": {
            "text/plain": [
              "<Figure size 576x576 with 1 Axes>"
            ],
            "image/png": "[encoded data removed]"
          },
          "metadata": {
            "needs_background": "light"
          }
        }
      ]
    },
    {
      "cell_type": "markdown",
      "source": [
        "Define Historical Average AIC scores graph"
      ],
      "metadata": {
        "id": "Ps8_c_tW-tZo"
      },
      "id": "Ps8_c_tW-tZo"
    },
    {
      "cell_type": "code",
      "source": [
        "Model_1_AIC_MA = Model_1_AIC\n",
        "Model_2_AIC_MA = Model_2_AIC\n",
        "Model_3_AIC_MA = Model_3_AIC\n",
        "Model_4_AIC_MA = Model_4_AIC\n",
        "\n",
        "n = 0\n",
        "for i in Model_1_AIC:\n",
        "    avg_score_Model_1 = round(sum(Model_1_AIC[:(n+1)])/(n+1))\n",
        "    avg_score_Model_2 = round(sum(Model_2_AIC[:(n+1)])/(n+1))\n",
        "    avg_score_Model_3 = round(sum(Model_3_AIC[:(n+1)])/(n+1))\n",
        "    avg_score_Model_4 = round(sum(Model_4_AIC[:(n+1)])/(n+1))\n",
        "    Model_1_AIC_MA[n] = avg_score_Model_1\n",
        "    Model_2_AIC_MA[n] = avg_score_Model_2\n",
        "    Model_3_AIC_MA[n] = avg_score_Model_3\n",
        "    Model_4_AIC_MA[n] = avg_score_Model_4\n",
        "    n = n + 1\n",
        "\n",
        "lim = Model_1_AIC_MA + Model_2_AIC_MA + Model_3_AIC_MA + Model_4_AIC_MA\n",
        "\n",
        "Min = min(lim)\n",
        "Max = max(lim)\n",
        "\n",
        "plt.figure(figsize=(8, 8))\n",
        "plt.subplot(2, 1, 1)\n",
        "plt.plot(Model_1_AIC_MA, label='Model_1_AIC_MA', color = 'red')\n",
        "plt.plot(Model_2_AIC_MA, label='Model_2_AIC_MA', color = 'blue')\n",
        "plt.plot(Model_3_AIC_MA, label='Model_3_AIC_MA', color = 'yellow')\n",
        "plt.plot(Model_4_AIC_MA, label='Model_4_AIC_MA', color = 'green')\n",
        "plt.ylim([(Min-500), (Max+500)])\n",
        "plt.legend(bbox_to_anchor =(1.1, 1.25), ncol = 4)\n",
        "plt.title('Validation Average AIC')\n",
        "\n",
        "d = {\n",
        "  \"Normal (Model 1)\": Model_1_AIC_MA[len(Model_1_AIC)-1],\n",
        "  \"Dropout (Model 2)\": Model_2_AIC_MA[len(Model_2_AIC)-1],\n",
        "  \"L1 Regularization (Model 3)\": Model_3_AIC_MA[len(Model_3_AIC)-1],\n",
        "  \"L2 Regularization (Model 4)\": Model_4_AIC_MA[len(Model_4_AIC)-1]\n",
        "}\n",
        "\n",
        "best_model = min(d, key=d.get)\n",
        "print(f'The Best Model is: {best_model}')\n",
        "\n"
      ],
      "metadata": {
        "id": "8jOwbSSyotpt",
        "outputId": "3cda74f9-a088-4493-e276-0aa68ee7249a",
        "colab": {
          "base_uri": "https://localhost:8080/",
          "height": 307
        }
      },
      "id": "8jOwbSSyotpt",
      "execution_count": 23,
      "outputs": [
        {
          "output_type": "stream",
          "name": "stdout",
          "text": [
            "The Best Model is: Normal (Model 1)\n"
          ]
        },
        {
          "output_type": "display_data",
          "data": {
            "text/plain": [
              "<Figure size 576x576 with 1 Axes>"
            ],
            "image/png": "[encoded data removed]"
          },
          "metadata": {
            "needs_background": "light"
          }
        }
      ]
    }
  ],
  "metadata": {
    "kernelspec": {
      "display_name": "Python 3 (ipykernel)",
      "language": "python",
      "name": "python3"
    },
    "language_info": {
      "codemirror_mode": {
        "name": "ipython",
        "version": 3
      },
      "file_extension": ".py",
      "mimetype": "text/x-python",
      "name": "python",
      "nbconvert_exporter": "python",
      "pygments_lexer": "ipython3",
      "version": "3.9.7"
    },
    "colab": {
      "name": "Copy of Downloads.ipynb",
      "provenance": [],
      "include_colab_link": true
    },
    "accelerator": "GPU"
  },
  "nbformat": 4,
  "nbformat_minor": 5
}